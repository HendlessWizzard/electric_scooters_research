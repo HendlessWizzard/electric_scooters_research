{
 "cells": [
  {
   "cell_type": "markdown",
   "id": "50726192-fc18-4622-ab91-111eb13a4978",
   "metadata": {},
   "source": [
    "# Исследование закономерностей на рынке аренды электросамокатов"
   ]
  },
  {
   "cell_type": "markdown",
   "id": "9d0e1935-aa9e-4cc7-9ed2-7104cba2fbec",
   "metadata": {},
   "source": [
    "# Описание проекта:"
   ]
  },
  {
   "cell_type": "markdown",
   "id": "61f02691-af3f-4f10-8a00-9ae1dc67816c",
   "metadata": {},
   "source": [
    "## Исходные данные:\n",
    "- **Чтобы совершать поездки по городу, пользователи сервиса GoFast пользуются мобильным приложением. Сервисом можно пользоваться:**\n",
    "\n",
    "- **без подписки**\n",
    "    - `абонентская плата отсутствует`;\n",
    "    - `стоимость одной минуты поездки — 8 рублей`;\n",
    "    - `стоимость старта (начала поездки) — 50 рублей`;\n",
    "    \n",
    "- **с подпиской Ultra**  \n",
    "    - `абонентская плата — 199 рублей в месяц`;\n",
    "    - `стоимость одной минуты поездки — 6 рублей`;\n",
    "    - `стоимость старта — бесплатно`;"
   ]
  },
  {
   "cell_type": "markdown",
   "id": "59348daf-b640-4736-bc4a-f242bf44465e",
   "metadata": {},
   "source": [
    "**В основных данных есть информация о пользователях, их поездках и подписках.**"
   ]
  },
  {
   "cell_type": "markdown",
   "id": "c8de981c-e6d4-4232-a1f9-ae72b7441e46",
   "metadata": {},
   "source": [
    "**СТРУКТУРА ТАБЛИЦ С ИСХОДНЫМИ ДАННЫМИ(СТОЛБЦЫ)**"
   ]
  },
  {
   "cell_type": "markdown",
   "id": "31f409d7-407b-4ab7-b80b-93349dfacd08",
   "metadata": {},
   "source": [
    "### пользователи\n",
    "- `user_id`\t- уникальный идентификатор пользователя;  \n",
    "- `name` - \tимя пользователя;  \n",
    "- `age`\t- возраст;\n",
    "- `city` -\tгород;\n",
    "- `subscription_type` -\tтип подписки (free, ultra);"
   ]
  },
  {
   "cell_type": "markdown",
   "id": "ae5f1499-c2da-4c56-b193-dfd23b84751e",
   "metadata": {},
   "source": [
    "### поездки\n",
    "- `user_id` - \tуникальный идентификатор пользователя\n",
    "- `distance` -\tрасстояние, которое пользователь проехал в текущей сессии (в метрах)\n",
    "- `duration` - продолжительность сессии (в минутах) — время с того момента, как пользователь нажал кнопку «Начать поездку» до момента, как он нажал кнопку «Завершить поездку»\n",
    "- `date` -\tдата совершения поездки"
   ]
  },
  {
   "cell_type": "markdown",
   "id": "ffdff61d-feff-4131-abcc-1ade2a8b9450",
   "metadata": {},
   "source": [
    "### Подписки\n",
    "- `subscription_type` - тип подписки\n",
    "- `minute_price` -\tстоимость одной минуты поездки по данной подписке\n",
    "- `start_ride_price` -\tстоимость начала поездки\n",
    "- `subscription_fee` -\tстоимость ежемесячного платежа\n"
   ]
  },
  {
   "cell_type": "markdown",
   "id": "4c15805a-5ab7-40e5-860f-8539f9044c01",
   "metadata": {},
   "source": [
    "## Цель проекта:\n",
    "- `проверка гипотез с целью увеличения прибыльности компании`\n",
    "- `разработка методических рекомендаций`"
   ]
  },
  {
   "cell_type": "markdown",
   "id": "18b1e478-3205-4899-9cf2-b6f34445adaa",
   "metadata": {},
   "source": [
    "## Ход исследования"
   ]
  },
  {
   "cell_type": "markdown",
   "id": "a2873953",
   "metadata": {},
   "source": [
    "**Исходные данные о недвижимости я получу из файлов /datasets/users_go.csv,\n",
    "/datasets/rides_go.csv, /datasets/subscriptions_go.csv**\n",
    "**О качестве исходных данных ничего не известно. Поэтому перед проведением исследования понадобится обзор данных и их предобработка**\n",
    "\n",
    "**Я проверю исходные датасеты на наличие ошибок, пропусков, дубликатов и артефактов, а также оценю их влияние на исследование. За тем в предобработке поищу способы исправить ошибки в данных, которые могут привести к искажению результата. Далее создам необходимые столбцы и приступлю к выполнению исследования.**\n",
    "\n",
    "**Короткий план исследования:**\n",
    "- **Обзор данных**\n",
    "- **Предобработка**\n",
    "- **добавление недостающих столбцов**\n",
    "- **Исследование требуемых по  техническому заданию зависимостей**\n",
    "- **Общий вывод**\n",
    "- **Итоговые рекомендации**"
   ]
  },
  {
   "cell_type": "markdown",
   "id": "da59dd17",
   "metadata": {},
   "source": [
    "# Предобработка данных"
   ]
  },
  {
   "cell_type": "code",
   "execution_count": 1,
   "id": "9f680046",
   "metadata": {},
   "outputs": [],
   "source": [
    "import pandas as pd\n",
    "import matplotlib.pyplot as plt\n",
    "import datetime"
   ]
  },
  {
   "cell_type": "code",
   "execution_count": 2,
   "id": "a7b96073",
   "metadata": {
    "ExecuteTime": {
     "end_time": "2023-12-04T19:37:16.377807Z",
     "start_time": "2023-12-04T19:37:14.760706Z"
    }
   },
   "outputs": [
    {
     "data": {
      "text/html": [
       "<div>\n",
       "<style scoped>\n",
       "    .dataframe tbody tr th:only-of-type {\n",
       "        vertical-align: middle;\n",
       "    }\n",
       "\n",
       "    .dataframe tbody tr th {\n",
       "        vertical-align: top;\n",
       "    }\n",
       "\n",
       "    .dataframe thead th {\n",
       "        text-align: right;\n",
       "    }\n",
       "</style>\n",
       "<table border=\"1\" class=\"dataframe\">\n",
       "  <thead>\n",
       "    <tr style=\"text-align: right;\">\n",
       "      <th></th>\n",
       "      <th>user_id</th>\n",
       "      <th>name</th>\n",
       "      <th>age</th>\n",
       "      <th>city</th>\n",
       "      <th>subscription_type</th>\n",
       "    </tr>\n",
       "  </thead>\n",
       "  <tbody>\n",
       "    <tr>\n",
       "      <th>0</th>\n",
       "      <td>1</td>\n",
       "      <td>Кира</td>\n",
       "      <td>22</td>\n",
       "      <td>Тюмень</td>\n",
       "      <td>ultra</td>\n",
       "    </tr>\n",
       "    <tr>\n",
       "      <th>1</th>\n",
       "      <td>2</td>\n",
       "      <td>Станислав</td>\n",
       "      <td>31</td>\n",
       "      <td>Омск</td>\n",
       "      <td>ultra</td>\n",
       "    </tr>\n",
       "    <tr>\n",
       "      <th>2</th>\n",
       "      <td>3</td>\n",
       "      <td>Алексей</td>\n",
       "      <td>20</td>\n",
       "      <td>Москва</td>\n",
       "      <td>ultra</td>\n",
       "    </tr>\n",
       "    <tr>\n",
       "      <th>3</th>\n",
       "      <td>4</td>\n",
       "      <td>Константин</td>\n",
       "      <td>26</td>\n",
       "      <td>Ростов-на-Дону</td>\n",
       "      <td>ultra</td>\n",
       "    </tr>\n",
       "    <tr>\n",
       "      <th>4</th>\n",
       "      <td>5</td>\n",
       "      <td>Адель</td>\n",
       "      <td>28</td>\n",
       "      <td>Омск</td>\n",
       "      <td>ultra</td>\n",
       "    </tr>\n",
       "  </tbody>\n",
       "</table>\n",
       "</div>"
      ],
      "text/plain": [
       "   user_id        name  age            city subscription_type\n",
       "0        1        Кира   22          Тюмень             ultra\n",
       "1        2   Станислав   31            Омск             ultra\n",
       "2        3     Алексей   20          Москва             ultra\n",
       "3        4  Константин   26  Ростов-на-Дону             ultra\n",
       "4        5       Адель   28            Омск             ultra"
      ]
     },
     "metadata": {},
     "output_type": "display_data"
    },
    {
     "data": {
      "text/html": [
       "<div>\n",
       "<style scoped>\n",
       "    .dataframe tbody tr th:only-of-type {\n",
       "        vertical-align: middle;\n",
       "    }\n",
       "\n",
       "    .dataframe tbody tr th {\n",
       "        vertical-align: top;\n",
       "    }\n",
       "\n",
       "    .dataframe thead th {\n",
       "        text-align: right;\n",
       "    }\n",
       "</style>\n",
       "<table border=\"1\" class=\"dataframe\">\n",
       "  <thead>\n",
       "    <tr style=\"text-align: right;\">\n",
       "      <th></th>\n",
       "      <th>user_id</th>\n",
       "      <th>distance</th>\n",
       "      <th>duration</th>\n",
       "      <th>date</th>\n",
       "    </tr>\n",
       "  </thead>\n",
       "  <tbody>\n",
       "    <tr>\n",
       "      <th>0</th>\n",
       "      <td>1</td>\n",
       "      <td>4409.919140</td>\n",
       "      <td>25.599769</td>\n",
       "      <td>2021-01-01</td>\n",
       "    </tr>\n",
       "    <tr>\n",
       "      <th>1</th>\n",
       "      <td>1</td>\n",
       "      <td>2617.592153</td>\n",
       "      <td>15.816871</td>\n",
       "      <td>2021-01-18</td>\n",
       "    </tr>\n",
       "    <tr>\n",
       "      <th>2</th>\n",
       "      <td>1</td>\n",
       "      <td>754.159807</td>\n",
       "      <td>6.232113</td>\n",
       "      <td>2021-04-20</td>\n",
       "    </tr>\n",
       "    <tr>\n",
       "      <th>3</th>\n",
       "      <td>1</td>\n",
       "      <td>2694.783254</td>\n",
       "      <td>18.511000</td>\n",
       "      <td>2021-08-11</td>\n",
       "    </tr>\n",
       "    <tr>\n",
       "      <th>4</th>\n",
       "      <td>1</td>\n",
       "      <td>4028.687306</td>\n",
       "      <td>26.265803</td>\n",
       "      <td>2021-08-28</td>\n",
       "    </tr>\n",
       "  </tbody>\n",
       "</table>\n",
       "</div>"
      ],
      "text/plain": [
       "   user_id     distance   duration        date\n",
       "0        1  4409.919140  25.599769  2021-01-01\n",
       "1        1  2617.592153  15.816871  2021-01-18\n",
       "2        1   754.159807   6.232113  2021-04-20\n",
       "3        1  2694.783254  18.511000  2021-08-11\n",
       "4        1  4028.687306  26.265803  2021-08-28"
      ]
     },
     "metadata": {},
     "output_type": "display_data"
    },
    {
     "data": {
      "text/html": [
       "<div>\n",
       "<style scoped>\n",
       "    .dataframe tbody tr th:only-of-type {\n",
       "        vertical-align: middle;\n",
       "    }\n",
       "\n",
       "    .dataframe tbody tr th {\n",
       "        vertical-align: top;\n",
       "    }\n",
       "\n",
       "    .dataframe thead th {\n",
       "        text-align: right;\n",
       "    }\n",
       "</style>\n",
       "<table border=\"1\" class=\"dataframe\">\n",
       "  <thead>\n",
       "    <tr style=\"text-align: right;\">\n",
       "      <th></th>\n",
       "      <th>subscription_type</th>\n",
       "      <th>minute_price</th>\n",
       "      <th>start_ride_price</th>\n",
       "      <th>subscription_fee</th>\n",
       "    </tr>\n",
       "  </thead>\n",
       "  <tbody>\n",
       "    <tr>\n",
       "      <th>0</th>\n",
       "      <td>free</td>\n",
       "      <td>8</td>\n",
       "      <td>50</td>\n",
       "      <td>0</td>\n",
       "    </tr>\n",
       "    <tr>\n",
       "      <th>1</th>\n",
       "      <td>ultra</td>\n",
       "      <td>6</td>\n",
       "      <td>0</td>\n",
       "      <td>199</td>\n",
       "    </tr>\n",
       "  </tbody>\n",
       "</table>\n",
       "</div>"
      ],
      "text/plain": [
       "  subscription_type  minute_price  start_ride_price  subscription_fee\n",
       "0              free             8                50                 0\n",
       "1             ultra             6                 0               199"
      ]
     },
     "execution_count": 2,
     "metadata": {},
     "output_type": "execute_result"
    }
   ],
   "source": [
    "try:\n",
    "    users =  pd.read_csv('https://code.s3.yandex.net/datasets/users_go.csv', sep=',')\n",
    "    rides =  pd.read_csv('https://code.s3.yandex.net/datasets/rides_go.csv', sep=',')\n",
    "    subs =   pd.read_csv('https://code.s3.yandex.net/datasets/subscriptions_go.csv', sep=',')\n",
    "\n",
    "except:\n",
    "    print('Не удается загрузить исходные данные')\n",
    "display(users.head())\n",
    "display(rides.head())\n",
    "subs.head()"
   ]
  },
  {
   "cell_type": "markdown",
   "id": "e1c2248b",
   "metadata": {},
   "source": [
    "**Изучили полную информацию по исходным данным**"
   ]
  },
  {
   "cell_type": "code",
   "execution_count": 3,
   "id": "30a14a5b",
   "metadata": {
    "ExecuteTime": {
     "end_time": "2023-12-04T19:37:16.400220Z",
     "start_time": "2023-12-04T19:37:16.379807Z"
    },
    "scrolled": true
   },
   "outputs": [
    {
     "name": "stdout",
     "output_type": "stream",
     "text": [
      "<class 'pandas.core.frame.DataFrame'>\n",
      "RangeIndex: 1565 entries, 0 to 1564\n",
      "Data columns (total 5 columns):\n",
      " #   Column             Non-Null Count  Dtype \n",
      "---  ------             --------------  ----- \n",
      " 0   user_id            1565 non-null   int64 \n",
      " 1   name               1565 non-null   object\n",
      " 2   age                1565 non-null   int64 \n",
      " 3   city               1565 non-null   object\n",
      " 4   subscription_type  1565 non-null   object\n",
      "dtypes: int64(2), object(3)\n",
      "memory usage: 61.3+ KB\n",
      "<class 'pandas.core.frame.DataFrame'>\n",
      "RangeIndex: 18068 entries, 0 to 18067\n",
      "Data columns (total 4 columns):\n",
      " #   Column    Non-Null Count  Dtype  \n",
      "---  ------    --------------  -----  \n",
      " 0   user_id   18068 non-null  int64  \n",
      " 1   distance  18068 non-null  float64\n",
      " 2   duration  18068 non-null  float64\n",
      " 3   date      18068 non-null  object \n",
      "dtypes: float64(2), int64(1), object(1)\n",
      "memory usage: 564.8+ KB\n",
      "<class 'pandas.core.frame.DataFrame'>\n",
      "RangeIndex: 2 entries, 0 to 1\n",
      "Data columns (total 4 columns):\n",
      " #   Column             Non-Null Count  Dtype \n",
      "---  ------             --------------  ----- \n",
      " 0   subscription_type  2 non-null      object\n",
      " 1   minute_price       2 non-null      int64 \n",
      " 2   start_ride_price   2 non-null      int64 \n",
      " 3   subscription_fee   2 non-null      int64 \n",
      "dtypes: int64(3), object(1)\n",
      "memory usage: 192.0+ bytes\n"
     ]
    }
   ],
   "source": [
    "users.info()\n",
    "\n",
    "rides.info()\n",
    "\n",
    "subs.info()"
   ]
  },
  {
   "cell_type": "markdown",
   "id": "0eb107c5",
   "metadata": {},
   "source": [
    "## Вывод\n",
    "**В таблице `users` присутствует 1565 пользователей. Такого размера выборки хватит для объективного исследования. В таблице\n",
    "`rides` присустствует 18068 поездок(в среднем примерно по 12 поездок на человека). Основная количественная информация в исходных данных представлена типом данных *float*. Это не нужно менять, такие данные, как РАССТОЯНИЕ имеют непрерывный спектр значений.\n",
    "При этом ВОЗРАСТ представлен типом данных *int*, т.к имеет смысл рассматривать дискретный спектр возрастов. В целом все типы данных, кроме даты поездки соответствуют значения в столбцах**"
   ]
  },
  {
   "cell_type": "markdown",
   "id": "bfd7f6f9",
   "metadata": {},
   "source": [
    "## Изменение типов данных"
   ]
  },
  {
   "cell_type": "markdown",
   "id": "cd91b921",
   "metadata": {},
   "source": [
    "**Начальная оценка исходных данных показала, что столбец `date` в таблице `users` имеет тип данных int. Изменили тип данных этого столбца на datetime**"
   ]
  },
  {
   "cell_type": "code",
   "execution_count": 4,
   "id": "2ee2b6f7",
   "metadata": {
    "ExecuteTime": {
     "end_time": "2023-12-04T19:37:16.416391Z",
     "start_time": "2023-12-04T19:37:16.401323Z"
    }
   },
   "outputs": [
    {
     "name": "stdout",
     "output_type": "stream",
     "text": [
      "<class 'pandas.core.frame.DataFrame'>\n",
      "RangeIndex: 18068 entries, 0 to 18067\n",
      "Data columns (total 4 columns):\n",
      " #   Column    Non-Null Count  Dtype         \n",
      "---  ------    --------------  -----         \n",
      " 0   user_id   18068 non-null  int64         \n",
      " 1   distance  18068 non-null  float64       \n",
      " 2   duration  18068 non-null  float64       \n",
      " 3   date      18068 non-null  datetime64[ns]\n",
      "dtypes: datetime64[ns](1), float64(2), int64(1)\n",
      "memory usage: 564.8 KB\n"
     ]
    }
   ],
   "source": [
    "rides['date'] = pd.to_datetime(rides['date'], format='%Y-%m-%d')\n",
    "rides.info()"
   ]
  },
  {
   "cell_type": "markdown",
   "id": "b08b7637",
   "metadata": {},
   "source": [
    "## Удаление пропусков и дубликатов"
   ]
  },
  {
   "cell_type": "markdown",
   "id": "6b27ec38",
   "metadata": {},
   "source": [
    "### Пропуски"
   ]
  },
  {
   "cell_type": "markdown",
   "id": "89f02e62",
   "metadata": {},
   "source": [
    "**Проверили исходные таблицы на наличие дубликатов**"
   ]
  },
  {
   "cell_type": "code",
   "execution_count": 5,
   "id": "ed2c1d5b",
   "metadata": {
    "ExecuteTime": {
     "end_time": "2023-12-04T19:37:16.536093Z",
     "start_time": "2023-12-04T19:37:16.422210Z"
    }
   },
   "outputs": [
    {
     "data": {
      "text/html": [
       "<style  type=\"text/css\" >\n",
       "#T_29766_row0_col0,#T_29766_row1_col0,#T_29766_row2_col0,#T_29766_row3_col0,#T_29766_row4_col0{\n",
       "            background-color:  #3b4cc0;\n",
       "            color:  #f1f1f1;\n",
       "        }</style><table id=\"T_29766_\" ><thead>    <tr>        <th class=\"blank level0\" ></th>        <th class=\"col_heading level0 col0\" >0</th>    </tr></thead><tbody>\n",
       "                <tr>\n",
       "                        <th id=\"T_29766_level0_row0\" class=\"row_heading level0 row0\" >user_id</th>\n",
       "                        <td id=\"T_29766_row0_col0\" class=\"data row0 col0\" >0.000000</td>\n",
       "            </tr>\n",
       "            <tr>\n",
       "                        <th id=\"T_29766_level0_row1\" class=\"row_heading level0 row1\" >name</th>\n",
       "                        <td id=\"T_29766_row1_col0\" class=\"data row1 col0\" >0.000000</td>\n",
       "            </tr>\n",
       "            <tr>\n",
       "                        <th id=\"T_29766_level0_row2\" class=\"row_heading level0 row2\" >age</th>\n",
       "                        <td id=\"T_29766_row2_col0\" class=\"data row2 col0\" >0.000000</td>\n",
       "            </tr>\n",
       "            <tr>\n",
       "                        <th id=\"T_29766_level0_row3\" class=\"row_heading level0 row3\" >city</th>\n",
       "                        <td id=\"T_29766_row3_col0\" class=\"data row3 col0\" >0.000000</td>\n",
       "            </tr>\n",
       "            <tr>\n",
       "                        <th id=\"T_29766_level0_row4\" class=\"row_heading level0 row4\" >subscription_type</th>\n",
       "                        <td id=\"T_29766_row4_col0\" class=\"data row4 col0\" >0.000000</td>\n",
       "            </tr>\n",
       "    </tbody></table>"
      ],
      "text/plain": [
       "<pandas.io.formats.style.Styler at 0x7fd3f71e16d0>"
      ]
     },
     "metadata": {},
     "output_type": "display_data"
    },
    {
     "data": {
      "text/html": [
       "<style  type=\"text/css\" >\n",
       "#T_cc8d9_row0_col0,#T_cc8d9_row1_col0,#T_cc8d9_row2_col0,#T_cc8d9_row3_col0{\n",
       "            background-color:  #3b4cc0;\n",
       "            color:  #f1f1f1;\n",
       "        }</style><table id=\"T_cc8d9_\" ><thead>    <tr>        <th class=\"blank level0\" ></th>        <th class=\"col_heading level0 col0\" >0</th>    </tr></thead><tbody>\n",
       "                <tr>\n",
       "                        <th id=\"T_cc8d9_level0_row0\" class=\"row_heading level0 row0\" >user_id</th>\n",
       "                        <td id=\"T_cc8d9_row0_col0\" class=\"data row0 col0\" >0.000000</td>\n",
       "            </tr>\n",
       "            <tr>\n",
       "                        <th id=\"T_cc8d9_level0_row1\" class=\"row_heading level0 row1\" >distance</th>\n",
       "                        <td id=\"T_cc8d9_row1_col0\" class=\"data row1 col0\" >0.000000</td>\n",
       "            </tr>\n",
       "            <tr>\n",
       "                        <th id=\"T_cc8d9_level0_row2\" class=\"row_heading level0 row2\" >duration</th>\n",
       "                        <td id=\"T_cc8d9_row2_col0\" class=\"data row2 col0\" >0.000000</td>\n",
       "            </tr>\n",
       "            <tr>\n",
       "                        <th id=\"T_cc8d9_level0_row3\" class=\"row_heading level0 row3\" >date</th>\n",
       "                        <td id=\"T_cc8d9_row3_col0\" class=\"data row3 col0\" >0.000000</td>\n",
       "            </tr>\n",
       "    </tbody></table>"
      ],
      "text/plain": [
       "<pandas.io.formats.style.Styler at 0x7fd3f6fd1a60>"
      ]
     },
     "metadata": {},
     "output_type": "display_data"
    }
   ],
   "source": [
    "display(pd.DataFrame(round(users.isna().mean()*100,)).style.background_gradient('coolwarm'))\n",
    "display(pd.DataFrame(round(rides.isna().mean()*100,)).style.background_gradient('coolwarm'))"
   ]
  },
  {
   "cell_type": "markdown",
   "id": "2f1a7c5d",
   "metadata": {},
   "source": [
    "**Проверка показала, что пропуски в даннх отсутствуют**"
   ]
  },
  {
   "cell_type": "markdown",
   "id": "8431a749",
   "metadata": {},
   "source": [
    "### Дубликаты"
   ]
  },
  {
   "cell_type": "markdown",
   "id": "288b3b0a",
   "metadata": {},
   "source": [
    "#### Явные дубликаты"
   ]
  },
  {
   "cell_type": "code",
   "execution_count": 6,
   "id": "3423ca91",
   "metadata": {
    "ExecuteTime": {
     "end_time": "2023-12-04T19:37:16.565189Z",
     "start_time": "2023-12-04T19:37:16.539093Z"
    }
   },
   "outputs": [
    {
     "name": "stdout",
     "output_type": "stream",
     "text": [
      "user_id  name       age  city            subscription_type\n",
      "209      Андрей     23   Омск            ultra                2\n",
      "807      Александр  28   Екатеринбург    free                 2\n",
      "611      Владимир   28   Омск            ultra                2\n",
      "43       Стефания   22   Омск            ultra                2\n",
      "737      Мелания    27   Ростов-на-Дону  free                 2\n",
      "                                                             ..\n",
      "520      Анжелика   30   Екатеринбург    ultra                1\n",
      "519      Даниэль    22   Ростов-на-Дону  ultra                1\n",
      "518      Алиса      22   Ростов-на-Дону  ultra                1\n",
      "517      Олег       25   Краснодар       ultra                1\n",
      "1534     Альберт    25   Краснодар       free                 1\n",
      "Length: 1534, dtype: int64\n",
      "user_id  distance     duration   date      \n",
      "1        748.690645   15.041884  2021-11-22    1\n",
      "1105     3232.037291  19.120140  2021-02-24    1\n",
      "         4661.122393  21.159450  2021-03-25    1\n",
      "         4468.509613  12.937019  2021-11-28    1\n",
      "         4057.692285  21.695055  2021-06-05    1\n",
      "                                              ..\n",
      "645      4040.109793  17.100274  2021-11-26    1\n",
      "646      2635.251399  11.081349  2021-09-06    1\n",
      "         2853.140708  23.699278  2021-01-28    1\n",
      "         3442.376310  22.753041  2021-03-17    1\n",
      "1534     4928.173852  22.560373  2021-09-13    1\n",
      "Length: 18068, dtype: int64\n"
     ]
    }
   ],
   "source": [
    "print(users.value_counts())\n",
    "print(rides.value_counts())"
   ]
  },
  {
   "cell_type": "code",
   "execution_count": 7,
   "id": "0ba47f10",
   "metadata": {
    "ExecuteTime": {
     "end_time": "2023-12-04T19:37:16.587491Z",
     "start_time": "2023-12-04T19:37:16.566192Z"
    }
   },
   "outputs": [
    {
     "name": "stdout",
     "output_type": "stream",
     "text": [
      "0\n",
      "0\n"
     ]
    }
   ],
   "source": [
    "users = users.drop_duplicates().reset_index(drop=True)\n",
    "print(users.duplicated().sum())\n",
    "rides = rides.drop_duplicates().reset_index(drop=True)\n",
    "print(rides.duplicated().sum())"
   ]
  },
  {
   "cell_type": "markdown",
   "id": "ff58fb79",
   "metadata": {},
   "source": [
    "#### Неявные дубликаты"
   ]
  },
  {
   "cell_type": "markdown",
   "id": "57fd8221",
   "metadata": {},
   "source": [
    "**Проверили категориальные переменные на наличие неявных дубликатов**"
   ]
  },
  {
   "cell_type": "code",
   "execution_count": 8,
   "id": "7022fb87",
   "metadata": {
    "ExecuteTime": {
     "end_time": "2023-12-04T19:37:16.597741Z",
     "start_time": "2023-12-04T19:37:16.589462Z"
    }
   },
   "outputs": [
    {
     "data": {
      "text/plain": [
       "array(['ultra', 'free'], dtype=object)"
      ]
     },
     "execution_count": 8,
     "metadata": {},
     "output_type": "execute_result"
    }
   ],
   "source": [
    "users['subscription_type'].unique()"
   ]
  },
  {
   "cell_type": "code",
   "execution_count": 9,
   "id": "c81ed592",
   "metadata": {
    "ExecuteTime": {
     "end_time": "2023-12-04T19:37:16.606999Z",
     "start_time": "2023-12-04T19:37:16.599741Z"
    }
   },
   "outputs": [
    {
     "data": {
      "text/plain": [
       "array(['тюмень', 'омск', 'москва', 'ростов-на-дону', 'краснодар',\n",
       "       'пятигорск', 'екатеринбург', 'сочи'], dtype=object)"
      ]
     },
     "execution_count": 9,
     "metadata": {},
     "output_type": "execute_result"
    }
   ],
   "source": [
    "users['city'] = users['city'].str.lower()\n",
    "users['city'].unique()"
   ]
  },
  {
   "cell_type": "markdown",
   "id": "4f7dafe4",
   "metadata": {},
   "source": [
    "## Добавление необходимых столбцов"
   ]
  },
  {
   "cell_type": "markdown",
   "id": "641c1b95",
   "metadata": {},
   "source": [
    "**Добавили столбец с месяцем поездки**"
   ]
  },
  {
   "cell_type": "code",
   "execution_count": 10,
   "id": "5a245acb",
   "metadata": {
    "ExecuteTime": {
     "end_time": "2023-12-04T19:37:16.623470Z",
     "start_time": "2023-12-04T19:37:16.608003Z"
    },
    "scrolled": true
   },
   "outputs": [
    {
     "data": {
      "text/html": [
       "<div>\n",
       "<style scoped>\n",
       "    .dataframe tbody tr th:only-of-type {\n",
       "        vertical-align: middle;\n",
       "    }\n",
       "\n",
       "    .dataframe tbody tr th {\n",
       "        vertical-align: top;\n",
       "    }\n",
       "\n",
       "    .dataframe thead th {\n",
       "        text-align: right;\n",
       "    }\n",
       "</style>\n",
       "<table border=\"1\" class=\"dataframe\">\n",
       "  <thead>\n",
       "    <tr style=\"text-align: right;\">\n",
       "      <th></th>\n",
       "      <th>user_id</th>\n",
       "      <th>distance</th>\n",
       "      <th>duration</th>\n",
       "      <th>date</th>\n",
       "      <th>month</th>\n",
       "    </tr>\n",
       "  </thead>\n",
       "  <tbody>\n",
       "    <tr>\n",
       "      <th>0</th>\n",
       "      <td>1</td>\n",
       "      <td>4409.919140</td>\n",
       "      <td>25.599769</td>\n",
       "      <td>2021-01-01</td>\n",
       "      <td>1</td>\n",
       "    </tr>\n",
       "    <tr>\n",
       "      <th>1</th>\n",
       "      <td>1</td>\n",
       "      <td>2617.592153</td>\n",
       "      <td>15.816871</td>\n",
       "      <td>2021-01-18</td>\n",
       "      <td>1</td>\n",
       "    </tr>\n",
       "    <tr>\n",
       "      <th>2</th>\n",
       "      <td>1</td>\n",
       "      <td>754.159807</td>\n",
       "      <td>6.232113</td>\n",
       "      <td>2021-04-20</td>\n",
       "      <td>4</td>\n",
       "    </tr>\n",
       "    <tr>\n",
       "      <th>3</th>\n",
       "      <td>1</td>\n",
       "      <td>2694.783254</td>\n",
       "      <td>18.511000</td>\n",
       "      <td>2021-08-11</td>\n",
       "      <td>8</td>\n",
       "    </tr>\n",
       "    <tr>\n",
       "      <th>4</th>\n",
       "      <td>1</td>\n",
       "      <td>4028.687306</td>\n",
       "      <td>26.265803</td>\n",
       "      <td>2021-08-28</td>\n",
       "      <td>8</td>\n",
       "    </tr>\n",
       "  </tbody>\n",
       "</table>\n",
       "</div>"
      ],
      "text/plain": [
       "   user_id     distance   duration       date  month\n",
       "0        1  4409.919140  25.599769 2021-01-01      1\n",
       "1        1  2617.592153  15.816871 2021-01-18      1\n",
       "2        1   754.159807   6.232113 2021-04-20      4\n",
       "3        1  2694.783254  18.511000 2021-08-11      8\n",
       "4        1  4028.687306  26.265803 2021-08-28      8"
      ]
     },
     "execution_count": 10,
     "metadata": {},
     "output_type": "execute_result"
    }
   ],
   "source": [
    "rides['month'] = rides['date'].dt.month\n",
    "rides.head()"
   ]
  },
  {
   "cell_type": "markdown",
   "id": "4d4e6607",
   "metadata": {},
   "source": [
    "**Проверили, за какой период имеются данные**"
   ]
  },
  {
   "cell_type": "code",
   "execution_count": 11,
   "id": "ab90f071",
   "metadata": {},
   "outputs": [
    {
     "data": {
      "text/plain": [
       "array([2021])"
      ]
     },
     "execution_count": 11,
     "metadata": {},
     "output_type": "execute_result"
    }
   ],
   "source": [
    "rides['date'].dt.year.unique()"
   ]
  },
  {
   "cell_type": "markdown",
   "id": "cd7fb6fa",
   "metadata": {},
   "source": [
    "**Видно, что исходные данные содержат в себе информацию только за 2021 год, поэтому никаких дополнительных действий с добавленным столбцом делать не требуется**"
   ]
  },
  {
   "cell_type": "markdown",
   "id": "5d53158f",
   "metadata": {},
   "source": [
    "## Вывод"
   ]
  },
  {
   "cell_type": "markdown",
   "id": "c072b642",
   "metadata": {},
   "source": [
    "- **Была проведена предобработка исходных данных:**\n",
    "- **Вывели ключевую информацию по датасетам.**\n",
    "- **Проверили исходные данные на наличие пропусков. Они отсутствуют.**\n",
    "- **Далее удалили явные дубликаты(повторяюциеся строки) и убедились, что они удалились корректно. Избавились от неявных дубликатов в категориальных переменных.** \n",
    "- **Исходные данные пригодны для дальнейшего исследования.**"
   ]
  },
  {
   "cell_type": "markdown",
   "id": "deb3389d",
   "metadata": {},
   "source": [
    "# Исследовательский анализ данных"
   ]
  },
  {
   "cell_type": "markdown",
   "id": "c61a388b",
   "metadata": {},
   "source": [
    "## Частота встречаемости городов"
   ]
  },
  {
   "cell_type": "markdown",
   "id": "bf14432b",
   "metadata": {
    "ExecuteTime": {
     "end_time": "2023-11-21T11:18:58.801984Z",
     "start_time": "2023-11-21T11:18:58.796931Z"
    }
   },
   "source": [
    "**Изучили столбец с городами из исходной таблицы**"
   ]
  },
  {
   "cell_type": "code",
   "execution_count": 12,
   "id": "7af51aee",
   "metadata": {
    "ExecuteTime": {
     "end_time": "2023-12-04T19:37:16.632754Z",
     "start_time": "2023-12-04T19:37:16.627467Z"
    }
   },
   "outputs": [
    {
     "data": {
      "text/plain": [
       "пятигорск         219\n",
       "екатеринбург      204\n",
       "ростов-на-дону    198\n",
       "краснодар         193\n",
       "сочи              189\n",
       "омск              183\n",
       "тюмень            180\n",
       "москва            168\n",
       "Name: city, dtype: int64"
      ]
     },
     "execution_count": 12,
     "metadata": {},
     "output_type": "execute_result"
    }
   ],
   "source": [
    "#users.groupby('city')['user_id'].count()\n",
    "cities = users['city'].value_counts()\n",
    "cities"
   ]
  },
  {
   "cell_type": "code",
   "execution_count": 13,
   "id": "342de249",
   "metadata": {
    "scrolled": true
   },
   "outputs": [
    {
     "data": {
      "image/png": "[encoded data removed]",
      "text/plain": [
       "<Figure size 432x288 with 1 Axes>"
      ]
     },
     "metadata": {
      "needs_background": "light"
     },
     "output_type": "display_data"
    }
   ],
   "source": [
    "cities.plot.barh()\n",
    "plt.title(\"График количества пользователей для разных городов\")\n",
    "plt.xlabel(\"Количество пользователей\")\n",
    "plt.ylabel(\"Город\")\n",
    "plt.text(170, 6.9, \"168\")\n",
    "plt.text(180, 5.9, \"180\")\n",
    "plt.text(185, 4.9, \"183\")\n",
    "plt.text(190, 3.9, \"189\")\n",
    "plt.text(195, 2.9, \"193\")\n",
    "plt.text(200, 1.9, \"198\")\n",
    "plt.text(205, 0.9, \"204\")\n",
    "plt.text(217, 0, \"219\")\n",
    "plt.show()"
   ]
  },
  {
   "cell_type": "markdown",
   "id": "92ef7741",
   "metadata": {},
   "source": [
    "**Из сгруппированных данных видно, что в каждом из представленных городов присутствует достаточное для исследования количество пользователей**"
   ]
  },
  {
   "cell_type": "markdown",
   "id": "c7974b8c",
   "metadata": {},
   "source": [
    "## Соотношение пользователей с подпиской и без"
   ]
  },
  {
   "cell_type": "markdown",
   "id": "2e79a3b7",
   "metadata": {},
   "source": [
    "**Проверили, какая доля пользователей не имеет активной подписки**"
   ]
  },
  {
   "cell_type": "code",
   "execution_count": 14,
   "id": "9dccb23d",
   "metadata": {
    "ExecuteTime": {
     "end_time": "2023-12-04T19:37:16.643133Z",
     "start_time": "2023-12-04T19:37:16.633757Z"
    },
    "scrolled": true
   },
   "outputs": [
    {
     "data": {
      "text/plain": [
       "free     835\n",
       "ultra    699\n",
       "Name: subscription_type, dtype: int64"
      ]
     },
     "execution_count": 14,
     "metadata": {},
     "output_type": "execute_result"
    }
   ],
   "source": [
    "users['subscription_type'].value_counts()"
   ]
  },
  {
   "cell_type": "markdown",
   "id": "05ca88ca",
   "metadata": {},
   "source": [
    "**Для большего удобства оценки построили диограмму**"
   ]
  },
  {
   "cell_type": "code",
   "execution_count": 15,
   "id": "05ef2639",
   "metadata": {},
   "outputs": [
    {
     "data": {
      "text/plain": [
       "Text(0.5, 1.0, 'График количества пользователей с подпиской и без')"
      ]
     },
     "execution_count": 15,
     "metadata": {},
     "output_type": "execute_result"
    },
    {
     "data": {
      "image/png": "[encoded data removed]",
      "text/plain": [
       "<Figure size 432x288 with 1 Axes>"
      ]
     },
     "metadata": {},
     "output_type": "display_data"
    }
   ],
   "source": [
    "labels = ['free', 'ultra']\n",
    "users.groupby(['subscription_type']). count ().plot(kind='pie', y='user_id', labels=labels, autopct='%1.1f%%')\n",
    "plt.title(\"График количества пользователей с подпиской и без\")"
   ]
  },
  {
   "cell_type": "markdown",
   "id": "72bba629",
   "metadata": {},
   "source": [
    "**Количества пользователей с подпиской и без в исходных данных примерно одинаково. В обех группах данных достаточно для \n",
    "исследования**"
   ]
  },
  {
   "cell_type": "markdown",
   "id": "af26a8bd",
   "metadata": {},
   "source": [
    "## Возраст пользователей"
   ]
  },
  {
   "cell_type": "markdown",
   "id": "f671e06c",
   "metadata": {},
   "source": [
    "**Изучили данные столбца с возрастом пользователей.**"
   ]
  },
  {
   "cell_type": "code",
   "execution_count": 16,
   "id": "f9ac68d2",
   "metadata": {
    "ExecuteTime": {
     "end_time": "2023-12-04T19:37:17.049503Z",
     "start_time": "2023-12-04T19:37:16.644135Z"
    },
    "scrolled": true
   },
   "outputs": [
    {
     "data": {
      "text/plain": [
       "Text(0, 0.5, 'количество пользователей')"
      ]
     },
     "execution_count": 16,
     "metadata": {},
     "output_type": "execute_result"
    },
    {
     "data": {
      "image/png": "[encoded data removed]",
      "text/plain": [
       "<Figure size 432x288 with 1 Axes>"
      ]
     },
     "metadata": {
      "needs_background": "light"
     },
     "output_type": "display_data"
    }
   ],
   "source": [
    "ax = users['age'].value_counts(ascending=True).plot.bar()\n",
    "plt.title('Распределение возраста пользователей компании')\n",
    "plt.xlabel(\"возраст пользователей\")\n",
    "plt.ylabel('количество пользователей')"
   ]
  },
  {
   "cell_type": "markdown",
   "id": "0613fdde",
   "metadata": {},
   "source": [
    "**Также вычислили ключевые параметры распределения**"
   ]
  },
  {
   "cell_type": "code",
   "execution_count": 17,
   "id": "4d154d5b",
   "metadata": {},
   "outputs": [
    {
     "data": {
      "text/plain": [
       "count    1534.000000\n",
       "mean       24.903520\n",
       "std         4.572367\n",
       "min        12.000000\n",
       "25%        22.000000\n",
       "50%        25.000000\n",
       "75%        28.000000\n",
       "max        43.000000\n",
       "Name: age, dtype: float64"
      ]
     },
     "execution_count": 17,
     "metadata": {},
     "output_type": "execute_result"
    }
   ],
   "source": [
    "users['age'].describe()"
   ]
  },
  {
   "cell_type": "markdown",
   "id": "0a0e76c9",
   "metadata": {},
   "source": [
    "**Гистограмма напоминает нормальное распределение. Чаще всего самокатами пользуются люди от20 до 27 лет. Возможно, этими возрастными группаии пользователей самокаты используются для доставки**"
   ]
  },
  {
   "cell_type": "markdown",
   "id": "e203362e",
   "metadata": {},
   "source": [
    "## Расстояние, пройденное пользователем за одну поездку"
   ]
  },
  {
   "cell_type": "markdown",
   "id": "306b47be",
   "metadata": {},
   "source": [
    "**Исследовали расстояние пройденное разными пользователями за одну поездку**"
   ]
  },
  {
   "cell_type": "code",
   "execution_count": 18,
   "id": "1f5a2384",
   "metadata": {
    "ExecuteTime": {
     "end_time": "2023-12-04T19:37:17.168583Z",
     "start_time": "2023-12-04T19:37:17.051501Z"
    },
    "scrolled": true
   },
   "outputs": [
    {
     "data": {
      "image/png": "[encoded data removed]",
      "text/plain": [
       "<Figure size 432x288 with 1 Axes>"
      ]
     },
     "metadata": {
      "needs_background": "light"
     },
     "output_type": "display_data"
    }
   ],
   "source": [
    "rides.boxplot(column= 'distance')\n",
    "plt.ylabel('расстояние в метрах')\n",
    "plt.show()"
   ]
  },
  {
   "cell_type": "markdown",
   "id": "03cd61a8",
   "metadata": {},
   "source": [
    "**По диограмме размаха видно, что всреднем за каждую поездку пользователь проезжал около 3 км. Однако есть и поездки длиной 7 км. Эти \n",
    "поездки не выглядят выбросами**"
   ]
  },
  {
   "cell_type": "markdown",
   "id": "0a41a62b",
   "metadata": {},
   "source": [
    "## Продолжительность поездок"
   ]
  },
  {
   "cell_type": "code",
   "execution_count": 19,
   "id": "551dd6e8",
   "metadata": {
    "ExecuteTime": {
     "end_time": "2023-12-04T19:37:17.297963Z",
     "start_time": "2023-12-04T19:37:17.171611Z"
    }
   },
   "outputs": [
    {
     "data": {
      "image/png": "[encoded data removed]",
      "text/plain": [
       "<Figure size 432x288 with 1 Axes>"
      ]
     },
     "metadata": {
      "needs_background": "light"
     },
     "output_type": "display_data"
    }
   ],
   "source": [
    "rides.boxplot(column= 'duration')\n",
    "plt.ylabel('время поездки в минутах')\n",
    "plt.show()"
   ]
  },
  {
   "cell_type": "markdown",
   "id": "f06c47c9",
   "metadata": {},
   "source": [
    "**Из диаграммы размаха видно, что поездки в среднем длятся около 15 - 20 минут. Есть довольно много \n",
    "40-минутных поездок(Не похоже на выбросы). Однако есть несколько поездок длительностью < 1 минуты.\n",
    "Скорее всего, это не выбросы, например человек предумал брать самокат и решил пойти пешком. Данные выглядят\n",
    "пригодными для дальнейшего исследования.**"
   ]
  },
  {
   "cell_type": "markdown",
   "id": "30990411",
   "metadata": {},
   "source": [
    "# Объединие данных"
   ]
  },
  {
   "cell_type": "markdown",
   "id": "b1bc52d8",
   "metadata": {
    "ExecuteTime": {
     "end_time": "2023-11-21T19:38:18.752570Z",
     "start_time": "2023-11-21T19:38:18.743208Z"
    }
   },
   "source": [
    "**Объединили данные о пользователях, поездках и подписках в один датафрейм.**"
   ]
  },
  {
   "cell_type": "code",
   "execution_count": 20,
   "id": "7bcc8d82",
   "metadata": {
    "ExecuteTime": {
     "end_time": "2023-12-04T19:37:17.320365Z",
     "start_time": "2023-12-04T19:37:17.298965Z"
    },
    "scrolled": true
   },
   "outputs": [
    {
     "data": {
      "text/html": [
       "<div>\n",
       "<style scoped>\n",
       "    .dataframe tbody tr th:only-of-type {\n",
       "        vertical-align: middle;\n",
       "    }\n",
       "\n",
       "    .dataframe tbody tr th {\n",
       "        vertical-align: top;\n",
       "    }\n",
       "\n",
       "    .dataframe thead th {\n",
       "        text-align: right;\n",
       "    }\n",
       "</style>\n",
       "<table border=\"1\" class=\"dataframe\">\n",
       "  <thead>\n",
       "    <tr style=\"text-align: right;\">\n",
       "      <th></th>\n",
       "      <th>user_id</th>\n",
       "      <th>name</th>\n",
       "      <th>age</th>\n",
       "      <th>city</th>\n",
       "      <th>subscription_type</th>\n",
       "      <th>distance</th>\n",
       "      <th>duration</th>\n",
       "      <th>date</th>\n",
       "      <th>month</th>\n",
       "      <th>minute_price</th>\n",
       "      <th>start_ride_price</th>\n",
       "      <th>subscription_fee</th>\n",
       "    </tr>\n",
       "  </thead>\n",
       "  <tbody>\n",
       "    <tr>\n",
       "      <th>0</th>\n",
       "      <td>1</td>\n",
       "      <td>Кира</td>\n",
       "      <td>22</td>\n",
       "      <td>тюмень</td>\n",
       "      <td>ultra</td>\n",
       "      <td>4409.919140</td>\n",
       "      <td>25.599769</td>\n",
       "      <td>2021-01-01</td>\n",
       "      <td>1</td>\n",
       "      <td>6</td>\n",
       "      <td>0</td>\n",
       "      <td>199</td>\n",
       "    </tr>\n",
       "    <tr>\n",
       "      <th>1</th>\n",
       "      <td>1</td>\n",
       "      <td>Кира</td>\n",
       "      <td>22</td>\n",
       "      <td>тюмень</td>\n",
       "      <td>ultra</td>\n",
       "      <td>2617.592153</td>\n",
       "      <td>15.816871</td>\n",
       "      <td>2021-01-18</td>\n",
       "      <td>1</td>\n",
       "      <td>6</td>\n",
       "      <td>0</td>\n",
       "      <td>199</td>\n",
       "    </tr>\n",
       "    <tr>\n",
       "      <th>2</th>\n",
       "      <td>1</td>\n",
       "      <td>Кира</td>\n",
       "      <td>22</td>\n",
       "      <td>тюмень</td>\n",
       "      <td>ultra</td>\n",
       "      <td>754.159807</td>\n",
       "      <td>6.232113</td>\n",
       "      <td>2021-04-20</td>\n",
       "      <td>4</td>\n",
       "      <td>6</td>\n",
       "      <td>0</td>\n",
       "      <td>199</td>\n",
       "    </tr>\n",
       "    <tr>\n",
       "      <th>3</th>\n",
       "      <td>1</td>\n",
       "      <td>Кира</td>\n",
       "      <td>22</td>\n",
       "      <td>тюмень</td>\n",
       "      <td>ultra</td>\n",
       "      <td>2694.783254</td>\n",
       "      <td>18.511000</td>\n",
       "      <td>2021-08-11</td>\n",
       "      <td>8</td>\n",
       "      <td>6</td>\n",
       "      <td>0</td>\n",
       "      <td>199</td>\n",
       "    </tr>\n",
       "    <tr>\n",
       "      <th>4</th>\n",
       "      <td>1</td>\n",
       "      <td>Кира</td>\n",
       "      <td>22</td>\n",
       "      <td>тюмень</td>\n",
       "      <td>ultra</td>\n",
       "      <td>4028.687306</td>\n",
       "      <td>26.265803</td>\n",
       "      <td>2021-08-28</td>\n",
       "      <td>8</td>\n",
       "      <td>6</td>\n",
       "      <td>0</td>\n",
       "      <td>199</td>\n",
       "    </tr>\n",
       "    <tr>\n",
       "      <th>5</th>\n",
       "      <td>1</td>\n",
       "      <td>Кира</td>\n",
       "      <td>22</td>\n",
       "      <td>тюмень</td>\n",
       "      <td>ultra</td>\n",
       "      <td>2770.890808</td>\n",
       "      <td>16.650138</td>\n",
       "      <td>2021-10-09</td>\n",
       "      <td>10</td>\n",
       "      <td>6</td>\n",
       "      <td>0</td>\n",
       "      <td>199</td>\n",
       "    </tr>\n",
       "    <tr>\n",
       "      <th>6</th>\n",
       "      <td>1</td>\n",
       "      <td>Кира</td>\n",
       "      <td>22</td>\n",
       "      <td>тюмень</td>\n",
       "      <td>ultra</td>\n",
       "      <td>3039.020292</td>\n",
       "      <td>14.927879</td>\n",
       "      <td>2021-10-19</td>\n",
       "      <td>10</td>\n",
       "      <td>6</td>\n",
       "      <td>0</td>\n",
       "      <td>199</td>\n",
       "    </tr>\n",
       "    <tr>\n",
       "      <th>7</th>\n",
       "      <td>1</td>\n",
       "      <td>Кира</td>\n",
       "      <td>22</td>\n",
       "      <td>тюмень</td>\n",
       "      <td>ultra</td>\n",
       "      <td>2842.118050</td>\n",
       "      <td>23.117468</td>\n",
       "      <td>2021-11-06</td>\n",
       "      <td>11</td>\n",
       "      <td>6</td>\n",
       "      <td>0</td>\n",
       "      <td>199</td>\n",
       "    </tr>\n",
       "    <tr>\n",
       "      <th>8</th>\n",
       "      <td>1</td>\n",
       "      <td>Кира</td>\n",
       "      <td>22</td>\n",
       "      <td>тюмень</td>\n",
       "      <td>ultra</td>\n",
       "      <td>3412.690668</td>\n",
       "      <td>15.238072</td>\n",
       "      <td>2021-11-14</td>\n",
       "      <td>11</td>\n",
       "      <td>6</td>\n",
       "      <td>0</td>\n",
       "      <td>199</td>\n",
       "    </tr>\n",
       "    <tr>\n",
       "      <th>9</th>\n",
       "      <td>1</td>\n",
       "      <td>Кира</td>\n",
       "      <td>22</td>\n",
       "      <td>тюмень</td>\n",
       "      <td>ultra</td>\n",
       "      <td>748.690645</td>\n",
       "      <td>15.041884</td>\n",
       "      <td>2021-11-22</td>\n",
       "      <td>11</td>\n",
       "      <td>6</td>\n",
       "      <td>0</td>\n",
       "      <td>199</td>\n",
       "    </tr>\n",
       "  </tbody>\n",
       "</table>\n",
       "</div>"
      ],
      "text/plain": [
       "   user_id  name  age    city subscription_type     distance   duration  \\\n",
       "0        1  Кира   22  тюмень             ultra  4409.919140  25.599769   \n",
       "1        1  Кира   22  тюмень             ultra  2617.592153  15.816871   \n",
       "2        1  Кира   22  тюмень             ultra   754.159807   6.232113   \n",
       "3        1  Кира   22  тюмень             ultra  2694.783254  18.511000   \n",
       "4        1  Кира   22  тюмень             ultra  4028.687306  26.265803   \n",
       "5        1  Кира   22  тюмень             ultra  2770.890808  16.650138   \n",
       "6        1  Кира   22  тюмень             ultra  3039.020292  14.927879   \n",
       "7        1  Кира   22  тюмень             ultra  2842.118050  23.117468   \n",
       "8        1  Кира   22  тюмень             ultra  3412.690668  15.238072   \n",
       "9        1  Кира   22  тюмень             ultra   748.690645  15.041884   \n",
       "\n",
       "        date  month  minute_price  start_ride_price  subscription_fee  \n",
       "0 2021-01-01      1             6                 0               199  \n",
       "1 2021-01-18      1             6                 0               199  \n",
       "2 2021-04-20      4             6                 0               199  \n",
       "3 2021-08-11      8             6                 0               199  \n",
       "4 2021-08-28      8             6                 0               199  \n",
       "5 2021-10-09     10             6                 0               199  \n",
       "6 2021-10-19     10             6                 0               199  \n",
       "7 2021-11-06     11             6                 0               199  \n",
       "8 2021-11-14     11             6                 0               199  \n",
       "9 2021-11-22     11             6                 0               199  "
      ]
     },
     "execution_count": 20,
     "metadata": {},
     "output_type": "execute_result"
    }
   ],
   "source": [
    "users_all = users.merge(rides, on='user_id', how='left')\n",
    "users_all = users_all.merge(subs, on='subscription_type', how='left')\n",
    "users_all.head(10)"
   ]
  },
  {
   "cell_type": "code",
   "execution_count": 21,
   "id": "bc6b071d",
   "metadata": {},
   "outputs": [
    {
     "name": "stdout",
     "output_type": "stream",
     "text": [
      "0\n"
     ]
    },
    {
     "data": {
      "text/plain": [
       "<bound method DataFrame.info of       user_id        name  age            city subscription_type\n",
       "0           1        Кира   22          тюмень             ultra\n",
       "1           2   Станислав   31            омск             ultra\n",
       "2           3     Алексей   20          москва             ultra\n",
       "3           4  Константин   26  ростов-на-дону             ultra\n",
       "4           5       Адель   28            омск             ultra\n",
       "...       ...         ...  ...             ...               ...\n",
       "1529     1530   Ростислав   29            сочи              free\n",
       "1530     1531      Никита   25       пятигорск              free\n",
       "1531     1532     Алексей   26          тюмень              free\n",
       "1532     1533      Степан   22       краснодар              free\n",
       "1533     1534     Альберт   25       краснодар              free\n",
       "\n",
       "[1534 rows x 5 columns]>"
      ]
     },
     "metadata": {},
     "output_type": "display_data"
    }
   ],
   "source": [
    "print(users_all.duplicated().sum())\n",
    "display(users.info)"
   ]
  },
  {
   "cell_type": "markdown",
   "id": "fda8fa59",
   "metadata": {},
   "source": [
    "## Промежуточный вывод\n",
    "**Объединение таблиц прошло успешно. Не появилось пропусков. Данные не удалились**"
   ]
  },
  {
   "cell_type": "markdown",
   "id": "d694f05e",
   "metadata": {},
   "source": [
    "**Создали две дополнительные таблицы для пользователей без подписки и с подпиской**"
   ]
  },
  {
   "cell_type": "code",
   "execution_count": 22,
   "id": "7d7c760a",
   "metadata": {
    "ExecuteTime": {
     "end_time": "2023-12-04T19:37:17.350326Z",
     "start_time": "2023-12-04T19:37:17.322359Z"
    }
   },
   "outputs": [
    {
     "data": {
      "text/html": [
       "<div>\n",
       "<style scoped>\n",
       "    .dataframe tbody tr th:only-of-type {\n",
       "        vertical-align: middle;\n",
       "    }\n",
       "\n",
       "    .dataframe tbody tr th {\n",
       "        vertical-align: top;\n",
       "    }\n",
       "\n",
       "    .dataframe thead th {\n",
       "        text-align: right;\n",
       "    }\n",
       "</style>\n",
       "<table border=\"1\" class=\"dataframe\">\n",
       "  <thead>\n",
       "    <tr style=\"text-align: right;\">\n",
       "      <th></th>\n",
       "      <th>user_id</th>\n",
       "      <th>name</th>\n",
       "      <th>age</th>\n",
       "      <th>city</th>\n",
       "      <th>subscription_type</th>\n",
       "      <th>distance</th>\n",
       "      <th>duration</th>\n",
       "      <th>date</th>\n",
       "      <th>month</th>\n",
       "      <th>minute_price</th>\n",
       "      <th>start_ride_price</th>\n",
       "      <th>subscription_fee</th>\n",
       "    </tr>\n",
       "  </thead>\n",
       "  <tbody>\n",
       "    <tr>\n",
       "      <th>0</th>\n",
       "      <td>1</td>\n",
       "      <td>Кира</td>\n",
       "      <td>22</td>\n",
       "      <td>тюмень</td>\n",
       "      <td>ultra</td>\n",
       "      <td>4409.919140</td>\n",
       "      <td>25.599769</td>\n",
       "      <td>2021-01-01</td>\n",
       "      <td>1</td>\n",
       "      <td>6</td>\n",
       "      <td>0</td>\n",
       "      <td>199</td>\n",
       "    </tr>\n",
       "    <tr>\n",
       "      <th>1</th>\n",
       "      <td>1</td>\n",
       "      <td>Кира</td>\n",
       "      <td>22</td>\n",
       "      <td>тюмень</td>\n",
       "      <td>ultra</td>\n",
       "      <td>2617.592153</td>\n",
       "      <td>15.816871</td>\n",
       "      <td>2021-01-18</td>\n",
       "      <td>1</td>\n",
       "      <td>6</td>\n",
       "      <td>0</td>\n",
       "      <td>199</td>\n",
       "    </tr>\n",
       "    <tr>\n",
       "      <th>2</th>\n",
       "      <td>1</td>\n",
       "      <td>Кира</td>\n",
       "      <td>22</td>\n",
       "      <td>тюмень</td>\n",
       "      <td>ultra</td>\n",
       "      <td>754.159807</td>\n",
       "      <td>6.232113</td>\n",
       "      <td>2021-04-20</td>\n",
       "      <td>4</td>\n",
       "      <td>6</td>\n",
       "      <td>0</td>\n",
       "      <td>199</td>\n",
       "    </tr>\n",
       "    <tr>\n",
       "      <th>3</th>\n",
       "      <td>1</td>\n",
       "      <td>Кира</td>\n",
       "      <td>22</td>\n",
       "      <td>тюмень</td>\n",
       "      <td>ultra</td>\n",
       "      <td>2694.783254</td>\n",
       "      <td>18.511000</td>\n",
       "      <td>2021-08-11</td>\n",
       "      <td>8</td>\n",
       "      <td>6</td>\n",
       "      <td>0</td>\n",
       "      <td>199</td>\n",
       "    </tr>\n",
       "    <tr>\n",
       "      <th>4</th>\n",
       "      <td>1</td>\n",
       "      <td>Кира</td>\n",
       "      <td>22</td>\n",
       "      <td>тюмень</td>\n",
       "      <td>ultra</td>\n",
       "      <td>4028.687306</td>\n",
       "      <td>26.265803</td>\n",
       "      <td>2021-08-28</td>\n",
       "      <td>8</td>\n",
       "      <td>6</td>\n",
       "      <td>0</td>\n",
       "      <td>199</td>\n",
       "    </tr>\n",
       "  </tbody>\n",
       "</table>\n",
       "</div>"
      ],
      "text/plain": [
       "   user_id  name  age    city subscription_type     distance   duration  \\\n",
       "0        1  Кира   22  тюмень             ultra  4409.919140  25.599769   \n",
       "1        1  Кира   22  тюмень             ultra  2617.592153  15.816871   \n",
       "2        1  Кира   22  тюмень             ultra   754.159807   6.232113   \n",
       "3        1  Кира   22  тюмень             ultra  2694.783254  18.511000   \n",
       "4        1  Кира   22  тюмень             ultra  4028.687306  26.265803   \n",
       "\n",
       "        date  month  minute_price  start_ride_price  subscription_fee  \n",
       "0 2021-01-01      1             6                 0               199  \n",
       "1 2021-01-18      1             6                 0               199  \n",
       "2 2021-04-20      4             6                 0               199  \n",
       "3 2021-08-11      8             6                 0               199  \n",
       "4 2021-08-28      8             6                 0               199  "
      ]
     },
     "metadata": {},
     "output_type": "display_data"
    },
    {
     "data": {
      "text/html": [
       "<div>\n",
       "<style scoped>\n",
       "    .dataframe tbody tr th:only-of-type {\n",
       "        vertical-align: middle;\n",
       "    }\n",
       "\n",
       "    .dataframe tbody tr th {\n",
       "        vertical-align: top;\n",
       "    }\n",
       "\n",
       "    .dataframe thead th {\n",
       "        text-align: right;\n",
       "    }\n",
       "</style>\n",
       "<table border=\"1\" class=\"dataframe\">\n",
       "  <thead>\n",
       "    <tr style=\"text-align: right;\">\n",
       "      <th></th>\n",
       "      <th>user_id</th>\n",
       "      <th>name</th>\n",
       "      <th>age</th>\n",
       "      <th>city</th>\n",
       "      <th>subscription_type</th>\n",
       "      <th>distance</th>\n",
       "      <th>duration</th>\n",
       "      <th>date</th>\n",
       "      <th>month</th>\n",
       "      <th>minute_price</th>\n",
       "      <th>start_ride_price</th>\n",
       "      <th>subscription_fee</th>\n",
       "    </tr>\n",
       "  </thead>\n",
       "  <tbody>\n",
       "    <tr>\n",
       "      <th>6500</th>\n",
       "      <td>700</td>\n",
       "      <td>Айдар</td>\n",
       "      <td>22</td>\n",
       "      <td>омск</td>\n",
       "      <td>free</td>\n",
       "      <td>2515.690719</td>\n",
       "      <td>14.944286</td>\n",
       "      <td>2021-01-02</td>\n",
       "      <td>1</td>\n",
       "      <td>8</td>\n",
       "      <td>50</td>\n",
       "      <td>0</td>\n",
       "    </tr>\n",
       "    <tr>\n",
       "      <th>6501</th>\n",
       "      <td>700</td>\n",
       "      <td>Айдар</td>\n",
       "      <td>22</td>\n",
       "      <td>омск</td>\n",
       "      <td>free</td>\n",
       "      <td>846.932642</td>\n",
       "      <td>16.234663</td>\n",
       "      <td>2021-02-01</td>\n",
       "      <td>2</td>\n",
       "      <td>8</td>\n",
       "      <td>50</td>\n",
       "      <td>0</td>\n",
       "    </tr>\n",
       "    <tr>\n",
       "      <th>6502</th>\n",
       "      <td>700</td>\n",
       "      <td>Айдар</td>\n",
       "      <td>22</td>\n",
       "      <td>омск</td>\n",
       "      <td>free</td>\n",
       "      <td>4004.434142</td>\n",
       "      <td>20.016628</td>\n",
       "      <td>2021-02-04</td>\n",
       "      <td>2</td>\n",
       "      <td>8</td>\n",
       "      <td>50</td>\n",
       "      <td>0</td>\n",
       "    </tr>\n",
       "    <tr>\n",
       "      <th>6503</th>\n",
       "      <td>700</td>\n",
       "      <td>Айдар</td>\n",
       "      <td>22</td>\n",
       "      <td>омск</td>\n",
       "      <td>free</td>\n",
       "      <td>1205.911290</td>\n",
       "      <td>9.782872</td>\n",
       "      <td>2021-02-10</td>\n",
       "      <td>2</td>\n",
       "      <td>8</td>\n",
       "      <td>50</td>\n",
       "      <td>0</td>\n",
       "    </tr>\n",
       "    <tr>\n",
       "      <th>6504</th>\n",
       "      <td>700</td>\n",
       "      <td>Айдар</td>\n",
       "      <td>22</td>\n",
       "      <td>омск</td>\n",
       "      <td>free</td>\n",
       "      <td>3047.379435</td>\n",
       "      <td>17.427673</td>\n",
       "      <td>2021-02-14</td>\n",
       "      <td>2</td>\n",
       "      <td>8</td>\n",
       "      <td>50</td>\n",
       "      <td>0</td>\n",
       "    </tr>\n",
       "  </tbody>\n",
       "</table>\n",
       "</div>"
      ],
      "text/plain": [
       "      user_id   name  age  city subscription_type     distance   duration  \\\n",
       "6500      700  Айдар   22  омск              free  2515.690719  14.944286   \n",
       "6501      700  Айдар   22  омск              free   846.932642  16.234663   \n",
       "6502      700  Айдар   22  омск              free  4004.434142  20.016628   \n",
       "6503      700  Айдар   22  омск              free  1205.911290   9.782872   \n",
       "6504      700  Айдар   22  омск              free  3047.379435  17.427673   \n",
       "\n",
       "           date  month  minute_price  start_ride_price  subscription_fee  \n",
       "6500 2021-01-02      1             8                50                 0  \n",
       "6501 2021-02-01      2             8                50                 0  \n",
       "6502 2021-02-04      2             8                50                 0  \n",
       "6503 2021-02-10      2             8                50                 0  \n",
       "6504 2021-02-14      2             8                50                 0  "
      ]
     },
     "execution_count": 22,
     "metadata": {},
     "output_type": "execute_result"
    }
   ],
   "source": [
    "users_free = users_all.query('subscription_type==\"free\"')\n",
    "users_ultra = users_all.query('subscription_type==\"ultra\"')\n",
    "display(users_ultra.head())\n",
    "users_free.head()"
   ]
  },
  {
   "cell_type": "markdown",
   "id": "b7691f68",
   "metadata": {},
   "source": [
    "**Визуализировали эти таблицы**"
   ]
  },
  {
   "cell_type": "markdown",
   "id": "9cacbf8e",
   "metadata": {},
   "source": [
    "## Расстояние поездок"
   ]
  },
  {
   "cell_type": "markdown",
   "id": "f4750fd2",
   "metadata": {},
   "source": [
    "### Визуализация"
   ]
  },
  {
   "cell_type": "code",
   "execution_count": 23,
   "id": "0659f6d4",
   "metadata": {
    "ExecuteTime": {
     "end_time": "2023-12-04T19:37:17.569676Z",
     "start_time": "2023-12-04T19:37:17.356273Z"
    }
   },
   "outputs": [
    {
     "data": {
      "image/png": "[encoded data removed]",
      "text/plain": [
       "<Figure size 432x432 with 1 Axes>"
      ]
     },
     "metadata": {
      "needs_background": "light"
     },
     "output_type": "display_data"
    }
   ],
   "source": [
    "users_free['distance'].hist(color='blue', figsize=(6, 6))\n",
    "plt.xlabel('Пройденное расстояние')\n",
    "\n",
    "users_ultra['distance'].hist(color='red', figsize=(6, 6))\n",
    "plt.title('Расстояние, пройденное пользователями с подпиской и без за одну поездку')\n",
    "plt.legend(['free', 'ultra'], loc='upper right', title='Пользователи')\n",
    "\n",
    "plt.show()"
   ]
  },
  {
   "cell_type": "markdown",
   "id": "d7a1cc82",
   "metadata": {},
   "source": [
    "### Вывод:\n",
    "**Из гистограммы видно, что пользователи без подписки проезжают чуть большее расстояние, однако в среднем \n",
    "обе группы проезжают около 3 км. С учетом того, что пользователей без подписки немного больше, чем\n",
    "с подпиской, распределения можно считать одинаковыми**"
   ]
  },
  {
   "cell_type": "markdown",
   "id": "49ba28b4",
   "metadata": {},
   "source": [
    "## Длительность поездок"
   ]
  },
  {
   "cell_type": "markdown",
   "id": "0ff95a15",
   "metadata": {},
   "source": [
    "### Визуализация"
   ]
  },
  {
   "cell_type": "code",
   "execution_count": 24,
   "id": "00eb62b8",
   "metadata": {
    "ExecuteTime": {
     "end_time": "2023-12-04T19:37:17.749678Z",
     "start_time": "2023-12-04T19:37:17.571676Z"
    },
    "scrolled": true
   },
   "outputs": [
    {
     "data": {
      "image/png": "[encoded data removed]",
      "text/plain": [
       "<Figure size 432x432 with 1 Axes>"
      ]
     },
     "metadata": {
      "needs_background": "light"
     },
     "output_type": "display_data"
    }
   ],
   "source": [
    "users_free['duration'].hist(color='blue', figsize=(6, 6))\n",
    "plt.xlabel('Длительность поездки')\n",
    "\n",
    "users_ultra['duration'].hist(color='red', figsize=(6, 6))\n",
    "plt.title('Время поездки пользователей с подпиской и без')\n",
    "plt.legend(['free', 'ultra'], loc='upper right', title='Пользователи')\n",
    "\n",
    "plt.show()"
   ]
  },
  {
   "cell_type": "markdown",
   "id": "50514d16",
   "metadata": {},
   "source": [
    "**Вывели дополнительные статистические данные распределения**"
   ]
  },
  {
   "cell_type": "code",
   "execution_count": 25,
   "id": "deff49a7",
   "metadata": {},
   "outputs": [
    {
     "data": {
      "text/plain": [
       "count    11568.000000\n",
       "mean        17.390909\n",
       "std          6.326803\n",
       "min          0.500000\n",
       "25%         12.958437\n",
       "50%         17.326890\n",
       "75%         21.594071\n",
       "max         34.948498\n",
       "Name: duration, dtype: float64"
      ]
     },
     "metadata": {},
     "output_type": "display_data"
    },
    {
     "data": {
      "text/plain": [
       "count    6500.000000\n",
       "mean       18.541985\n",
       "std         5.572048\n",
       "min         3.760353\n",
       "25%        14.524654\n",
       "50%        18.178153\n",
       "75%        21.884129\n",
       "max        40.823963\n",
       "Name: duration, dtype: float64"
      ]
     },
     "execution_count": 25,
     "metadata": {},
     "output_type": "execute_result"
    }
   ],
   "source": [
    "display(users_free['duration'].describe())\n",
    "users_ultra['duration'].describe()"
   ]
  },
  {
   "cell_type": "markdown",
   "id": "be11b245",
   "metadata": {},
   "source": [
    "### Вывод"
   ]
  },
  {
   "cell_type": "markdown",
   "id": "2d0130a2",
   "metadata": {},
   "source": [
    "**По графику  и выведенным статистическим данным видно, что пользователей без подписки в исходных данных немного больше, чем \n",
    "пользователей с активной подпиской. В целом с учетом этого распределения для двух этих \n",
    "групп совпадают**"
   ]
  },
  {
   "cell_type": "markdown",
   "id": "edb61a8d",
   "metadata": {},
   "source": [
    "# Подсчет выручки"
   ]
  },
  {
   "cell_type": "markdown",
   "id": "098fa761",
   "metadata": {
    "ExecuteTime": {
     "end_time": "2023-11-22T18:45:50.685232Z",
     "start_time": "2023-11-22T18:45:50.678753Z"
    }
   },
   "source": [
    "## Для более объективного анализа данных построили сводную таблицу с аггрегированными данными о длительности поездки, пройденном расстоянии и количестве поездок"
   ]
  },
  {
   "cell_type": "markdown",
   "id": "a35694ea",
   "metadata": {},
   "source": [
    "**Для пользователей без подписки**"
   ]
  },
  {
   "cell_type": "code",
   "execution_count": 26,
   "id": "44621e26",
   "metadata": {
    "ExecuteTime": {
     "end_time": "2023-12-04T19:37:17.771353Z",
     "start_time": "2023-12-04T19:37:17.751677Z"
    },
    "scrolled": true
   },
   "outputs": [],
   "source": [
    "import numpy as np\n",
    "\n",
    "users_all['duration'] = np.ceil(users_all['duration'])\n",
    "users_all['distance'] = np.ceil(users_all['distance'])"
   ]
  },
  {
   "cell_type": "code",
   "execution_count": 27,
   "id": "24dd9536",
   "metadata": {},
   "outputs": [
    {
     "data": {
      "text/html": [
       "<div>\n",
       "<style scoped>\n",
       "    .dataframe tbody tr th:only-of-type {\n",
       "        vertical-align: middle;\n",
       "    }\n",
       "\n",
       "    .dataframe tbody tr th {\n",
       "        vertical-align: top;\n",
       "    }\n",
       "\n",
       "    .dataframe thead th {\n",
       "        text-align: right;\n",
       "    }\n",
       "</style>\n",
       "<table border=\"1\" class=\"dataframe\">\n",
       "  <thead>\n",
       "    <tr style=\"text-align: right;\">\n",
       "      <th></th>\n",
       "      <th>user_id</th>\n",
       "      <th>month</th>\n",
       "      <th>distance</th>\n",
       "      <th>duration</th>\n",
       "      <th>subscription_type</th>\n",
       "      <th>rides_count</th>\n",
       "    </tr>\n",
       "  </thead>\n",
       "  <tbody>\n",
       "    <tr>\n",
       "      <th>0</th>\n",
       "      <td>1</td>\n",
       "      <td>1</td>\n",
       "      <td>7028.0</td>\n",
       "      <td>42.0</td>\n",
       "      <td>ultra</td>\n",
       "      <td>2</td>\n",
       "    </tr>\n",
       "    <tr>\n",
       "      <th>1</th>\n",
       "      <td>1</td>\n",
       "      <td>4</td>\n",
       "      <td>755.0</td>\n",
       "      <td>7.0</td>\n",
       "      <td>ultra</td>\n",
       "      <td>1</td>\n",
       "    </tr>\n",
       "    <tr>\n",
       "      <th>2</th>\n",
       "      <td>1</td>\n",
       "      <td>8</td>\n",
       "      <td>6724.0</td>\n",
       "      <td>46.0</td>\n",
       "      <td>ultra</td>\n",
       "      <td>2</td>\n",
       "    </tr>\n",
       "    <tr>\n",
       "      <th>3</th>\n",
       "      <td>1</td>\n",
       "      <td>10</td>\n",
       "      <td>5811.0</td>\n",
       "      <td>32.0</td>\n",
       "      <td>ultra</td>\n",
       "      <td>2</td>\n",
       "    </tr>\n",
       "    <tr>\n",
       "      <th>4</th>\n",
       "      <td>1</td>\n",
       "      <td>11</td>\n",
       "      <td>7005.0</td>\n",
       "      <td>56.0</td>\n",
       "      <td>ultra</td>\n",
       "      <td>3</td>\n",
       "    </tr>\n",
       "  </tbody>\n",
       "</table>\n",
       "</div>"
      ],
      "text/plain": [
       "   user_id  month  distance  duration subscription_type  rides_count\n",
       "0        1      1    7028.0      42.0             ultra            2\n",
       "1        1      4     755.0       7.0             ultra            1\n",
       "2        1      8    6724.0      46.0             ultra            2\n",
       "3        1     10    5811.0      32.0             ultra            2\n",
       "4        1     11    7005.0      56.0             ultra            3"
      ]
     },
     "execution_count": 27,
     "metadata": {},
     "output_type": "execute_result"
    }
   ],
   "source": [
    "# Агрегация данных\n",
    "agg_data = users_all.groupby(['user_id', 'month']).agg({\n",
    "    'distance': 'sum',\n",
    "    'duration': 'sum',\n",
    "    'subscription_type': 'first',# Возьмем тип подписки первой по месяцу для пользователя\n",
    "    'user_id': 'count'\n",
    "}).rename(columns={'user_id': 'rides_count'}).reset_index()\n",
    "\n",
    "agg_data.head()"
   ]
  },
  {
   "cell_type": "markdown",
   "id": "d05ed8e0",
   "metadata": {},
   "source": [
    "**Для пользователей с подпиской**"
   ]
  },
  {
   "cell_type": "markdown",
   "id": "37ddf564",
   "metadata": {},
   "source": [
    "## Добавили столбец с суммарной выручкой за месяц для каждого пользователя"
   ]
  },
  {
   "cell_type": "code",
   "execution_count": 28,
   "id": "16f060d8",
   "metadata": {
    "ExecuteTime": {
     "end_time": "2023-12-04T19:37:17.827239Z",
     "start_time": "2023-12-04T19:37:17.800753Z"
    }
   },
   "outputs": [
    {
     "data": {
      "text/html": [
       "<div>\n",
       "<style scoped>\n",
       "    .dataframe tbody tr th:only-of-type {\n",
       "        vertical-align: middle;\n",
       "    }\n",
       "\n",
       "    .dataframe tbody tr th {\n",
       "        vertical-align: top;\n",
       "    }\n",
       "\n",
       "    .dataframe thead th {\n",
       "        text-align: right;\n",
       "    }\n",
       "</style>\n",
       "<table border=\"1\" class=\"dataframe\">\n",
       "  <thead>\n",
       "    <tr style=\"text-align: right;\">\n",
       "      <th></th>\n",
       "      <th>user_id</th>\n",
       "      <th>month</th>\n",
       "      <th>distance</th>\n",
       "      <th>duration</th>\n",
       "      <th>subscription_type</th>\n",
       "      <th>rides_count</th>\n",
       "      <th>profit</th>\n",
       "    </tr>\n",
       "  </thead>\n",
       "  <tbody>\n",
       "    <tr>\n",
       "      <th>0</th>\n",
       "      <td>1</td>\n",
       "      <td>1</td>\n",
       "      <td>7028.0</td>\n",
       "      <td>42.0</td>\n",
       "      <td>ultra</td>\n",
       "      <td>2</td>\n",
       "      <td>451.0</td>\n",
       "    </tr>\n",
       "    <tr>\n",
       "      <th>1</th>\n",
       "      <td>1</td>\n",
       "      <td>4</td>\n",
       "      <td>755.0</td>\n",
       "      <td>7.0</td>\n",
       "      <td>ultra</td>\n",
       "      <td>1</td>\n",
       "      <td>241.0</td>\n",
       "    </tr>\n",
       "    <tr>\n",
       "      <th>2</th>\n",
       "      <td>1</td>\n",
       "      <td>8</td>\n",
       "      <td>6724.0</td>\n",
       "      <td>46.0</td>\n",
       "      <td>ultra</td>\n",
       "      <td>2</td>\n",
       "      <td>475.0</td>\n",
       "    </tr>\n",
       "    <tr>\n",
       "      <th>3</th>\n",
       "      <td>1</td>\n",
       "      <td>10</td>\n",
       "      <td>5811.0</td>\n",
       "      <td>32.0</td>\n",
       "      <td>ultra</td>\n",
       "      <td>2</td>\n",
       "      <td>391.0</td>\n",
       "    </tr>\n",
       "    <tr>\n",
       "      <th>4</th>\n",
       "      <td>1</td>\n",
       "      <td>11</td>\n",
       "      <td>7005.0</td>\n",
       "      <td>56.0</td>\n",
       "      <td>ultra</td>\n",
       "      <td>3</td>\n",
       "      <td>535.0</td>\n",
       "    </tr>\n",
       "  </tbody>\n",
       "</table>\n",
       "</div>"
      ],
      "text/plain": [
       "   user_id  month  distance  duration subscription_type  rides_count  profit\n",
       "0        1      1    7028.0      42.0             ultra            2   451.0\n",
       "1        1      4     755.0       7.0             ultra            1   241.0\n",
       "2        1      8    6724.0      46.0             ultra            2   475.0\n",
       "3        1     10    5811.0      32.0             ultra            2   391.0\n",
       "4        1     11    7005.0      56.0             ultra            3   535.0"
      ]
     },
     "metadata": {},
     "output_type": "display_data"
    },
    {
     "data": {
      "text/html": [
       "<div>\n",
       "<style scoped>\n",
       "    .dataframe tbody tr th:only-of-type {\n",
       "        vertical-align: middle;\n",
       "    }\n",
       "\n",
       "    .dataframe tbody tr th {\n",
       "        vertical-align: top;\n",
       "    }\n",
       "\n",
       "    .dataframe thead th {\n",
       "        text-align: right;\n",
       "    }\n",
       "</style>\n",
       "<table border=\"1\" class=\"dataframe\">\n",
       "  <thead>\n",
       "    <tr style=\"text-align: right;\">\n",
       "      <th></th>\n",
       "      <th>user_id</th>\n",
       "      <th>month</th>\n",
       "      <th>distance</th>\n",
       "      <th>duration</th>\n",
       "      <th>subscription_type</th>\n",
       "      <th>rides_count</th>\n",
       "      <th>profit</th>\n",
       "    </tr>\n",
       "  </thead>\n",
       "  <tbody>\n",
       "    <tr>\n",
       "      <th>11326</th>\n",
       "      <td>1534</td>\n",
       "      <td>6</td>\n",
       "      <td>3411.0</td>\n",
       "      <td>26.0</td>\n",
       "      <td>free</td>\n",
       "      <td>2</td>\n",
       "      <td>308.0</td>\n",
       "    </tr>\n",
       "    <tr>\n",
       "      <th>11327</th>\n",
       "      <td>1534</td>\n",
       "      <td>8</td>\n",
       "      <td>7623.0</td>\n",
       "      <td>48.0</td>\n",
       "      <td>free</td>\n",
       "      <td>2</td>\n",
       "      <td>484.0</td>\n",
       "    </tr>\n",
       "    <tr>\n",
       "      <th>11328</th>\n",
       "      <td>1534</td>\n",
       "      <td>9</td>\n",
       "      <td>4929.0</td>\n",
       "      <td>23.0</td>\n",
       "      <td>free</td>\n",
       "      <td>1</td>\n",
       "      <td>234.0</td>\n",
       "    </tr>\n",
       "    <tr>\n",
       "      <th>11329</th>\n",
       "      <td>1534</td>\n",
       "      <td>11</td>\n",
       "      <td>13353.0</td>\n",
       "      <td>78.0</td>\n",
       "      <td>free</td>\n",
       "      <td>4</td>\n",
       "      <td>824.0</td>\n",
       "    </tr>\n",
       "    <tr>\n",
       "      <th>11330</th>\n",
       "      <td>1534</td>\n",
       "      <td>12</td>\n",
       "      <td>2372.0</td>\n",
       "      <td>16.0</td>\n",
       "      <td>free</td>\n",
       "      <td>1</td>\n",
       "      <td>178.0</td>\n",
       "    </tr>\n",
       "  </tbody>\n",
       "</table>\n",
       "</div>"
      ],
      "text/plain": [
       "       user_id  month  distance  duration subscription_type  rides_count  \\\n",
       "11326     1534      6    3411.0      26.0              free            2   \n",
       "11327     1534      8    7623.0      48.0              free            2   \n",
       "11328     1534      9    4929.0      23.0              free            1   \n",
       "11329     1534     11   13353.0      78.0              free            4   \n",
       "11330     1534     12    2372.0      16.0              free            1   \n",
       "\n",
       "       profit  \n",
       "11326   308.0  \n",
       "11327   484.0  \n",
       "11328   234.0  \n",
       "11329   824.0  \n",
       "11330   178.0  "
      ]
     },
     "execution_count": 28,
     "metadata": {},
     "output_type": "execute_result"
    }
   ],
   "source": [
    "agg_data['profit'] = 0\n",
    "# Расчет стоимости поездок\n",
    "agg_data['profit'] = np.where((agg_data['subscription_type'] == 'ultra'),\n",
    "                            np.ceil(agg_data['duration']) * subs.loc[1, 'minute_price']  \n",
    "                              + subs.loc[1, 'subscription_fee'],\n",
    "                             agg_data['profit'])\n",
    "\n",
    "agg_data['profit'] = np.where((agg_data['subscription_type'] == 'free'),\n",
    "                            np.ceil(agg_data['duration']) * subs.loc[0, 'minute_price'] \n",
    "                              + subs.loc[0, 'start_ride_price'] * agg_data['rides_count'],\n",
    "                             agg_data['profit'])\n",
    "# Вывод агрегированных данных с выручкой\n",
    "display(agg_data.head(5))\n",
    "agg_data.tail(5)"
   ]
  },
  {
   "cell_type": "markdown",
   "id": "6ff4978a",
   "metadata": {},
   "source": [
    "# Проверка гипотез:"
   ]
  },
  {
   "cell_type": "markdown",
   "id": "d1f32a7e",
   "metadata": {},
   "source": [
    "## Тратят ли позователи с подпиской больше премени на поездки"
   ]
  },
  {
   "cell_type": "markdown",
   "id": "661c0782",
   "metadata": {},
   "source": [
    "### H0(нуливая гипотеза): Среднее время поездки для пользователей с подпиской и без одинаково"
   ]
  },
  {
   "cell_type": "markdown",
   "id": "3ff63cb3",
   "metadata": {},
   "source": [
    "### H1(альтернативная гипотеза): Среднее время поездки для пользователей с подпиской >, чем для 2 группы"
   ]
  },
  {
   "cell_type": "markdown",
   "id": "7d6f5feb",
   "metadata": {
    "ExecuteTime": {
     "end_time": "2023-11-25T12:02:20.458541Z",
     "start_time": "2023-11-25T12:02:20.451475Z"
    }
   },
   "source": [
    "**Проверим гипотезу методом описательной статистки**"
   ]
  },
  {
   "cell_type": "markdown",
   "id": "6cf63c89",
   "metadata": {},
   "source": [
    "**Т.к мы не можем уверенно утверждать о равенстве дисперсий двух вышеозначенных выборок, то для сохранения консервативности в отношении предположений, выставим `equal_var=False`**"
   ]
  },
  {
   "cell_type": "code",
   "execution_count": 29,
   "id": "b08bea10",
   "metadata": {
    "ExecuteTime": {
     "end_time": "2023-12-04T19:37:18.868847Z",
     "start_time": "2023-12-04T19:37:17.854012Z"
    }
   },
   "outputs": [
    {
     "name": "stdout",
     "output_type": "stream",
     "text": [
      "p-значение: 5.6757813771289775e-37\n",
      "Гипотезу \"Среднее время поездки для пользователей с подпиской >, чем для 2 группы\" не следует отвергать\n"
     ]
    }
   ],
   "source": [
    "from scipy import stats as st\n",
    "import numpy as np\n",
    "alpha = 0.05 # такого уровня статистической значимости бутет достаточно\n",
    "                           \n",
    "results = st.ttest_ind(users_ultra['duration'], users_free['duration'], equal_var = False, alternative='greater')\n",
    "\n",
    "print('p-значение:', results.pvalue)\n",
    "\n",
    "if results.pvalue < alpha:\n",
    "    print('Гипотезу \"Среднее время поездки для пользователей с подпиской >, чем для 2 группы\" не следует отвергать')\n",
    "else:\n",
    "    print('Гипотезу \"Среднее время поездки для пользователей с подпиской >, чем для 2 группы\" следует отвергнуть') "
   ]
  },
  {
   "cell_type": "markdown",
   "id": "b5a895c1",
   "metadata": {},
   "source": [
    "### Вывод"
   ]
  },
  {
   "cell_type": "markdown",
   "id": "94f3be84",
   "metadata": {
    "ExecuteTime": {
     "end_time": "2023-11-28T20:47:55.015171Z",
     "start_time": "2023-11-28T20:47:55.009769Z"
    }
   },
   "source": [
    "**Гипотезу (Среднее время поездки для пользователей с подпиской >, чем для 2 группы) не следует отвергать, есть основания утверждать, что среднее время поездки пользователей с активной подпиской не больше, чем у пользователей без нее**"
   ]
  },
  {
   "cell_type": "markdown",
   "id": "647deb79",
   "metadata": {},
   "source": [
    "## Среднее расстояние одной поездки"
   ]
  },
  {
   "cell_type": "markdown",
   "id": "41bc047f",
   "metadata": {},
   "source": [
    "### H0: Среднее расстояние, которое проезжает пользователь с подпиской за одну поездку не больше 3130"
   ]
  },
  {
   "cell_type": "markdown",
   "id": "4409d7df",
   "metadata": {},
   "source": [
    "### H1: Среднее расстояние, которое проезжает пользователь с подпиской за одну поездку > 3130"
   ]
  },
  {
   "cell_type": "code",
   "execution_count": 30,
   "id": "1f0b4d9a",
   "metadata": {
    "ExecuteTime": {
     "end_time": "2023-12-04T20:08:29.013778Z",
     "start_time": "2023-12-04T20:08:28.998968Z"
    },
    "scrolled": true
   },
   "outputs": [
    {
     "name": "stdout",
     "output_type": "stream",
     "text": [
      "p-значение: 0.9195368847849785\n",
      "Гипотезу \"пользователи с подпиской в среднем проезжают не больше 3130 метров\" не следует отвергать\n"
     ]
    }
   ],
   "source": [
    "results = st.ttest_1samp(users_ultra['distance'], popmean=3130, alternative='greater')# Сравнение среднего по выборке со значением 3130\n",
    "\n",
    "print('p-значение:', results.pvalue)\n",
    "\n",
    "if results.pvalue < alpha:\n",
    "    print('Гипотезу \"пользователи с подпиской в среднем проезжают не больше 3130 метров\" следует отвергнуть')\n",
    "else:\n",
    "    print('Гипотезу \"пользователи с подпиской в среднем проезжают не больше 3130 метров\" не следует отвергать') "
   ]
  },
  {
   "cell_type": "markdown",
   "id": "f1bb9d03",
   "metadata": {},
   "source": [
    "### Вывод:\n",
    "**Нет оснований отвергать гипотезу:\"Среднее расстояние, которое проезжает пользователь с подпиской за одну поездку не больше 3130\". Вероятно у электросамокатов не будет проблем с износом**"
   ]
  },
  {
   "cell_type": "markdown",
   "id": "d26010e5",
   "metadata": {},
   "source": [
    "## Помесячная прибыль от  пользователей с подпиской больше, чем без"
   ]
  },
  {
   "cell_type": "markdown",
   "id": "1f8ee825",
   "metadata": {},
   "source": [
    "### H0: Помесячная пописка пользователей с подпиской и без одинаковы"
   ]
  },
  {
   "cell_type": "markdown",
   "id": "109f3cf2",
   "metadata": {},
   "source": [
    "### H1: Помесячная подписка пользователей с подпиской больше, чем у пользователей без подписки"
   ]
  },
  {
   "cell_type": "markdown",
   "id": "c9ee7dd9",
   "metadata": {},
   "source": [
    "**Создали таблицы для помесячной выручки для двух типов пользователей**"
   ]
  },
  {
   "cell_type": "code",
   "execution_count": 31,
   "id": "c947c134",
   "metadata": {
    "ExecuteTime": {
     "end_time": "2023-12-04T19:37:18.898964Z",
     "start_time": "2023-12-04T19:37:18.889891Z"
    }
   },
   "outputs": [
    {
     "data": {
      "text/plain": [
       "4533    170.0\n",
       "4534    962.0\n",
       "4535    202.0\n",
       "4536    178.0\n",
       "4537    332.0\n",
       "4538    268.0\n",
       "4539    186.0\n",
       "4540    452.0\n",
       "4541    406.0\n",
       "4542    194.0\n",
       "Name: profit, dtype: float64"
      ]
     },
     "execution_count": 31,
     "metadata": {},
     "output_type": "execute_result"
    }
   ],
   "source": [
    "free_month_profit = agg_data.query('subscription_type==\"free\"')['profit']\n",
    "free_month_profit.head(10)"
   ]
  },
  {
   "cell_type": "code",
   "execution_count": 32,
   "id": "3cfb52b6",
   "metadata": {
    "ExecuteTime": {
     "end_time": "2023-12-04T19:37:18.914964Z",
     "start_time": "2023-12-04T19:37:18.900964Z"
    }
   },
   "outputs": [
    {
     "data": {
      "text/plain": [
       "0    451.0\n",
       "1    241.0\n",
       "2    475.0\n",
       "3    391.0\n",
       "4    535.0\n",
       "5    367.0\n",
       "6    577.0\n",
       "7    439.0\n",
       "8    283.0\n",
       "9    487.0\n",
       "Name: profit, dtype: float64"
      ]
     },
     "execution_count": 32,
     "metadata": {},
     "output_type": "execute_result"
    }
   ],
   "source": [
    "ultra_month_profit = agg_data.query('subscription_type==\"ultra\"')['profit']\n",
    "ultra_month_profit.head(10)   "
   ]
  },
  {
   "cell_type": "markdown",
   "id": "3a920d13",
   "metadata": {},
   "source": [
    "**Т.к нет достоверных доказательств того, что дисперсии выборок одинаковы, то выставим параметр `equal_var = False`**"
   ]
  },
  {
   "cell_type": "code",
   "execution_count": 33,
   "id": "1862c15c",
   "metadata": {
    "ExecuteTime": {
     "end_time": "2023-12-04T19:37:18.922262Z",
     "start_time": "2023-12-04T19:37:18.915965Z"
    },
    "scrolled": true
   },
   "outputs": [
    {
     "name": "stdout",
     "output_type": "stream",
     "text": [
      "p-значение: 8.874140893976874e-40\n",
      "Гипотезу \"пользователи с подпиской  в среднем приносят больше ежемесячной прибыли\" не следует отвергать\n"
     ]
    }
   ],
   "source": [
    "alpha = 0.05 # стакого уровня статистической значимости бутет достаточно\n",
    "# если p-value окажется меньше него, отвергнем гипотезу\n",
    "results = st.ttest_ind(ultra_month_profit, free_month_profit, equal_var = False, alternative='greater')\n",
    "print('p-значение:', results.pvalue)\n",
    "\n",
    "if results.pvalue < alpha:\n",
    "    print('Гипотезу \"пользователи с подпиской  в среднем приносят больше ежемесячной прибыли\" не следует отвергать')\n",
    "else:\n",
    "    print('Гипотезу \"пользователи с подпиской  в среднем приносят больше ежемесячной прибыли\" следует отвергнуть') "
   ]
  },
  {
   "cell_type": "markdown",
   "id": "c85da27d",
   "metadata": {},
   "source": [
    "**Гипотезу \"пользователи с подпиской  в среднем приносят больше ежемесячной прибыли\" не следует отвергать. Подписка прибыльнее, если пользователь почти не ездит в течение месяца. Вероятно пользователи берут подписку, если собираются ездить много(так можно сэкономить)**"
   ]
  },
  {
   "cell_type": "markdown",
   "id": "abb2deb8",
   "metadata": {},
   "source": [
    "### Техническая поддержка"
   ]
  },
  {
   "cell_type": "markdown",
   "id": "f2599de4",
   "metadata": {},
   "source": [
    "**Техническая команда сервиса обновила сервера, с которыми взаимодействует мобильное приложение. \n",
    "Она надеется, что из-за этого количество обращений в техподдержку значимо снизилось. \n",
    "Некоторый файл содержит для каждого пользователя данные о количестве обращений до обновления и после \n",
    "него.**"
   ]
  },
  {
   "cell_type": "markdown",
   "id": "b5a596d8",
   "metadata": {},
   "source": [
    "**Следует проверить, одинаковы ли выборочные средние выборочного распределения количества обращений\n",
    "для пользователей двух категорий**"
   ]
  },
  {
   "cell_type": "markdown",
   "id": "65b12236",
   "metadata": {},
   "source": [
    "**Это можно сделать так: `st.ttest_rel(data_after, data_before)`\n",
    "Односторонняя гипотеза**"
   ]
  },
  {
   "cell_type": "markdown",
   "id": "f6091b94",
   "metadata": {},
   "source": [
    "### Акция с промокодами на подписку"
   ]
  },
  {
   "cell_type": "markdown",
   "id": "6b1e6ff3",
   "metadata": {},
   "source": [
    "**Отделу маркетинга GoFast поставили задачу: нужно провести акцию с раздачей промокодов на один бесплатный месяц подписки, в рамках которой как минимум 100 существующих клиентов должны продлить эту подписку. То есть по завершении периода действия подписки пользователь может либо отказаться от неё, либо продлить, совершив соответствующий платёж. Эта акция уже проводилась ранее и по итогу выяснилось, что после бесплатного пробного периода подписку продлевают 10 % пользователей. Выяснили, какое минимальное количество промокодов нужно разослать, чтобы вероятность не выполнить план была примерно \n",
    "5 %**"
   ]
  },
  {
   "cell_type": "markdown",
   "id": "f9265a26",
   "metadata": {},
   "source": [
    "**Подобрали необходимое количество промокодов**"
   ]
  },
  {
   "cell_type": "code",
   "execution_count": 34,
   "id": "bb25b948",
   "metadata": {
    "ExecuteTime": {
     "end_time": "2023-12-04T19:37:19.081452Z",
     "start_time": "2023-12-04T19:37:18.924497Z"
    },
    "scrolled": true
   },
   "outputs": [
    {
     "name": "stdout",
     "output_type": "stream",
     "text": [
      "1169\n"
     ]
    }
   ],
   "source": [
    "from math import sqrt\n",
    "p = 1/10\n",
    "for n in range(1000, 3000):# задали параметры p и n\n",
    "    mu = n * p# рассчитали параметры \n",
    "    sigma = sqrt(n * p * (1 - p))# нормального распределения\n",
    "    distr = st.norm(mu, sigma)# задали нормальное распределение\n",
    "    result = 1 - distr.cdf(100)\n",
    "#    print(n,result) \n",
    "    if result >= 0.95:\n",
    "        print(n) \n",
    "        break       "
   ]
  },
  {
   "cell_type": "markdown",
   "id": "de45bf9f",
   "metadata": {},
   "source": [
    "**построили график распределения для найденного количества промокодов**"
   ]
  },
  {
   "cell_type": "code",
   "execution_count": 35,
   "id": "55ed9e76",
   "metadata": {
    "ExecuteTime": {
     "end_time": "2023-12-04T19:37:19.412248Z",
     "start_time": "2023-12-04T19:37:19.083453Z"
    },
    "scrolled": true
   },
   "outputs": [
    {
     "data": {
      "image/png": "[encoded data removed]",
      "text/plain": [
       "<Figure size 1080x504 with 1 Axes>"
      ]
     },
     "metadata": {
      "needs_background": "light"
     },
     "output_type": "display_data"
    }
   ],
   "source": [
    "from scipy.stats import norm\n",
    "\n",
    "def linspace(start, stop, num):      \n",
    "    step= (stop - start) / (num - 1)\n",
    "    result = []\n",
    "    for i in range(num):\n",
    "        result.append(start + step* i)\n",
    "    return result\n",
    "\n",
    "mu = 1169 * 0.1\n",
    "sigma = sqrt(1169 * 0.1 * (0.9))\n",
    "\n",
    "left = int(1169* 0.1- 4 * sqrt(1169* 0.1* (0.9)))\n",
    "right = int(1169* 0.1+ 4 * sqrt(1169* 0.1* (0.9)))    \n",
    "# рисуем график нормального распределения:\n",
    "# получим список из 100 чисел от left до right\n",
    "plt.figure(figsize=(15, 7))\n",
    "\n",
    "x = linspace(left, right, 100)\n",
    "x_ticks = list(range(int(mu - 3 * sigma), int(mu + 3 * sigma), 1))\n",
    "\n",
    "# используем красную линию ширины 3 и прозрачности 0.3\n",
    "ax = plt.subplot()\n",
    "ax.plot(x, norm.pdf(x, mu, sigma), 'r-', lw=3, alpha=0.3, label='плотность вероятности нормального распределения')\n",
    "\n",
    "\n",
    "ax=plt.plot(x, norm.pdf(x, mu, sigma), 'r-', lw=3, alpha=0.3, label='плотность вероятности нормального распределения')\n",
    "#print(ax) \n",
    "\n",
    "# зададим подписи по оси x в пределах ± 3 ст.отклонений от мат.ожидания\n",
    "# (последний аргумент в методе range - интервал между подписями)\n",
    "\n",
    "#ax.set_xticks(x_ticks, labels = x_ticks, rotation = 90,fontsize = 7)\n",
    "\n",
    "plt.show()"
   ]
  },
  {
   "cell_type": "markdown",
   "id": "049a423f",
   "metadata": {},
   "source": [
    "#### Вывод:\n",
    "**Для достижения \"успеха\" акции с 95%-ной вероятностью необходимо раздать 1169 промокодов**"
   ]
  },
  {
   "cell_type": "markdown",
   "id": "01824b12",
   "metadata": {},
   "source": [
    "### Push-уведомления "
   ]
  },
  {
   "cell_type": "markdown",
   "id": "12552d02",
   "metadata": {},
   "source": [
    "**Отдел маркетинга рассылает клиентам push-уведомления в мобильном приложении. Клиенты могут открыть его или не открывать. Известно, что уведомления открывают около 40 % получивших клиентов. Отдел планирует разослать 1 млн уведомлений. С помощью аппроксимации построили примерный график распределения и оценили вероятность того, что уведомление откроют не более 399,5 тыс. пользователей.**"
   ]
  },
  {
   "cell_type": "markdown",
   "id": "dc1f5d2b",
   "metadata": {},
   "source": [
    "**Построили необходимое распределение**"
   ]
  },
  {
   "cell_type": "code",
   "execution_count": 36,
   "id": "57f54ef9",
   "metadata": {
    "ExecuteTime": {
     "end_time": "2023-12-04T19:37:19.577315Z",
     "start_time": "2023-12-04T19:37:19.414260Z"
    }
   },
   "outputs": [
    {
     "data": {
      "image/png": "[encoded data removed]",
      "text/plain": [
       "<Figure size 1080x504 with 1 Axes>"
      ]
     },
     "metadata": {
      "needs_background": "light"
     },
     "output_type": "display_data"
    }
   ],
   "source": [
    "p = 4/10\n",
    "n = 1000000# задали параметры p и n\n",
    "mu = n * p# рассчитали параметры \n",
    "sigma = sqrt(n * p * (1 - p))# нормального распределения\n",
    "distr = st.norm(mu, sigma)# задали нормальное распределение\n",
    "left = int(n* p- 4 * sqrt(n* p* (1 - p)))\n",
    "right = int(n* p+ 4 * sqrt(n* p* (1 - p)))    \n",
    "# рисуем график нормального распределения:\n",
    "# получим список из 100 чисел от left до right\n",
    "plt.figure(figsize=(15, 7))\n",
    "\n",
    "x = linspace(left, right, 100)\n",
    "x_ticks = list(range(int(mu - 3 * sigma), int(mu + 3 * sigma), 1))\n",
    "\n",
    "# используем красную линию ширины 3 и прозрачности 0.3\n",
    "ax = plt.subplot()\n",
    "ax.plot(x, norm.pdf(x, mu, sigma), 'g-', lw=3, alpha=0.3, label='плотность вероятности нормального распределения')\n",
    "\n",
    "plt.show()"
   ]
  },
  {
   "cell_type": "markdown",
   "id": "8a49506a",
   "metadata": {},
   "source": [
    "**Нашли необходимую вероятность**"
   ]
  },
  {
   "cell_type": "code",
   "execution_count": 37,
   "id": "ac160e00",
   "metadata": {
    "ExecuteTime": {
     "end_time": "2023-12-04T19:37:19.582798Z",
     "start_time": "2023-12-04T19:37:19.579314Z"
    }
   },
   "outputs": [
    {
     "name": "stdout",
     "output_type": "stream",
     "text": [
      "0.8462829170363023\n"
     ]
    }
   ],
   "source": [
    "print(1 - distr.cdf(399500))"
   ]
  },
  {
   "cell_type": "markdown",
   "id": "d3dd56e2",
   "metadata": {},
   "source": [
    "#### Вывод:\n",
    "**Искомая вероятность составляет примерно 85%. Можно с высокой точностью утверждать, что уведомление откроет более 399,5 тыс. пользователей**"
   ]
  },
  {
   "cell_type": "markdown",
   "id": "05f59489",
   "metadata": {},
   "source": [
    "# Общий вывод"
   ]
  },
  {
   "cell_type": "markdown",
   "id": "a6cbd6d0",
   "metadata": {
    "ExecuteTime": {
     "end_time": "2023-12-04T19:57:28.280152Z",
     "start_time": "2023-12-04T19:57:28.274357Z"
    }
   },
   "source": [
    "**В данной работе исследовались закономерности ключевых факторов для \n",
    "двух групп пользователей электросамокатов(пользователи с подпиской и \n",
    "без). Исходные данные представляют собой таблицы с данными компании \n",
    "GoFact, предоставляющей услуги аренды электросаокатов, содержащие \n",
    "информацию о пользователях, поездках и типах подписки**"
   ]
  },
  {
   "cell_type": "markdown",
   "id": "2169d9c0",
   "metadata": {},
   "source": [
    "**Была проведена предобработка данных**"
   ]
  },
  {
   "cell_type": "markdown",
   "id": "c56fb23f",
   "metadata": {},
   "source": [
    "**Был добавлен дополнительный столбец: месяц, в который произошла поездка. Тип данных в столбце с датой поездки, был заменен на целочисленный, для более точного и удобного анализа**"
   ]
  },
  {
   "cell_type": "markdown",
   "id": "a2ef045d",
   "metadata": {},
   "source": [
    "**Был проведен анализ ключевых столбцов.  Получены выводы о пригодности данных для исследования. Также были удалены пропуски и дубликаты. Исходные данные пригодны для дальнейшего исследования**"
   ]
  },
  {
   "cell_type": "markdown",
   "id": "f4b2b405",
   "metadata": {},
   "source": [
    "**Была проведена аггрегация данных и подсчет прибыли. Данные выглядят вполне адекватными**"
   ]
  },
  {
   "cell_type": "markdown",
   "id": "97d63350",
   "metadata": {},
   "source": [
    "**Были проверены гипотезы относительно прибыльности обоих типов клиентов(в особенности пользователей с активной подпиской). Были получены результаты:**\n",
    "- `Нулевую гипотезу (Среднее время поездки для пользователей с подпиской >, чем для 2 группы) не следует отвергать`\n",
    "\n",
    "- `Гипотезу \"пользователи с подпиской в среднем проезжают меньше 3130 метров\" не следует отвергать`\n",
    "\n",
    "- `Гипотезу \"пользователи с подпиской  в среднем приносят больше ежемесячной прибыли\" следует не следует отвергать`\n",
    "\n",
    "- `Для достижения \"успеха\" акции по раздаче бесплатных промокодов с 95%-ной вероятностью необходимо раздать 1169 промокодов`\n",
    "\n",
    "- `Вероятность \"успеха\" рекламы посредством рассылки push-уведомлений составляет примерно 85%. Можно с высокой точностью утверждать, что уведомление откроет более 399,5 тыс. пользователей`"
   ]
  },
  {
   "cell_type": "markdown",
   "id": "f0867b69",
   "metadata": {},
   "source": [
    "**Также были расщитаны ежемесячные прибыли для каждого пользователя из двух групп(с подпской, без подписки) Результат показал, что пользователи без подписки приносят всреднем больше ежемесячной прибыли, чем пользователи с подпиской.(В основном это вызвано тем, что пользователи без подписки должны каждую поезку платить 50 р за старт(обычно за 10 - 15 ежемесячных поездок набирается 500 - 1000 р), тогда как пользователи с подпиской должны лишь единоразово оплачивать лишь стоимость подписки 199 р, а старт у них бесплатный)**"
   ]
  },
  {
   "cell_type": "markdown",
   "id": "38e7fe07",
   "metadata": {},
   "source": [
    "## Рекомендации:"
   ]
  },
  {
   "cell_type": "markdown",
   "id": "64140a25",
   "metadata": {
    "ExecuteTime": {
     "end_time": "2023-12-04T20:30:32.884574Z",
     "start_time": "2023-12-04T20:30:32.877932Z"
    }
   },
   "source": [
    "**С одной стороны, пользователи без подписки более выгодны для \n",
    "компании с точки зрения прибыли в случае, если они ездят > 5 раз в \n",
    "месяц, однако, с другой стороны, ultra-пользовали оплачивают подписку\n",
    "даже в те месяцы, когда вообще не пользуются электросамокатами. \n",
    "Есть смысл немного поднять стоимость подписки**"
   ]
  }
 ],
 "metadata": {
  "ExecuteTimeLog": [
   {
    "duration": 837,
    "start_time": "2023-12-05T10:04:29.728Z"
   },
   {
    "duration": 22,
    "start_time": "2023-12-05T10:04:30.567Z"
   },
   {
    "duration": 105,
    "start_time": "2023-12-05T10:04:30.591Z"
   },
   {
    "duration": 158,
    "start_time": "2023-12-05T10:04:30.698Z"
   },
   {
    "duration": 66,
    "start_time": "2023-12-05T10:04:30.858Z"
   },
   {
    "duration": 128,
    "start_time": "2023-12-05T10:04:30.926Z"
   },
   {
    "duration": 97,
    "start_time": "2023-12-05T10:04:31.056Z"
   },
   {
    "duration": 54,
    "start_time": "2023-12-05T10:04:31.154Z"
   },
   {
    "duration": 42,
    "start_time": "2023-12-05T10:04:31.210Z"
   },
   {
    "duration": 21,
    "start_time": "2023-12-05T10:04:31.254Z"
   },
   {
    "duration": 76,
    "start_time": "2023-12-05T10:04:31.277Z"
   },
   {
    "duration": 297,
    "start_time": "2023-12-05T10:04:31.354Z"
   },
   {
    "duration": 141,
    "start_time": "2023-12-05T10:04:31.652Z"
   },
   {
    "duration": 127,
    "start_time": "2023-12-05T10:04:31.794Z"
   },
   {
    "duration": 29,
    "start_time": "2023-12-05T10:04:31.923Z"
   },
   {
    "duration": 52,
    "start_time": "2023-12-05T10:04:31.953Z"
   },
   {
    "duration": 257,
    "start_time": "2023-12-05T10:04:32.006Z"
   },
   {
    "duration": 176,
    "start_time": "2023-12-05T10:04:32.265Z"
   },
   {
    "duration": 26,
    "start_time": "2023-12-05T10:04:32.443Z"
   },
   {
    "duration": 34,
    "start_time": "2023-12-05T10:04:32.471Z"
   },
   {
    "duration": 24,
    "start_time": "2023-12-05T10:04:32.507Z"
   },
   {
    "duration": 33,
    "start_time": "2023-12-05T10:04:32.532Z"
   },
   {
    "duration": 445,
    "start_time": "2023-12-05T10:04:32.566Z"
   },
   {
    "duration": 15,
    "start_time": "2023-12-05T10:04:33.012Z"
   },
   {
    "duration": 17,
    "start_time": "2023-12-05T10:04:33.028Z"
   },
   {
    "duration": 10,
    "start_time": "2023-12-05T10:04:33.046Z"
   },
   {
    "duration": 4,
    "start_time": "2023-12-05T10:04:33.058Z"
   },
   {
    "duration": 168,
    "start_time": "2023-12-05T10:04:33.064Z"
   },
   {
    "duration": 267,
    "start_time": "2023-12-05T10:04:33.233Z"
   },
   {
    "duration": 0,
    "start_time": "2023-12-05T10:04:33.502Z"
   },
   {
    "duration": 0,
    "start_time": "2023-12-05T10:04:33.503Z"
   },
   {
    "duration": 8,
    "start_time": "2023-12-05T10:18:57.234Z"
   },
   {
    "duration": 372,
    "start_time": "2023-12-05T10:20:23.508Z"
   },
   {
    "duration": 223,
    "start_time": "2023-12-05T10:20:32.698Z"
   },
   {
    "duration": 175,
    "start_time": "2023-12-05T10:20:37.372Z"
   },
   {
    "duration": 140,
    "start_time": "2023-12-05T10:51:11.138Z"
   },
   {
    "duration": 150,
    "start_time": "2023-12-05T10:57:23.137Z"
   },
   {
    "duration": 145,
    "start_time": "2023-12-05T10:57:53.140Z"
   },
   {
    "duration": 167,
    "start_time": "2023-12-05T10:58:44.994Z"
   },
   {
    "duration": 3,
    "start_time": "2023-12-05T10:58:46.970Z"
   },
   {
    "duration": 832,
    "start_time": "2023-12-05T11:04:17.977Z"
   },
   {
    "duration": 23,
    "start_time": "2023-12-05T11:04:18.811Z"
   },
   {
    "duration": 12,
    "start_time": "2023-12-05T11:04:18.836Z"
   },
   {
    "duration": 72,
    "start_time": "2023-12-05T11:04:18.849Z"
   },
   {
    "duration": 25,
    "start_time": "2023-12-05T11:04:18.922Z"
   },
   {
    "duration": 14,
    "start_time": "2023-12-05T11:04:18.948Z"
   },
   {
    "duration": 4,
    "start_time": "2023-12-05T11:04:18.964Z"
   },
   {
    "duration": 35,
    "start_time": "2023-12-05T11:04:18.969Z"
   },
   {
    "duration": 16,
    "start_time": "2023-12-05T11:04:19.005Z"
   },
   {
    "duration": 6,
    "start_time": "2023-12-05T11:04:19.023Z"
   },
   {
    "duration": 10,
    "start_time": "2023-12-05T11:04:19.030Z"
   },
   {
    "duration": 260,
    "start_time": "2023-12-05T11:04:19.041Z"
   },
   {
    "duration": 117,
    "start_time": "2023-12-05T11:04:19.303Z"
   },
   {
    "duration": 125,
    "start_time": "2023-12-05T11:04:19.421Z"
   },
   {
    "duration": 25,
    "start_time": "2023-12-05T11:04:19.547Z"
   },
   {
    "duration": 41,
    "start_time": "2023-12-05T11:04:19.574Z"
   },
   {
    "duration": 240,
    "start_time": "2023-12-05T11:04:19.616Z"
   },
   {
    "duration": 173,
    "start_time": "2023-12-05T11:04:19.857Z"
   },
   {
    "duration": 25,
    "start_time": "2023-12-05T11:04:20.032Z"
   },
   {
    "duration": 23,
    "start_time": "2023-12-05T11:04:20.058Z"
   },
   {
    "duration": 25,
    "start_time": "2023-12-05T11:04:20.098Z"
   },
   {
    "duration": 24,
    "start_time": "2023-12-05T11:04:20.124Z"
   },
   {
    "duration": 457,
    "start_time": "2023-12-05T11:04:20.149Z"
   },
   {
    "duration": 14,
    "start_time": "2023-12-05T11:04:20.608Z"
   },
   {
    "duration": 12,
    "start_time": "2023-12-05T11:04:20.623Z"
   },
   {
    "duration": 8,
    "start_time": "2023-12-05T11:04:20.636Z"
   },
   {
    "duration": 13,
    "start_time": "2023-12-05T11:04:20.645Z"
   },
   {
    "duration": 165,
    "start_time": "2023-12-05T11:04:20.661Z"
   },
   {
    "duration": 255,
    "start_time": "2023-12-05T11:04:20.827Z"
   },
   {
    "duration": 0,
    "start_time": "2023-12-05T11:04:21.083Z"
   },
   {
    "duration": 0,
    "start_time": "2023-12-05T11:04:21.085Z"
   },
   {
    "duration": 791,
    "start_time": "2023-12-05T11:07:17.358Z"
   },
   {
    "duration": 24,
    "start_time": "2023-12-05T11:07:18.150Z"
   },
   {
    "duration": 28,
    "start_time": "2023-12-05T11:07:18.175Z"
   },
   {
    "duration": 56,
    "start_time": "2023-12-05T11:07:18.205Z"
   },
   {
    "duration": 41,
    "start_time": "2023-12-05T11:07:18.262Z"
   },
   {
    "duration": 15,
    "start_time": "2023-12-05T11:07:18.305Z"
   },
   {
    "duration": 4,
    "start_time": "2023-12-05T11:07:18.321Z"
   },
   {
    "duration": 44,
    "start_time": "2023-12-05T11:07:18.327Z"
   },
   {
    "duration": 42,
    "start_time": "2023-12-05T11:07:18.373Z"
   },
   {
    "duration": 10,
    "start_time": "2023-12-05T11:07:18.417Z"
   },
   {
    "duration": 36,
    "start_time": "2023-12-05T11:07:18.429Z"
   },
   {
    "duration": 262,
    "start_time": "2023-12-05T11:07:18.467Z"
   },
   {
    "duration": 129,
    "start_time": "2023-12-05T11:07:18.731Z"
   },
   {
    "duration": 115,
    "start_time": "2023-12-05T11:07:18.862Z"
   },
   {
    "duration": 34,
    "start_time": "2023-12-05T11:07:18.978Z"
   },
   {
    "duration": 27,
    "start_time": "2023-12-05T11:07:19.013Z"
   },
   {
    "duration": 234,
    "start_time": "2023-12-05T11:07:19.041Z"
   },
   {
    "duration": 170,
    "start_time": "2023-12-05T11:07:19.276Z"
   },
   {
    "duration": 26,
    "start_time": "2023-12-05T11:07:19.447Z"
   },
   {
    "duration": 40,
    "start_time": "2023-12-05T11:07:19.474Z"
   },
   {
    "duration": 26,
    "start_time": "2023-12-05T11:07:19.515Z"
   },
   {
    "duration": 47,
    "start_time": "2023-12-05T11:07:19.542Z"
   },
   {
    "duration": 414,
    "start_time": "2023-12-05T11:07:19.590Z"
   },
   {
    "duration": 15,
    "start_time": "2023-12-05T11:07:20.005Z"
   },
   {
    "duration": 33,
    "start_time": "2023-12-05T11:07:20.021Z"
   },
   {
    "duration": 26,
    "start_time": "2023-12-05T11:07:20.055Z"
   },
   {
    "duration": 11,
    "start_time": "2023-12-05T11:07:20.083Z"
   },
   {
    "duration": 158,
    "start_time": "2023-12-05T11:07:20.096Z"
   },
   {
    "duration": 244,
    "start_time": "2023-12-05T11:07:20.256Z"
   },
   {
    "duration": 0,
    "start_time": "2023-12-05T11:07:20.501Z"
   },
   {
    "duration": 0,
    "start_time": "2023-12-05T11:07:20.502Z"
   },
   {
    "duration": 1059,
    "start_time": "2023-12-09T20:21:31.013Z"
   },
   {
    "duration": 144,
    "start_time": "2023-12-09T20:21:46.099Z"
   },
   {
    "duration": 2,
    "start_time": "2023-12-09T20:22:00.652Z"
   },
   {
    "duration": 633,
    "start_time": "2023-12-09T20:22:07.538Z"
   },
   {
    "duration": 162,
    "start_time": "2023-12-09T20:22:08.173Z"
   },
   {
    "duration": 27,
    "start_time": "2023-12-09T20:22:08.336Z"
   },
   {
    "duration": 23,
    "start_time": "2023-12-09T20:22:08.365Z"
   },
   {
    "duration": 51,
    "start_time": "2023-12-09T20:22:08.389Z"
   },
   {
    "duration": 28,
    "start_time": "2023-12-09T20:22:08.442Z"
   },
   {
    "duration": 12,
    "start_time": "2023-12-09T20:22:08.472Z"
   },
   {
    "duration": 13,
    "start_time": "2023-12-09T20:22:08.485Z"
   },
   {
    "duration": 23,
    "start_time": "2023-12-09T20:22:08.499Z"
   },
   {
    "duration": 24,
    "start_time": "2023-12-09T20:22:08.524Z"
   },
   {
    "duration": 17,
    "start_time": "2023-12-09T20:22:08.550Z"
   },
   {
    "duration": 28,
    "start_time": "2023-12-09T20:22:08.569Z"
   },
   {
    "duration": 229,
    "start_time": "2023-12-09T20:22:08.598Z"
   },
   {
    "duration": 111,
    "start_time": "2023-12-09T20:22:08.829Z"
   },
   {
    "duration": 112,
    "start_time": "2023-12-09T20:22:08.941Z"
   },
   {
    "duration": 29,
    "start_time": "2023-12-09T20:22:09.055Z"
   },
   {
    "duration": 25,
    "start_time": "2023-12-09T20:22:09.085Z"
   },
   {
    "duration": 223,
    "start_time": "2023-12-09T20:22:09.112Z"
   },
   {
    "duration": 167,
    "start_time": "2023-12-09T20:22:09.337Z"
   },
   {
    "duration": 24,
    "start_time": "2023-12-09T20:22:09.505Z"
   },
   {
    "duration": 22,
    "start_time": "2023-12-09T20:22:09.530Z"
   },
   {
    "duration": 35,
    "start_time": "2023-12-09T20:22:09.553Z"
   },
   {
    "duration": 21,
    "start_time": "2023-12-09T20:22:09.589Z"
   },
   {
    "duration": 443,
    "start_time": "2023-12-09T20:22:09.611Z"
   },
   {
    "duration": 19,
    "start_time": "2023-12-09T20:22:10.055Z"
   },
   {
    "duration": 16,
    "start_time": "2023-12-09T20:22:10.075Z"
   },
   {
    "duration": 9,
    "start_time": "2023-12-09T20:22:10.092Z"
   },
   {
    "duration": 11,
    "start_time": "2023-12-09T20:22:10.105Z"
   },
   {
    "duration": 137,
    "start_time": "2023-12-09T20:22:10.118Z"
   },
   {
    "duration": 248,
    "start_time": "2023-12-09T20:22:10.257Z"
   },
   {
    "duration": 0,
    "start_time": "2023-12-09T20:22:10.506Z"
   },
   {
    "duration": 0,
    "start_time": "2023-12-09T20:22:10.507Z"
   },
   {
    "duration": 10,
    "start_time": "2023-12-09T20:40:53.036Z"
   },
   {
    "duration": 5,
    "start_time": "2023-12-09T20:41:18.690Z"
   },
   {
    "duration": 12,
    "start_time": "2023-12-09T20:46:11.273Z"
   },
   {
    "duration": 6,
    "start_time": "2023-12-09T20:46:19.026Z"
   },
   {
    "duration": 9,
    "start_time": "2023-12-09T20:46:35.057Z"
   },
   {
    "duration": 169,
    "start_time": "2023-12-09T20:48:17.602Z"
   },
   {
    "duration": 8,
    "start_time": "2023-12-09T20:48:40.578Z"
   },
   {
    "duration": 5,
    "start_time": "2023-12-09T20:57:02.094Z"
   },
   {
    "duration": 156,
    "start_time": "2023-12-09T20:57:30.581Z"
   },
   {
    "duration": 142,
    "start_time": "2023-12-09T21:00:52.460Z"
   },
   {
    "duration": 124,
    "start_time": "2023-12-09T21:01:24.771Z"
   },
   {
    "duration": 135,
    "start_time": "2023-12-09T21:02:28.164Z"
   },
   {
    "duration": 142,
    "start_time": "2023-12-09T21:02:38.228Z"
   },
   {
    "duration": 557,
    "start_time": "2023-12-09T21:02:50.395Z"
   },
   {
    "duration": 159,
    "start_time": "2023-12-09T21:03:00.335Z"
   },
   {
    "duration": 139,
    "start_time": "2023-12-09T21:03:14.491Z"
   },
   {
    "duration": 136,
    "start_time": "2023-12-09T21:03:25.746Z"
   },
   {
    "duration": 144,
    "start_time": "2023-12-09T21:03:36.068Z"
   },
   {
    "duration": 143,
    "start_time": "2023-12-09T21:03:46.291Z"
   },
   {
    "duration": 194,
    "start_time": "2023-12-09T21:03:50.834Z"
   },
   {
    "duration": 131,
    "start_time": "2023-12-09T21:03:59.619Z"
   },
   {
    "duration": 131,
    "start_time": "2023-12-09T21:04:12.034Z"
   },
   {
    "duration": 130,
    "start_time": "2023-12-09T21:04:24.657Z"
   },
   {
    "duration": 145,
    "start_time": "2023-12-09T21:04:31.339Z"
   },
   {
    "duration": 136,
    "start_time": "2023-12-09T21:04:39.699Z"
   },
   {
    "duration": 135,
    "start_time": "2023-12-09T21:04:50.042Z"
   },
   {
    "duration": 136,
    "start_time": "2023-12-09T21:04:56.266Z"
   },
   {
    "duration": 135,
    "start_time": "2023-12-09T21:05:02.953Z"
   },
   {
    "duration": 135,
    "start_time": "2023-12-09T21:05:10.739Z"
   },
   {
    "duration": 139,
    "start_time": "2023-12-09T21:05:17.291Z"
   },
   {
    "duration": 138,
    "start_time": "2023-12-09T21:05:24.705Z"
   },
   {
    "duration": 154,
    "start_time": "2023-12-09T21:08:11.913Z"
   },
   {
    "duration": 212,
    "start_time": "2023-12-09T21:08:22.721Z"
   },
   {
    "duration": 141,
    "start_time": "2023-12-09T21:08:39.282Z"
   },
   {
    "duration": 141,
    "start_time": "2023-12-09T21:08:56.175Z"
   },
   {
    "duration": 136,
    "start_time": "2023-12-09T21:09:13.618Z"
   },
   {
    "duration": 144,
    "start_time": "2023-12-09T21:09:29.928Z"
   },
   {
    "duration": 139,
    "start_time": "2023-12-09T21:09:51.485Z"
   },
   {
    "duration": 149,
    "start_time": "2023-12-09T21:10:11.985Z"
   },
   {
    "duration": 139,
    "start_time": "2023-12-09T21:10:22.935Z"
   },
   {
    "duration": 142,
    "start_time": "2023-12-09T21:10:38.416Z"
   },
   {
    "duration": 139,
    "start_time": "2023-12-09T21:10:47.092Z"
   },
   {
    "duration": 142,
    "start_time": "2023-12-09T21:10:59.343Z"
   },
   {
    "duration": 143,
    "start_time": "2023-12-09T21:11:09.296Z"
   },
   {
    "duration": 145,
    "start_time": "2023-12-09T21:11:28.106Z"
   },
   {
    "duration": 141,
    "start_time": "2023-12-09T21:12:18.018Z"
   },
   {
    "duration": 143,
    "start_time": "2023-12-09T21:12:30.623Z"
   },
   {
    "duration": 252,
    "start_time": "2023-12-09T21:12:36.505Z"
   },
   {
    "duration": 140,
    "start_time": "2023-12-09T21:12:46.026Z"
   },
   {
    "duration": 144,
    "start_time": "2023-12-09T21:12:55.479Z"
   },
   {
    "duration": 148,
    "start_time": "2023-12-09T21:13:04.775Z"
   },
   {
    "duration": 141,
    "start_time": "2023-12-09T21:13:45.019Z"
   },
   {
    "duration": 45,
    "start_time": "2023-12-11T20:11:06.575Z"
   },
   {
    "duration": 732,
    "start_time": "2023-12-11T20:11:14.338Z"
   },
   {
    "duration": 294,
    "start_time": "2023-12-11T20:11:15.072Z"
   },
   {
    "duration": 22,
    "start_time": "2023-12-11T20:11:15.368Z"
   },
   {
    "duration": 18,
    "start_time": "2023-12-11T20:11:15.391Z"
   },
   {
    "duration": 52,
    "start_time": "2023-12-11T20:11:15.410Z"
   },
   {
    "duration": 39,
    "start_time": "2023-12-11T20:11:15.463Z"
   },
   {
    "duration": 14,
    "start_time": "2023-12-11T20:11:15.503Z"
   },
   {
    "duration": 4,
    "start_time": "2023-12-11T20:11:15.519Z"
   },
   {
    "duration": 8,
    "start_time": "2023-12-11T20:11:15.524Z"
   },
   {
    "duration": 10,
    "start_time": "2023-12-11T20:11:15.534Z"
   },
   {
    "duration": 4,
    "start_time": "2023-12-11T20:11:15.546Z"
   },
   {
    "duration": 32,
    "start_time": "2023-12-11T20:11:15.552Z"
   },
   {
    "duration": 169,
    "start_time": "2023-12-11T20:11:15.585Z"
   },
   {
    "duration": 9,
    "start_time": "2023-12-11T20:11:15.755Z"
   },
   {
    "duration": 1282,
    "start_time": "2023-12-11T20:11:15.765Z"
   },
   {
    "duration": 0,
    "start_time": "2023-12-11T20:11:17.049Z"
   },
   {
    "duration": 0,
    "start_time": "2023-12-11T20:11:17.050Z"
   },
   {
    "duration": 0,
    "start_time": "2023-12-11T20:11:17.052Z"
   },
   {
    "duration": 0,
    "start_time": "2023-12-11T20:11:17.053Z"
   },
   {
    "duration": 0,
    "start_time": "2023-12-11T20:11:17.053Z"
   },
   {
    "duration": 0,
    "start_time": "2023-12-11T20:11:17.055Z"
   },
   {
    "duration": 0,
    "start_time": "2023-12-11T20:11:17.056Z"
   },
   {
    "duration": 0,
    "start_time": "2023-12-11T20:11:17.057Z"
   },
   {
    "duration": 0,
    "start_time": "2023-12-11T20:11:17.057Z"
   },
   {
    "duration": 0,
    "start_time": "2023-12-11T20:11:17.059Z"
   },
   {
    "duration": 1,
    "start_time": "2023-12-11T20:11:17.059Z"
   },
   {
    "duration": 0,
    "start_time": "2023-12-11T20:11:17.060Z"
   },
   {
    "duration": 0,
    "start_time": "2023-12-11T20:11:17.061Z"
   },
   {
    "duration": 0,
    "start_time": "2023-12-11T20:11:17.062Z"
   },
   {
    "duration": 0,
    "start_time": "2023-12-11T20:11:17.063Z"
   },
   {
    "duration": 0,
    "start_time": "2023-12-11T20:11:17.064Z"
   },
   {
    "duration": 0,
    "start_time": "2023-12-11T20:11:17.065Z"
   },
   {
    "duration": 0,
    "start_time": "2023-12-11T20:11:17.066Z"
   },
   {
    "duration": 0,
    "start_time": "2023-12-11T20:11:17.067Z"
   },
   {
    "duration": 0,
    "start_time": "2023-12-11T20:11:17.068Z"
   },
   {
    "duration": 122,
    "start_time": "2023-12-11T20:12:18.808Z"
   },
   {
    "duration": 167,
    "start_time": "2023-12-11T20:12:39.661Z"
   },
   {
    "duration": 16,
    "start_time": "2023-12-11T20:18:00.384Z"
   },
   {
    "duration": 11,
    "start_time": "2023-12-11T20:18:14.944Z"
   },
   {
    "duration": 277,
    "start_time": "2023-12-11T20:18:52.673Z"
   },
   {
    "duration": 180,
    "start_time": "2023-12-11T20:19:20.202Z"
   },
   {
    "duration": 140,
    "start_time": "2023-12-11T20:19:46.309Z"
   },
   {
    "duration": 120,
    "start_time": "2023-12-11T20:20:04.134Z"
   },
   {
    "duration": 118,
    "start_time": "2023-12-11T20:20:27.716Z"
   },
   {
    "duration": 123,
    "start_time": "2023-12-11T20:20:43.558Z"
   },
   {
    "duration": 122,
    "start_time": "2023-12-11T20:21:08.260Z"
   },
   {
    "duration": 124,
    "start_time": "2023-12-11T20:21:47.448Z"
   },
   {
    "duration": 125,
    "start_time": "2023-12-11T20:22:04.965Z"
   },
   {
    "duration": 124,
    "start_time": "2023-12-11T20:22:12.066Z"
   },
   {
    "duration": 130,
    "start_time": "2023-12-11T20:22:22.366Z"
   },
   {
    "duration": 121,
    "start_time": "2023-12-11T20:22:44.884Z"
   },
   {
    "duration": 260,
    "start_time": "2023-12-11T20:24:20.134Z"
   },
   {
    "duration": 228,
    "start_time": "2023-12-11T20:27:47.351Z"
   },
   {
    "duration": 8,
    "start_time": "2023-12-11T20:29:03.004Z"
   },
   {
    "duration": 27,
    "start_time": "2023-12-11T20:30:39.453Z"
   },
   {
    "duration": 8,
    "start_time": "2023-12-11T20:32:11.533Z"
   },
   {
    "duration": 13,
    "start_time": "2023-12-11T20:32:30.526Z"
   },
   {
    "duration": 18,
    "start_time": "2023-12-11T20:34:13.743Z"
   },
   {
    "duration": 17,
    "start_time": "2023-12-11T20:37:01.776Z"
   },
   {
    "duration": 831,
    "start_time": "2023-12-12T19:24:44.108Z"
   },
   {
    "duration": 329,
    "start_time": "2023-12-12T19:24:44.941Z"
   },
   {
    "duration": 33,
    "start_time": "2023-12-12T19:24:45.272Z"
   },
   {
    "duration": 14,
    "start_time": "2023-12-12T19:24:45.307Z"
   },
   {
    "duration": 80,
    "start_time": "2023-12-12T19:24:45.323Z"
   },
   {
    "duration": 27,
    "start_time": "2023-12-12T19:24:45.405Z"
   },
   {
    "duration": 14,
    "start_time": "2023-12-12T19:24:45.434Z"
   },
   {
    "duration": 4,
    "start_time": "2023-12-12T19:24:45.449Z"
   },
   {
    "duration": 7,
    "start_time": "2023-12-12T19:24:45.455Z"
   },
   {
    "duration": 12,
    "start_time": "2023-12-12T19:24:45.489Z"
   },
   {
    "duration": 6,
    "start_time": "2023-12-12T19:24:45.502Z"
   },
   {
    "duration": 18,
    "start_time": "2023-12-12T19:24:45.509Z"
   },
   {
    "duration": 205,
    "start_time": "2023-12-12T19:24:45.528Z"
   },
   {
    "duration": 6,
    "start_time": "2023-12-12T19:24:45.734Z"
   },
   {
    "duration": 154,
    "start_time": "2023-12-12T19:24:45.741Z"
   },
   {
    "duration": 292,
    "start_time": "2023-12-12T19:24:45.896Z"
   },
   {
    "duration": 8,
    "start_time": "2023-12-12T19:24:46.189Z"
   },
   {
    "duration": 186,
    "start_time": "2023-12-12T19:24:46.199Z"
   },
   {
    "duration": 139,
    "start_time": "2023-12-12T19:24:46.388Z"
   },
   {
    "duration": 27,
    "start_time": "2023-12-12T19:24:46.529Z"
   },
   {
    "duration": 31,
    "start_time": "2023-12-12T19:24:46.558Z"
   },
   {
    "duration": 28,
    "start_time": "2023-12-12T19:24:46.591Z"
   },
   {
    "duration": 219,
    "start_time": "2023-12-12T19:24:46.621Z"
   },
   {
    "duration": 193,
    "start_time": "2023-12-12T19:24:46.842Z"
   },
   {
    "duration": 27,
    "start_time": "2023-12-12T19:24:47.037Z"
   },
   {
    "duration": 39,
    "start_time": "2023-12-12T19:24:47.066Z"
   },
   {
    "duration": 25,
    "start_time": "2023-12-12T19:24:47.107Z"
   },
   {
    "duration": 26,
    "start_time": "2023-12-12T19:24:47.135Z"
   },
   {
    "duration": 490,
    "start_time": "2023-12-12T19:24:47.162Z"
   },
   {
    "duration": 16,
    "start_time": "2023-12-12T19:24:47.654Z"
   },
   {
    "duration": 20,
    "start_time": "2023-12-12T19:24:47.672Z"
   },
   {
    "duration": 11,
    "start_time": "2023-12-12T19:24:47.694Z"
   },
   {
    "duration": 5,
    "start_time": "2023-12-12T19:24:47.707Z"
   },
   {
    "duration": 175,
    "start_time": "2023-12-12T19:24:47.713Z"
   },
   {
    "duration": 273,
    "start_time": "2023-12-12T19:24:47.890Z"
   },
   {
    "duration": 0,
    "start_time": "2023-12-12T19:24:48.164Z"
   },
   {
    "duration": 0,
    "start_time": "2023-12-12T19:24:48.165Z"
   },
   {
    "duration": 13,
    "start_time": "2023-12-12T19:30:10.812Z"
   },
   {
    "duration": 35,
    "start_time": "2023-12-12T19:42:12.186Z"
   },
   {
    "duration": 32,
    "start_time": "2023-12-12T19:42:27.649Z"
   },
   {
    "duration": 28,
    "start_time": "2023-12-12T19:43:40.080Z"
   },
   {
    "duration": 27,
    "start_time": "2023-12-12T19:43:42.632Z"
   },
   {
    "duration": 94,
    "start_time": "2023-12-12T19:43:53.502Z"
   },
   {
    "duration": 28,
    "start_time": "2023-12-12T19:43:56.663Z"
   },
   {
    "duration": 37,
    "start_time": "2023-12-12T19:45:29.790Z"
   },
   {
    "duration": 25,
    "start_time": "2023-12-12T19:45:31.928Z"
   },
   {
    "duration": 27,
    "start_time": "2023-12-12T19:46:01.560Z"
   },
   {
    "duration": 798,
    "start_time": "2023-12-13T20:23:27.752Z"
   },
   {
    "duration": 223,
    "start_time": "2023-12-13T20:23:28.552Z"
   },
   {
    "duration": 25,
    "start_time": "2023-12-13T20:23:28.776Z"
   },
   {
    "duration": 14,
    "start_time": "2023-12-13T20:23:28.803Z"
   },
   {
    "duration": 57,
    "start_time": "2023-12-13T20:23:28.819Z"
   },
   {
    "duration": 45,
    "start_time": "2023-12-13T20:23:28.877Z"
   },
   {
    "duration": 15,
    "start_time": "2023-12-13T20:23:28.924Z"
   },
   {
    "duration": 5,
    "start_time": "2023-12-13T20:23:28.941Z"
   },
   {
    "duration": 20,
    "start_time": "2023-12-13T20:23:28.947Z"
   },
   {
    "duration": 38,
    "start_time": "2023-12-13T20:23:28.969Z"
   },
   {
    "duration": 6,
    "start_time": "2023-12-13T20:23:29.008Z"
   },
   {
    "duration": 6,
    "start_time": "2023-12-13T20:23:29.016Z"
   },
   {
    "duration": 198,
    "start_time": "2023-12-13T20:23:29.023Z"
   },
   {
    "duration": 5,
    "start_time": "2023-12-13T20:23:29.223Z"
   },
   {
    "duration": 161,
    "start_time": "2023-12-13T20:23:29.230Z"
   },
   {
    "duration": 265,
    "start_time": "2023-12-13T20:23:29.393Z"
   },
   {
    "duration": 9,
    "start_time": "2023-12-13T20:23:29.660Z"
   },
   {
    "duration": 205,
    "start_time": "2023-12-13T20:23:29.671Z"
   },
   {
    "duration": 132,
    "start_time": "2023-12-13T20:23:29.877Z"
   },
   {
    "duration": 30,
    "start_time": "2023-12-13T20:23:30.011Z"
   },
   {
    "duration": 60,
    "start_time": "2023-12-13T20:23:30.042Z"
   },
   {
    "duration": 41,
    "start_time": "2023-12-13T20:23:30.104Z"
   },
   {
    "duration": 221,
    "start_time": "2023-12-13T20:23:30.147Z"
   },
   {
    "duration": 194,
    "start_time": "2023-12-13T20:23:30.370Z"
   },
   {
    "duration": 15,
    "start_time": "2023-12-13T20:23:30.566Z"
   },
   {
    "duration": 196,
    "start_time": "2023-12-13T20:23:30.583Z"
   },
   {
    "duration": 158,
    "start_time": "2023-12-13T20:23:30.780Z"
   },
   {
    "duration": 201,
    "start_time": "2023-12-13T20:23:30.942Z"
   },
   {
    "duration": 0,
    "start_time": "2023-12-13T20:23:31.145Z"
   },
   {
    "duration": 0,
    "start_time": "2023-12-13T20:23:31.146Z"
   },
   {
    "duration": 0,
    "start_time": "2023-12-13T20:23:31.148Z"
   },
   {
    "duration": 0,
    "start_time": "2023-12-13T20:23:31.149Z"
   },
   {
    "duration": 0,
    "start_time": "2023-12-13T20:23:31.151Z"
   },
   {
    "duration": 0,
    "start_time": "2023-12-13T20:23:31.153Z"
   },
   {
    "duration": 0,
    "start_time": "2023-12-13T20:23:31.154Z"
   },
   {
    "duration": 0,
    "start_time": "2023-12-13T20:23:31.155Z"
   },
   {
    "duration": 0,
    "start_time": "2023-12-13T20:23:31.157Z"
   },
   {
    "duration": 0,
    "start_time": "2023-12-13T20:23:31.158Z"
   },
   {
    "duration": 54,
    "start_time": "2023-12-13T20:40:02.824Z"
   },
   {
    "duration": 14,
    "start_time": "2023-12-13T20:40:07.919Z"
   },
   {
    "duration": 789,
    "start_time": "2023-12-15T20:48:05.431Z"
   },
   {
    "duration": 512,
    "start_time": "2023-12-15T20:48:06.223Z"
   },
   {
    "duration": 24,
    "start_time": "2023-12-15T20:48:06.737Z"
   },
   {
    "duration": 13,
    "start_time": "2023-12-15T20:48:06.762Z"
   },
   {
    "duration": 88,
    "start_time": "2023-12-15T20:48:06.777Z"
   },
   {
    "duration": 27,
    "start_time": "2023-12-15T20:48:06.866Z"
   },
   {
    "duration": 34,
    "start_time": "2023-12-15T20:48:06.895Z"
   },
   {
    "duration": 4,
    "start_time": "2023-12-15T20:48:06.931Z"
   },
   {
    "duration": 8,
    "start_time": "2023-12-15T20:48:06.937Z"
   },
   {
    "duration": 21,
    "start_time": "2023-12-15T20:48:06.947Z"
   },
   {
    "duration": 6,
    "start_time": "2023-12-15T20:48:06.970Z"
   },
   {
    "duration": 16,
    "start_time": "2023-12-15T20:48:06.978Z"
   },
   {
    "duration": 194,
    "start_time": "2023-12-15T20:48:06.996Z"
   },
   {
    "duration": 6,
    "start_time": "2023-12-15T20:48:07.193Z"
   },
   {
    "duration": 152,
    "start_time": "2023-12-15T20:48:07.201Z"
   },
   {
    "duration": 284,
    "start_time": "2023-12-15T20:48:07.355Z"
   },
   {
    "duration": 8,
    "start_time": "2023-12-15T20:48:07.640Z"
   },
   {
    "duration": 193,
    "start_time": "2023-12-15T20:48:07.650Z"
   },
   {
    "duration": 174,
    "start_time": "2023-12-15T20:48:07.846Z"
   },
   {
    "duration": 30,
    "start_time": "2023-12-15T20:48:08.022Z"
   },
   {
    "duration": 19,
    "start_time": "2023-12-15T20:48:08.054Z"
   },
   {
    "duration": 49,
    "start_time": "2023-12-15T20:48:08.075Z"
   },
   {
    "duration": 204,
    "start_time": "2023-12-15T20:48:08.129Z"
   },
   {
    "duration": 184,
    "start_time": "2023-12-15T20:48:08.335Z"
   },
   {
    "duration": 12,
    "start_time": "2023-12-15T20:48:08.526Z"
   },
   {
    "duration": 22,
    "start_time": "2023-12-15T20:48:08.539Z"
   },
   {
    "duration": 2,
    "start_time": "2023-12-15T20:48:08.563Z"
   },
   {
    "duration": 12,
    "start_time": "2023-12-15T20:48:08.566Z"
   },
   {
    "duration": 94,
    "start_time": "2023-12-15T20:48:08.580Z"
   },
   {
    "duration": 0,
    "start_time": "2023-12-15T20:48:08.676Z"
   },
   {
    "duration": 0,
    "start_time": "2023-12-15T20:48:08.677Z"
   },
   {
    "duration": 0,
    "start_time": "2023-12-15T20:48:08.679Z"
   },
   {
    "duration": 0,
    "start_time": "2023-12-15T20:48:08.680Z"
   },
   {
    "duration": 1,
    "start_time": "2023-12-15T20:48:08.681Z"
   },
   {
    "duration": 0,
    "start_time": "2023-12-15T20:48:08.683Z"
   },
   {
    "duration": 0,
    "start_time": "2023-12-15T20:48:08.684Z"
   },
   {
    "duration": 0,
    "start_time": "2023-12-15T20:48:08.685Z"
   },
   {
    "duration": 0,
    "start_time": "2023-12-15T20:48:08.687Z"
   },
   {
    "duration": 10,
    "start_time": "2023-12-15T21:20:49.301Z"
   },
   {
    "duration": 15,
    "start_time": "2023-12-15T21:21:11.629Z"
   },
   {
    "duration": 10,
    "start_time": "2023-12-15T21:21:57.053Z"
   },
   {
    "duration": 12,
    "start_time": "2023-12-15T21:22:07.302Z"
   },
   {
    "duration": 14,
    "start_time": "2023-12-15T21:23:37.004Z"
   },
   {
    "duration": 13,
    "start_time": "2023-12-15T21:23:38.235Z"
   },
   {
    "duration": 13,
    "start_time": "2023-12-15T21:30:15.419Z"
   },
   {
    "duration": 12,
    "start_time": "2023-12-15T21:30:17.170Z"
   },
   {
    "duration": 746,
    "start_time": "2023-12-23T19:53:28.071Z"
   },
   {
    "duration": 701,
    "start_time": "2023-12-23T19:53:28.819Z"
   },
   {
    "duration": 22,
    "start_time": "2023-12-23T19:53:29.522Z"
   },
   {
    "duration": 13,
    "start_time": "2023-12-23T19:53:29.546Z"
   },
   {
    "duration": 66,
    "start_time": "2023-12-23T19:53:29.560Z"
   },
   {
    "duration": 23,
    "start_time": "2023-12-23T19:53:29.628Z"
   },
   {
    "duration": 13,
    "start_time": "2023-12-23T19:53:29.653Z"
   },
   {
    "duration": 5,
    "start_time": "2023-12-23T19:53:29.667Z"
   },
   {
    "duration": 10,
    "start_time": "2023-12-23T19:53:29.673Z"
   },
   {
    "duration": 36,
    "start_time": "2023-12-23T19:53:29.686Z"
   },
   {
    "duration": 6,
    "start_time": "2023-12-23T19:53:29.723Z"
   },
   {
    "duration": 5,
    "start_time": "2023-12-23T19:53:29.730Z"
   },
   {
    "duration": 174,
    "start_time": "2023-12-23T19:53:29.736Z"
   },
   {
    "duration": 10,
    "start_time": "2023-12-23T19:53:29.912Z"
   },
   {
    "duration": 136,
    "start_time": "2023-12-23T19:53:29.923Z"
   },
   {
    "duration": 246,
    "start_time": "2023-12-23T19:53:30.061Z"
   },
   {
    "duration": 15,
    "start_time": "2023-12-23T19:53:30.308Z"
   },
   {
    "duration": 184,
    "start_time": "2023-12-23T19:53:30.324Z"
   },
   {
    "duration": 119,
    "start_time": "2023-12-23T19:53:30.509Z"
   },
   {
    "duration": 25,
    "start_time": "2023-12-23T19:53:30.629Z"
   },
   {
    "duration": 26,
    "start_time": "2023-12-23T19:53:30.656Z"
   },
   {
    "duration": 47,
    "start_time": "2023-12-23T19:53:30.684Z"
   },
   {
    "duration": 194,
    "start_time": "2023-12-23T19:53:30.733Z"
   },
   {
    "duration": 189,
    "start_time": "2023-12-23T19:53:30.929Z"
   },
   {
    "duration": 12,
    "start_time": "2023-12-23T19:53:31.121Z"
   },
   {
    "duration": 62,
    "start_time": "2023-12-23T19:53:31.135Z"
   },
   {
    "duration": 43,
    "start_time": "2023-12-23T19:53:31.199Z"
   },
   {
    "duration": 39,
    "start_time": "2023-12-23T19:53:31.245Z"
   },
   {
    "duration": 112,
    "start_time": "2023-12-23T19:53:31.286Z"
   },
   {
    "duration": 0,
    "start_time": "2023-12-23T19:53:31.400Z"
   },
   {
    "duration": 0,
    "start_time": "2023-12-23T19:53:31.401Z"
   },
   {
    "duration": 0,
    "start_time": "2023-12-23T19:53:31.402Z"
   },
   {
    "duration": 0,
    "start_time": "2023-12-23T19:53:31.403Z"
   },
   {
    "duration": 0,
    "start_time": "2023-12-23T19:53:31.404Z"
   },
   {
    "duration": 0,
    "start_time": "2023-12-23T19:53:31.405Z"
   },
   {
    "duration": 0,
    "start_time": "2023-12-23T19:53:31.406Z"
   },
   {
    "duration": 0,
    "start_time": "2023-12-23T19:53:31.407Z"
   },
   {
    "duration": 0,
    "start_time": "2023-12-23T19:53:31.408Z"
   },
   {
    "duration": 9,
    "start_time": "2023-12-23T19:58:14.294Z"
   },
   {
    "duration": 11,
    "start_time": "2023-12-23T19:58:21.253Z"
   },
   {
    "duration": 11,
    "start_time": "2023-12-23T19:59:18.312Z"
   },
   {
    "duration": 13,
    "start_time": "2023-12-23T20:00:46.622Z"
   },
   {
    "duration": 26,
    "start_time": "2023-12-23T20:01:32.176Z"
   },
   {
    "duration": 24,
    "start_time": "2023-12-23T20:01:43.887Z"
   },
   {
    "duration": 26,
    "start_time": "2023-12-23T20:02:10.966Z"
   },
   {
    "duration": 24,
    "start_time": "2023-12-23T20:05:26.414Z"
   },
   {
    "duration": 16,
    "start_time": "2023-12-23T20:09:37.482Z"
   },
   {
    "duration": 14,
    "start_time": "2023-12-23T20:13:06.099Z"
   },
   {
    "duration": 1164,
    "start_time": "2023-12-23T20:13:07.369Z"
   },
   {
    "duration": 25,
    "start_time": "2023-12-23T20:14:57.359Z"
   },
   {
    "duration": 3,
    "start_time": "2023-12-23T20:14:59.913Z"
   },
   {
    "duration": 14,
    "start_time": "2023-12-23T20:15:02.144Z"
   },
   {
    "duration": 1143,
    "start_time": "2023-12-23T20:18:56.391Z"
   },
   {
    "duration": 1176,
    "start_time": "2023-12-23T20:19:13.951Z"
   },
   {
    "duration": 26,
    "start_time": "2023-12-23T20:19:19.584Z"
   },
   {
    "duration": 4,
    "start_time": "2023-12-23T20:19:24.629Z"
   },
   {
    "duration": 15,
    "start_time": "2023-12-23T20:19:26.945Z"
   },
   {
    "duration": 48,
    "start_time": "2023-12-24T09:38:21.089Z"
   },
   {
    "duration": 804,
    "start_time": "2023-12-24T09:38:28.623Z"
   },
   {
    "duration": 232,
    "start_time": "2023-12-24T09:38:29.429Z"
   },
   {
    "duration": 22,
    "start_time": "2023-12-24T09:38:29.663Z"
   },
   {
    "duration": 12,
    "start_time": "2023-12-24T09:38:29.687Z"
   },
   {
    "duration": 53,
    "start_time": "2023-12-24T09:38:29.701Z"
   },
   {
    "duration": 25,
    "start_time": "2023-12-24T09:38:29.755Z"
   },
   {
    "duration": 18,
    "start_time": "2023-12-24T09:38:29.782Z"
   },
   {
    "duration": 17,
    "start_time": "2023-12-24T09:38:29.802Z"
   },
   {
    "duration": 10,
    "start_time": "2023-12-24T09:38:29.820Z"
   },
   {
    "duration": 25,
    "start_time": "2023-12-24T09:38:29.832Z"
   },
   {
    "duration": 5,
    "start_time": "2023-12-24T09:38:29.858Z"
   },
   {
    "duration": 5,
    "start_time": "2023-12-24T09:38:29.865Z"
   },
   {
    "duration": 173,
    "start_time": "2023-12-24T09:38:29.871Z"
   },
   {
    "duration": 1216,
    "start_time": "2023-12-24T09:38:30.045Z"
   },
   {
    "duration": 0,
    "start_time": "2023-12-24T09:38:31.263Z"
   },
   {
    "duration": 0,
    "start_time": "2023-12-24T09:38:31.264Z"
   },
   {
    "duration": 0,
    "start_time": "2023-12-24T09:38:31.265Z"
   },
   {
    "duration": 0,
    "start_time": "2023-12-24T09:38:31.266Z"
   },
   {
    "duration": 0,
    "start_time": "2023-12-24T09:38:31.267Z"
   },
   {
    "duration": 0,
    "start_time": "2023-12-24T09:38:31.269Z"
   },
   {
    "duration": 0,
    "start_time": "2023-12-24T09:38:31.270Z"
   },
   {
    "duration": 0,
    "start_time": "2023-12-24T09:38:31.271Z"
   },
   {
    "duration": 0,
    "start_time": "2023-12-24T09:38:31.272Z"
   },
   {
    "duration": 0,
    "start_time": "2023-12-24T09:38:31.274Z"
   },
   {
    "duration": 0,
    "start_time": "2023-12-24T09:38:31.275Z"
   },
   {
    "duration": 0,
    "start_time": "2023-12-24T09:38:31.276Z"
   },
   {
    "duration": 0,
    "start_time": "2023-12-24T09:38:31.279Z"
   },
   {
    "duration": 0,
    "start_time": "2023-12-24T09:38:31.280Z"
   },
   {
    "duration": 0,
    "start_time": "2023-12-24T09:38:31.280Z"
   },
   {
    "duration": 0,
    "start_time": "2023-12-24T09:38:31.282Z"
   },
   {
    "duration": 0,
    "start_time": "2023-12-24T09:38:31.283Z"
   },
   {
    "duration": 0,
    "start_time": "2023-12-24T09:38:31.284Z"
   },
   {
    "duration": 0,
    "start_time": "2023-12-24T09:38:31.285Z"
   },
   {
    "duration": 0,
    "start_time": "2023-12-24T09:38:31.286Z"
   },
   {
    "duration": 0,
    "start_time": "2023-12-24T09:38:31.287Z"
   },
   {
    "duration": 0,
    "start_time": "2023-12-24T09:38:31.288Z"
   },
   {
    "duration": 0,
    "start_time": "2023-12-24T09:38:31.289Z"
   },
   {
    "duration": 0,
    "start_time": "2023-12-24T09:38:31.290Z"
   },
   {
    "duration": 0,
    "start_time": "2023-12-24T09:38:31.291Z"
   },
   {
    "duration": 139,
    "start_time": "2023-12-24T09:38:51.297Z"
   },
   {
    "duration": 6,
    "start_time": "2023-12-24T09:39:40.966Z"
   },
   {
    "duration": 136,
    "start_time": "2023-12-24T09:39:40.974Z"
   },
   {
    "duration": 297,
    "start_time": "2023-12-24T09:39:41.114Z"
   },
   {
    "duration": 8,
    "start_time": "2023-12-24T09:39:41.412Z"
   },
   {
    "duration": 125,
    "start_time": "2023-12-24T09:39:41.422Z"
   },
   {
    "duration": 124,
    "start_time": "2023-12-24T09:39:41.548Z"
   },
   {
    "duration": 25,
    "start_time": "2023-12-24T09:39:41.674Z"
   },
   {
    "duration": 31,
    "start_time": "2023-12-24T09:39:41.700Z"
   },
   {
    "duration": 26,
    "start_time": "2023-12-24T09:39:41.733Z"
   },
   {
    "duration": 204,
    "start_time": "2023-12-24T09:39:41.760Z"
   },
   {
    "duration": 183,
    "start_time": "2023-12-24T09:39:41.967Z"
   },
   {
    "duration": 13,
    "start_time": "2023-12-24T09:39:42.151Z"
   },
   {
    "duration": 24,
    "start_time": "2023-12-24T09:39:42.165Z"
   },
   {
    "duration": 44,
    "start_time": "2023-12-24T09:39:42.190Z"
   },
   {
    "duration": 4,
    "start_time": "2023-12-24T09:39:42.235Z"
   },
   {
    "duration": 15,
    "start_time": "2023-12-24T09:39:42.240Z"
   },
   {
    "duration": 0,
    "start_time": "2023-12-24T09:39:42.257Z"
   },
   {
    "duration": 0,
    "start_time": "2023-12-24T09:39:42.258Z"
   },
   {
    "duration": 0,
    "start_time": "2023-12-24T09:39:42.259Z"
   },
   {
    "duration": 0,
    "start_time": "2023-12-24T09:39:42.261Z"
   },
   {
    "duration": 0,
    "start_time": "2023-12-24T09:39:42.262Z"
   },
   {
    "duration": 0,
    "start_time": "2023-12-24T09:39:42.263Z"
   },
   {
    "duration": 0,
    "start_time": "2023-12-24T09:39:42.264Z"
   },
   {
    "duration": 0,
    "start_time": "2023-12-24T09:39:42.264Z"
   },
   {
    "duration": 0,
    "start_time": "2023-12-24T09:39:42.265Z"
   },
   {
    "duration": 29,
    "start_time": "2023-12-24T09:43:14.330Z"
   },
   {
    "duration": 9,
    "start_time": "2023-12-24T09:45:06.640Z"
   },
   {
    "duration": 4,
    "start_time": "2023-12-24T09:45:13.832Z"
   },
   {
    "duration": 9,
    "start_time": "2023-12-24T09:45:15.448Z"
   },
   {
    "duration": 4,
    "start_time": "2023-12-24T09:45:19.029Z"
   },
   {
    "duration": 13,
    "start_time": "2023-12-24T09:46:59.328Z"
   },
   {
    "duration": 13,
    "start_time": "2023-12-24T09:49:03.587Z"
   },
   {
    "duration": 30,
    "start_time": "2023-12-24T09:50:40.174Z"
   },
   {
    "duration": 31,
    "start_time": "2023-12-24T09:59:20.202Z"
   },
   {
    "duration": 13,
    "start_time": "2023-12-24T10:03:54.577Z"
   },
   {
    "duration": 1183,
    "start_time": "2023-12-24T10:04:08.090Z"
   },
   {
    "duration": 4,
    "start_time": "2023-12-24T10:04:25.402Z"
   },
   {
    "duration": 10,
    "start_time": "2023-12-24T10:04:27.668Z"
   },
   {
    "duration": 29,
    "start_time": "2023-12-24T10:04:33.829Z"
   },
   {
    "duration": 4,
    "start_time": "2023-12-24T10:04:48.563Z"
   },
   {
    "duration": 16,
    "start_time": "2023-12-24T10:04:49.957Z"
   },
   {
    "duration": 446,
    "start_time": "2023-12-24T10:09:32.995Z"
   },
   {
    "duration": 15,
    "start_time": "2023-12-24T10:09:33.444Z"
   },
   {
    "duration": 7,
    "start_time": "2023-12-24T10:09:33.461Z"
   },
   {
    "duration": 11,
    "start_time": "2023-12-24T10:09:33.469Z"
   },
   {
    "duration": 7,
    "start_time": "2023-12-24T10:09:33.482Z"
   },
   {
    "duration": 254,
    "start_time": "2023-12-24T10:09:33.490Z"
   },
   {
    "duration": 212,
    "start_time": "2023-12-24T10:09:33.746Z"
   },
   {
    "duration": 0,
    "start_time": "2023-12-24T10:09:33.959Z"
   },
   {
    "duration": 0,
    "start_time": "2023-12-24T10:09:33.960Z"
   },
   {
    "duration": 610,
    "start_time": "2023-12-24T10:12:29.339Z"
   },
   {
    "duration": 178,
    "start_time": "2023-12-24T10:12:29.951Z"
   },
   {
    "duration": 24,
    "start_time": "2023-12-24T10:12:30.130Z"
   },
   {
    "duration": 22,
    "start_time": "2023-12-24T10:12:30.156Z"
   },
   {
    "duration": 75,
    "start_time": "2023-12-24T10:12:30.179Z"
   },
   {
    "duration": 25,
    "start_time": "2023-12-24T10:12:30.256Z"
   },
   {
    "duration": 27,
    "start_time": "2023-12-24T10:12:30.282Z"
   },
   {
    "duration": 15,
    "start_time": "2023-12-24T10:12:30.311Z"
   },
   {
    "duration": 24,
    "start_time": "2023-12-24T10:12:30.328Z"
   },
   {
    "duration": 36,
    "start_time": "2023-12-24T10:12:30.355Z"
   },
   {
    "duration": 25,
    "start_time": "2023-12-24T10:12:30.393Z"
   },
   {
    "duration": 40,
    "start_time": "2023-12-24T10:12:30.419Z"
   },
   {
    "duration": 203,
    "start_time": "2023-12-24T10:12:30.461Z"
   },
   {
    "duration": 6,
    "start_time": "2023-12-24T10:12:30.666Z"
   },
   {
    "duration": 158,
    "start_time": "2023-12-24T10:12:30.674Z"
   },
   {
    "duration": 246,
    "start_time": "2023-12-24T10:12:30.834Z"
   },
   {
    "duration": 8,
    "start_time": "2023-12-24T10:12:31.081Z"
   },
   {
    "duration": 204,
    "start_time": "2023-12-24T10:12:31.090Z"
   },
   {
    "duration": 122,
    "start_time": "2023-12-24T10:12:31.296Z"
   },
   {
    "duration": 26,
    "start_time": "2023-12-24T10:12:31.419Z"
   },
   {
    "duration": 77,
    "start_time": "2023-12-24T10:12:31.446Z"
   },
   {
    "duration": 52,
    "start_time": "2023-12-24T10:12:31.524Z"
   },
   {
    "duration": 254,
    "start_time": "2023-12-24T10:12:31.578Z"
   },
   {
    "duration": 191,
    "start_time": "2023-12-24T10:12:31.833Z"
   },
   {
    "duration": 13,
    "start_time": "2023-12-24T10:12:32.025Z"
   },
   {
    "duration": 38,
    "start_time": "2023-12-24T10:12:32.039Z"
   },
   {
    "duration": 38,
    "start_time": "2023-12-24T10:12:32.078Z"
   },
   {
    "duration": 7,
    "start_time": "2023-12-24T10:12:32.119Z"
   },
   {
    "duration": 92,
    "start_time": "2023-12-24T10:12:32.127Z"
   },
   {
    "duration": 0,
    "start_time": "2023-12-24T10:12:32.221Z"
   },
   {
    "duration": 0,
    "start_time": "2023-12-24T10:12:32.222Z"
   },
   {
    "duration": 0,
    "start_time": "2023-12-24T10:12:32.223Z"
   },
   {
    "duration": 0,
    "start_time": "2023-12-24T10:12:32.223Z"
   },
   {
    "duration": 0,
    "start_time": "2023-12-24T10:12:32.224Z"
   },
   {
    "duration": 0,
    "start_time": "2023-12-24T10:12:32.225Z"
   },
   {
    "duration": 0,
    "start_time": "2023-12-24T10:12:32.226Z"
   },
   {
    "duration": 0,
    "start_time": "2023-12-24T10:12:32.227Z"
   },
   {
    "duration": 0,
    "start_time": "2023-12-24T10:12:32.227Z"
   },
   {
    "duration": 886,
    "start_time": "2024-02-01T16:34:34.405Z"
   },
   {
    "duration": 206,
    "start_time": "2024-02-01T16:34:35.293Z"
   },
   {
    "duration": 26,
    "start_time": "2024-02-01T16:34:35.500Z"
   },
   {
    "duration": 13,
    "start_time": "2024-02-01T16:34:35.528Z"
   },
   {
    "duration": 85,
    "start_time": "2024-02-01T16:34:35.543Z"
   },
   {
    "duration": 27,
    "start_time": "2024-02-01T16:34:35.629Z"
   },
   {
    "duration": 34,
    "start_time": "2024-02-01T16:34:35.658Z"
   },
   {
    "duration": 4,
    "start_time": "2024-02-01T16:34:35.694Z"
   },
   {
    "duration": 12,
    "start_time": "2024-02-01T16:34:35.699Z"
   },
   {
    "duration": 12,
    "start_time": "2024-02-01T16:34:35.713Z"
   },
   {
    "duration": 5,
    "start_time": "2024-02-01T16:34:35.727Z"
   },
   {
    "duration": 22,
    "start_time": "2024-02-01T16:34:35.733Z"
   },
   {
    "duration": 225,
    "start_time": "2024-02-01T16:34:35.757Z"
   },
   {
    "duration": 6,
    "start_time": "2024-02-01T16:34:35.985Z"
   },
   {
    "duration": 168,
    "start_time": "2024-02-01T16:34:35.993Z"
   },
   {
    "duration": 289,
    "start_time": "2024-02-01T16:34:36.162Z"
   },
   {
    "duration": 8,
    "start_time": "2024-02-01T16:34:36.453Z"
   },
   {
    "duration": 209,
    "start_time": "2024-02-01T16:34:36.463Z"
   },
   {
    "duration": 141,
    "start_time": "2024-02-01T16:34:36.673Z"
   },
   {
    "duration": 28,
    "start_time": "2024-02-01T16:34:36.815Z"
   },
   {
    "duration": 38,
    "start_time": "2024-02-01T16:34:36.845Z"
   },
   {
    "duration": 29,
    "start_time": "2024-02-01T16:34:36.885Z"
   },
   {
    "duration": 224,
    "start_time": "2024-02-01T16:34:36.916Z"
   },
   {
    "duration": 199,
    "start_time": "2024-02-01T16:34:37.141Z"
   },
   {
    "duration": 14,
    "start_time": "2024-02-01T16:34:37.342Z"
   },
   {
    "duration": 47,
    "start_time": "2024-02-01T16:34:37.357Z"
   },
   {
    "duration": 28,
    "start_time": "2024-02-01T16:34:37.405Z"
   },
   {
    "duration": 4,
    "start_time": "2024-02-01T16:34:37.434Z"
   },
   {
    "duration": 103,
    "start_time": "2024-02-01T16:34:37.439Z"
   },
   {
    "duration": 0,
    "start_time": "2024-02-01T16:34:37.543Z"
   },
   {
    "duration": 0,
    "start_time": "2024-02-01T16:34:37.545Z"
   },
   {
    "duration": 0,
    "start_time": "2024-02-01T16:34:37.546Z"
   },
   {
    "duration": 0,
    "start_time": "2024-02-01T16:34:37.547Z"
   },
   {
    "duration": 0,
    "start_time": "2024-02-01T16:34:37.548Z"
   },
   {
    "duration": 0,
    "start_time": "2024-02-01T16:34:37.549Z"
   },
   {
    "duration": 0,
    "start_time": "2024-02-01T16:34:37.550Z"
   },
   {
    "duration": 0,
    "start_time": "2024-02-01T16:34:37.551Z"
   },
   {
    "duration": 0,
    "start_time": "2024-02-01T16:34:37.552Z"
   },
   {
    "duration": 92,
    "start_time": "2024-02-01T16:42:20.998Z"
   },
   {
    "duration": 830,
    "start_time": "2024-02-01T20:23:33.820Z"
   },
   {
    "duration": 197,
    "start_time": "2024-02-01T20:23:34.652Z"
   },
   {
    "duration": 29,
    "start_time": "2024-02-01T20:23:34.851Z"
   },
   {
    "duration": 21,
    "start_time": "2024-02-01T20:23:34.883Z"
   },
   {
    "duration": 91,
    "start_time": "2024-02-01T20:23:34.907Z"
   },
   {
    "duration": 38,
    "start_time": "2024-02-01T20:23:35.000Z"
   },
   {
    "duration": 16,
    "start_time": "2024-02-01T20:23:35.040Z"
   },
   {
    "duration": 34,
    "start_time": "2024-02-01T20:23:35.058Z"
   },
   {
    "duration": 8,
    "start_time": "2024-02-01T20:23:35.094Z"
   },
   {
    "duration": 41,
    "start_time": "2024-02-01T20:23:35.105Z"
   },
   {
    "duration": 13,
    "start_time": "2024-02-01T20:23:35.148Z"
   },
   {
    "duration": 31,
    "start_time": "2024-02-01T20:23:35.163Z"
   },
   {
    "duration": 217,
    "start_time": "2024-02-01T20:23:35.196Z"
   },
   {
    "duration": 6,
    "start_time": "2024-02-01T20:23:35.415Z"
   },
   {
    "duration": 170,
    "start_time": "2024-02-01T20:23:35.423Z"
   },
   {
    "duration": 296,
    "start_time": "2024-02-01T20:23:35.595Z"
   },
   {
    "duration": 10,
    "start_time": "2024-02-01T20:23:35.893Z"
   },
   {
    "duration": 234,
    "start_time": "2024-02-01T20:23:35.905Z"
   },
   {
    "duration": 152,
    "start_time": "2024-02-01T20:23:36.141Z"
   },
   {
    "duration": 33,
    "start_time": "2024-02-01T20:23:36.295Z"
   },
   {
    "duration": 26,
    "start_time": "2024-02-01T20:23:36.331Z"
   },
   {
    "duration": 64,
    "start_time": "2024-02-01T20:23:36.358Z"
   },
   {
    "duration": 242,
    "start_time": "2024-02-01T20:23:36.423Z"
   },
   {
    "duration": 224,
    "start_time": "2024-02-01T20:23:36.667Z"
   },
   {
    "duration": 14,
    "start_time": "2024-02-01T20:23:36.893Z"
   },
   {
    "duration": 31,
    "start_time": "2024-02-01T20:23:36.909Z"
   },
   {
    "duration": 211,
    "start_time": "2024-02-01T20:23:36.941Z"
   },
   {
    "duration": 0,
    "start_time": "2024-02-01T20:23:37.155Z"
   },
   {
    "duration": 0,
    "start_time": "2024-02-01T20:23:37.157Z"
   },
   {
    "duration": 0,
    "start_time": "2024-02-01T20:23:37.159Z"
   },
   {
    "duration": 0,
    "start_time": "2024-02-01T20:23:37.160Z"
   },
   {
    "duration": 0,
    "start_time": "2024-02-01T20:23:37.162Z"
   },
   {
    "duration": 0,
    "start_time": "2024-02-01T20:23:37.164Z"
   },
   {
    "duration": 0,
    "start_time": "2024-02-01T20:23:37.165Z"
   },
   {
    "duration": 0,
    "start_time": "2024-02-01T20:23:37.167Z"
   },
   {
    "duration": 0,
    "start_time": "2024-02-01T20:23:37.169Z"
   },
   {
    "duration": 0,
    "start_time": "2024-02-01T20:23:37.170Z"
   },
   {
    "duration": 0,
    "start_time": "2024-02-01T20:23:37.172Z"
   },
   {
    "duration": 0,
    "start_time": "2024-02-01T20:23:37.174Z"
   },
   {
    "duration": 154,
    "start_time": "2024-02-01T20:31:11.809Z"
   },
   {
    "duration": 112,
    "start_time": "2024-02-01T20:33:09.938Z"
   },
   {
    "duration": 125,
    "start_time": "2024-02-01T20:36:51.451Z"
   },
   {
    "duration": 711,
    "start_time": "2024-02-01T20:37:00.106Z"
   },
   {
    "duration": 314,
    "start_time": "2024-02-01T20:37:00.819Z"
   },
   {
    "duration": 37,
    "start_time": "2024-02-01T20:37:01.135Z"
   },
   {
    "duration": 47,
    "start_time": "2024-02-01T20:37:01.174Z"
   },
   {
    "duration": 126,
    "start_time": "2024-02-01T20:37:01.224Z"
   },
   {
    "duration": 47,
    "start_time": "2024-02-01T20:37:01.351Z"
   },
   {
    "duration": 24,
    "start_time": "2024-02-01T20:37:01.400Z"
   },
   {
    "duration": 114,
    "start_time": "2024-02-01T20:37:01.426Z"
   },
   {
    "duration": 218,
    "start_time": "2024-02-01T20:37:01.542Z"
   },
   {
    "duration": 155,
    "start_time": "2024-02-01T20:37:01.762Z"
   },
   {
    "duration": 140,
    "start_time": "2024-02-01T20:37:01.918Z"
   },
   {
    "duration": 154,
    "start_time": "2024-02-01T20:37:02.059Z"
   },
   {
    "duration": 271,
    "start_time": "2024-02-01T20:37:02.215Z"
   },
   {
    "duration": 8,
    "start_time": "2024-02-01T20:37:02.494Z"
   },
   {
    "duration": 203,
    "start_time": "2024-02-01T20:37:02.504Z"
   },
   {
    "duration": 315,
    "start_time": "2024-02-01T20:37:02.709Z"
   },
   {
    "duration": 10,
    "start_time": "2024-02-01T20:37:03.026Z"
   },
   {
    "duration": 218,
    "start_time": "2024-02-01T20:37:03.038Z"
   },
   {
    "duration": 149,
    "start_time": "2024-02-01T20:37:03.258Z"
   },
   {
    "duration": 32,
    "start_time": "2024-02-01T20:37:03.409Z"
   },
   {
    "duration": 53,
    "start_time": "2024-02-01T20:37:03.443Z"
   },
   {
    "duration": 31,
    "start_time": "2024-02-01T20:37:03.497Z"
   },
   {
    "duration": 267,
    "start_time": "2024-02-01T20:37:03.530Z"
   },
   {
    "duration": 227,
    "start_time": "2024-02-01T20:37:03.799Z"
   },
   {
    "duration": 19,
    "start_time": "2024-02-01T20:37:04.028Z"
   },
   {
    "duration": 90,
    "start_time": "2024-02-01T20:37:04.049Z"
   },
   {
    "duration": 0,
    "start_time": "2024-02-01T20:37:04.141Z"
   },
   {
    "duration": 0,
    "start_time": "2024-02-01T20:37:04.142Z"
   },
   {
    "duration": 0,
    "start_time": "2024-02-01T20:37:04.143Z"
   },
   {
    "duration": 0,
    "start_time": "2024-02-01T20:37:04.144Z"
   },
   {
    "duration": 0,
    "start_time": "2024-02-01T20:37:04.146Z"
   },
   {
    "duration": 0,
    "start_time": "2024-02-01T20:37:04.147Z"
   },
   {
    "duration": 0,
    "start_time": "2024-02-01T20:37:04.148Z"
   },
   {
    "duration": 0,
    "start_time": "2024-02-01T20:37:04.149Z"
   },
   {
    "duration": 0,
    "start_time": "2024-02-01T20:37:04.150Z"
   },
   {
    "duration": 0,
    "start_time": "2024-02-01T20:37:04.151Z"
   },
   {
    "duration": 0,
    "start_time": "2024-02-01T20:37:04.152Z"
   },
   {
    "duration": 0,
    "start_time": "2024-02-01T20:37:04.154Z"
   },
   {
    "duration": 0,
    "start_time": "2024-02-01T20:37:04.155Z"
   },
   {
    "duration": 95,
    "start_time": "2024-02-01T20:37:37.464Z"
   },
   {
    "duration": 117,
    "start_time": "2024-02-01T20:37:53.960Z"
   },
   {
    "duration": 3,
    "start_time": "2024-02-01T20:38:11.488Z"
   },
   {
    "duration": 116,
    "start_time": "2024-02-01T20:38:12.402Z"
   },
   {
    "duration": 165,
    "start_time": "2024-02-01T20:43:38.525Z"
   },
   {
    "duration": 1348,
    "start_time": "2024-02-01T20:45:04.839Z"
   },
   {
    "duration": 23,
    "start_time": "2024-02-01T20:45:52.101Z"
   },
   {
    "duration": 6,
    "start_time": "2024-02-01T20:46:41.279Z"
   },
   {
    "duration": 24,
    "start_time": "2024-02-01T20:46:41.824Z"
   },
   {
    "duration": 23,
    "start_time": "2024-02-01T20:50:29.630Z"
   },
   {
    "duration": 25,
    "start_time": "2024-02-01T20:51:10.962Z"
   },
   {
    "duration": 20,
    "start_time": "2024-02-01T20:51:27.807Z"
   },
   {
    "duration": 35,
    "start_time": "2024-02-01T20:52:46.720Z"
   },
   {
    "duration": 28,
    "start_time": "2024-02-01T20:53:26.736Z"
   },
   {
    "duration": 29,
    "start_time": "2024-02-01T20:54:20.618Z"
   },
   {
    "duration": 95,
    "start_time": "2024-02-01T20:56:03.919Z"
   },
   {
    "duration": 31,
    "start_time": "2024-02-01T20:56:11.266Z"
   },
   {
    "duration": 37,
    "start_time": "2024-02-01T20:58:09.754Z"
   },
   {
    "duration": 49,
    "start_time": "2024-02-01T20:58:51.840Z"
   },
   {
    "duration": 46,
    "start_time": "2024-02-01T20:59:00.307Z"
   },
   {
    "duration": 36,
    "start_time": "2024-02-01T20:59:38.765Z"
   },
   {
    "duration": 86,
    "start_time": "2024-02-01T21:08:34.176Z"
   },
   {
    "duration": 40,
    "start_time": "2024-02-01T21:08:48.814Z"
   },
   {
    "duration": 41,
    "start_time": "2024-02-01T21:10:17.567Z"
   },
   {
    "duration": 35,
    "start_time": "2024-02-01T21:10:33.260Z"
   },
   {
    "duration": 56,
    "start_time": "2024-02-01T21:10:57.847Z"
   },
   {
    "duration": 856,
    "start_time": "2024-02-04T22:09:05.808Z"
   },
   {
    "duration": 251,
    "start_time": "2024-02-04T22:09:06.666Z"
   },
   {
    "duration": 24,
    "start_time": "2024-02-04T22:09:06.918Z"
   },
   {
    "duration": 18,
    "start_time": "2024-02-04T22:09:06.944Z"
   },
   {
    "duration": 68,
    "start_time": "2024-02-04T22:09:06.964Z"
   },
   {
    "duration": 26,
    "start_time": "2024-02-04T22:09:07.034Z"
   },
   {
    "duration": 18,
    "start_time": "2024-02-04T22:09:07.062Z"
   },
   {
    "duration": 5,
    "start_time": "2024-02-04T22:09:07.082Z"
   },
   {
    "duration": 37,
    "start_time": "2024-02-04T22:09:07.089Z"
   },
   {
    "duration": 13,
    "start_time": "2024-02-04T22:09:07.128Z"
   },
   {
    "duration": 5,
    "start_time": "2024-02-04T22:09:07.143Z"
   },
   {
    "duration": 10,
    "start_time": "2024-02-04T22:09:07.150Z"
   },
   {
    "duration": 204,
    "start_time": "2024-02-04T22:09:07.161Z"
   },
   {
    "duration": 6,
    "start_time": "2024-02-04T22:09:07.368Z"
   },
   {
    "duration": 162,
    "start_time": "2024-02-04T22:09:07.375Z"
   },
   {
    "duration": 272,
    "start_time": "2024-02-04T22:09:07.539Z"
   },
   {
    "duration": 17,
    "start_time": "2024-02-04T22:09:07.813Z"
   },
   {
    "duration": 175,
    "start_time": "2024-02-04T22:09:07.832Z"
   },
   {
    "duration": 130,
    "start_time": "2024-02-04T22:09:08.008Z"
   },
   {
    "duration": 26,
    "start_time": "2024-02-04T22:09:08.140Z"
   },
   {
    "duration": 20,
    "start_time": "2024-02-04T22:09:08.168Z"
   },
   {
    "duration": 56,
    "start_time": "2024-02-04T22:09:08.190Z"
   },
   {
    "duration": 208,
    "start_time": "2024-02-04T22:09:08.248Z"
   },
   {
    "duration": 198,
    "start_time": "2024-02-04T22:09:08.458Z"
   },
   {
    "duration": 15,
    "start_time": "2024-02-04T22:09:08.658Z"
   },
   {
    "duration": 10,
    "start_time": "2024-02-04T22:09:08.675Z"
   },
   {
    "duration": 53,
    "start_time": "2024-02-04T22:09:08.687Z"
   },
   {
    "duration": 27,
    "start_time": "2024-02-04T22:09:08.742Z"
   },
   {
    "duration": 4,
    "start_time": "2024-02-04T22:09:08.771Z"
   },
   {
    "duration": 105,
    "start_time": "2024-02-04T22:09:08.777Z"
   },
   {
    "duration": 0,
    "start_time": "2024-02-04T22:09:08.884Z"
   },
   {
    "duration": 0,
    "start_time": "2024-02-04T22:09:08.885Z"
   },
   {
    "duration": 0,
    "start_time": "2024-02-04T22:09:08.886Z"
   },
   {
    "duration": 0,
    "start_time": "2024-02-04T22:09:08.887Z"
   },
   {
    "duration": 0,
    "start_time": "2024-02-04T22:09:08.889Z"
   },
   {
    "duration": 0,
    "start_time": "2024-02-04T22:09:08.890Z"
   },
   {
    "duration": 0,
    "start_time": "2024-02-04T22:09:08.892Z"
   },
   {
    "duration": 0,
    "start_time": "2024-02-04T22:09:08.894Z"
   },
   {
    "duration": 0,
    "start_time": "2024-02-04T22:09:08.895Z"
   },
   {
    "duration": 24,
    "start_time": "2024-02-04T22:16:58.304Z"
   },
   {
    "duration": 21,
    "start_time": "2024-02-04T22:17:20.177Z"
   },
   {
    "duration": 80,
    "start_time": "2024-02-04T22:18:32.850Z"
   },
   {
    "duration": 626,
    "start_time": "2024-02-04T22:29:31.499Z"
   },
   {
    "duration": 6,
    "start_time": "2024-02-04T22:31:16.902Z"
   },
   {
    "duration": 7,
    "start_time": "2024-02-04T22:31:40.816Z"
   },
   {
    "duration": 56,
    "start_time": "2024-02-06T18:45:29.124Z"
   },
   {
    "duration": 813,
    "start_time": "2024-02-06T18:45:46.211Z"
   },
   {
    "duration": 168,
    "start_time": "2024-02-06T18:45:47.026Z"
   },
   {
    "duration": 25,
    "start_time": "2024-02-06T18:45:47.195Z"
   },
   {
    "duration": 15,
    "start_time": "2024-02-06T18:45:47.222Z"
   },
   {
    "duration": 88,
    "start_time": "2024-02-06T18:45:47.240Z"
   },
   {
    "duration": 28,
    "start_time": "2024-02-06T18:45:47.330Z"
   },
   {
    "duration": 33,
    "start_time": "2024-02-06T18:45:47.360Z"
   },
   {
    "duration": 5,
    "start_time": "2024-02-06T18:45:47.395Z"
   },
   {
    "duration": 13,
    "start_time": "2024-02-06T18:45:47.402Z"
   },
   {
    "duration": 13,
    "start_time": "2024-02-06T18:45:47.416Z"
   },
   {
    "duration": 5,
    "start_time": "2024-02-06T18:45:47.431Z"
   },
   {
    "duration": 16,
    "start_time": "2024-02-06T18:45:47.438Z"
   },
   {
    "duration": 214,
    "start_time": "2024-02-06T18:45:47.456Z"
   },
   {
    "duration": 12,
    "start_time": "2024-02-06T18:45:47.673Z"
   },
   {
    "duration": 168,
    "start_time": "2024-02-06T18:45:47.686Z"
   },
   {
    "duration": 292,
    "start_time": "2024-02-06T18:45:47.855Z"
   },
   {
    "duration": 9,
    "start_time": "2024-02-06T18:45:48.148Z"
   },
   {
    "duration": 192,
    "start_time": "2024-02-06T18:45:48.158Z"
   },
   {
    "duration": 137,
    "start_time": "2024-02-06T18:45:48.351Z"
   },
   {
    "duration": 27,
    "start_time": "2024-02-06T18:45:48.490Z"
   },
   {
    "duration": 19,
    "start_time": "2024-02-06T18:45:48.518Z"
   },
   {
    "duration": 51,
    "start_time": "2024-02-06T18:45:48.539Z"
   },
   {
    "duration": 206,
    "start_time": "2024-02-06T18:45:48.591Z"
   },
   {
    "duration": 201,
    "start_time": "2024-02-06T18:45:48.799Z"
   },
   {
    "duration": 15,
    "start_time": "2024-02-06T18:45:49.002Z"
   },
   {
    "duration": 5,
    "start_time": "2024-02-06T18:45:49.019Z"
   },
   {
    "duration": 21,
    "start_time": "2024-02-06T18:45:49.026Z"
   },
   {
    "duration": 60,
    "start_time": "2024-02-06T18:45:49.049Z"
   },
   {
    "duration": 441,
    "start_time": "2024-02-06T18:45:49.115Z"
   },
   {
    "duration": 5,
    "start_time": "2024-02-06T18:45:49.558Z"
   },
   {
    "duration": 21,
    "start_time": "2024-02-06T18:45:49.564Z"
   },
   {
    "duration": 8,
    "start_time": "2024-02-06T18:45:49.587Z"
   },
   {
    "duration": 4,
    "start_time": "2024-02-06T18:45:49.597Z"
   },
   {
    "duration": 186,
    "start_time": "2024-02-06T18:45:49.603Z"
   },
   {
    "duration": 275,
    "start_time": "2024-02-06T18:45:49.791Z"
   },
   {
    "duration": 0,
    "start_time": "2024-02-06T18:45:50.068Z"
   },
   {
    "duration": 0,
    "start_time": "2024-02-06T18:45:50.069Z"
   },
   {
    "duration": 5,
    "start_time": "2024-02-06T18:54:29.229Z"
   },
   {
    "duration": 161,
    "start_time": "2024-02-06T18:58:55.736Z"
   },
   {
    "duration": 113,
    "start_time": "2024-02-06T18:59:32.184Z"
   },
   {
    "duration": 32,
    "start_time": "2024-02-06T18:59:43.311Z"
   },
   {
    "duration": 17,
    "start_time": "2024-02-06T19:00:03.172Z"
   },
   {
    "duration": 9,
    "start_time": "2024-02-06T19:00:18.706Z"
   },
   {
    "duration": 9,
    "start_time": "2024-02-06T19:01:34.551Z"
   },
   {
    "duration": 15,
    "start_time": "2024-02-06T19:01:42.846Z"
   },
   {
    "duration": 5,
    "start_time": "2024-02-06T19:05:22.348Z"
   },
   {
    "duration": 78,
    "start_time": "2024-02-06T19:20:13.594Z"
   },
   {
    "duration": 266,
    "start_time": "2024-02-06T19:20:34.514Z"
   },
   {
    "duration": 6,
    "start_time": "2024-02-06T19:21:46.620Z"
   },
   {
    "duration": 637,
    "start_time": "2024-02-06T19:58:42.219Z"
   },
   {
    "duration": 285,
    "start_time": "2024-02-06T19:58:42.858Z"
   },
   {
    "duration": 23,
    "start_time": "2024-02-06T19:58:43.144Z"
   },
   {
    "duration": 13,
    "start_time": "2024-02-06T19:58:43.169Z"
   },
   {
    "duration": 51,
    "start_time": "2024-02-06T19:58:43.183Z"
   },
   {
    "duration": 39,
    "start_time": "2024-02-06T19:58:43.236Z"
   },
   {
    "duration": 17,
    "start_time": "2024-02-06T19:58:43.276Z"
   },
   {
    "duration": 4,
    "start_time": "2024-02-06T19:58:43.294Z"
   },
   {
    "duration": 8,
    "start_time": "2024-02-06T19:58:43.299Z"
   },
   {
    "duration": 13,
    "start_time": "2024-02-06T19:58:43.309Z"
   },
   {
    "duration": 5,
    "start_time": "2024-02-06T19:58:43.323Z"
   },
   {
    "duration": 37,
    "start_time": "2024-02-06T19:58:43.329Z"
   },
   {
    "duration": 166,
    "start_time": "2024-02-06T19:58:43.367Z"
   },
   {
    "duration": 5,
    "start_time": "2024-02-06T19:58:43.535Z"
   },
   {
    "duration": 148,
    "start_time": "2024-02-06T19:58:43.542Z"
   },
   {
    "duration": 276,
    "start_time": "2024-02-06T19:58:43.692Z"
   },
   {
    "duration": 8,
    "start_time": "2024-02-06T19:58:43.969Z"
   },
   {
    "duration": 163,
    "start_time": "2024-02-06T19:58:43.978Z"
   },
   {
    "duration": 126,
    "start_time": "2024-02-06T19:58:44.142Z"
   },
   {
    "duration": 24,
    "start_time": "2024-02-06T19:58:44.269Z"
   },
   {
    "duration": 17,
    "start_time": "2024-02-06T19:58:44.295Z"
   },
   {
    "duration": 25,
    "start_time": "2024-02-06T19:58:44.313Z"
   },
   {
    "duration": 184,
    "start_time": "2024-02-06T19:58:44.364Z"
   },
   {
    "duration": 171,
    "start_time": "2024-02-06T19:58:44.549Z"
   },
   {
    "duration": 12,
    "start_time": "2024-02-06T19:58:44.721Z"
   },
   {
    "duration": 4,
    "start_time": "2024-02-06T19:58:44.735Z"
   },
   {
    "duration": 39,
    "start_time": "2024-02-06T19:58:44.740Z"
   },
   {
    "duration": 22,
    "start_time": "2024-02-06T19:58:44.782Z"
   },
   {
    "duration": 384,
    "start_time": "2024-02-06T19:58:44.806Z"
   },
   {
    "duration": 4,
    "start_time": "2024-02-06T19:58:45.192Z"
   },
   {
    "duration": 46,
    "start_time": "2024-02-06T19:58:45.198Z"
   },
   {
    "duration": 96,
    "start_time": "2024-02-06T19:58:45.246Z"
   },
   {
    "duration": 0,
    "start_time": "2024-02-06T19:58:45.344Z"
   },
   {
    "duration": 0,
    "start_time": "2024-02-06T19:58:45.346Z"
   },
   {
    "duration": 0,
    "start_time": "2024-02-06T19:58:45.347Z"
   },
   {
    "duration": 0,
    "start_time": "2024-02-06T19:58:45.348Z"
   },
   {
    "duration": 0,
    "start_time": "2024-02-06T19:58:45.349Z"
   },
   {
    "duration": 10,
    "start_time": "2024-02-06T20:02:21.908Z"
   },
   {
    "duration": 22,
    "start_time": "2024-02-06T20:04:09.766Z"
   },
   {
    "duration": 10,
    "start_time": "2024-02-06T20:04:13.529Z"
   },
   {
    "duration": 568,
    "start_time": "2024-02-06T20:04:19.621Z"
   },
   {
    "duration": 180,
    "start_time": "2024-02-06T20:04:20.191Z"
   },
   {
    "duration": 23,
    "start_time": "2024-02-06T20:04:20.373Z"
   },
   {
    "duration": 11,
    "start_time": "2024-02-06T20:04:20.399Z"
   },
   {
    "duration": 68,
    "start_time": "2024-02-06T20:04:20.412Z"
   },
   {
    "duration": 24,
    "start_time": "2024-02-06T20:04:20.481Z"
   },
   {
    "duration": 13,
    "start_time": "2024-02-06T20:04:20.507Z"
   },
   {
    "duration": 3,
    "start_time": "2024-02-06T20:04:20.522Z"
   },
   {
    "duration": 5,
    "start_time": "2024-02-06T20:04:20.527Z"
   },
   {
    "duration": 36,
    "start_time": "2024-02-06T20:04:20.534Z"
   },
   {
    "duration": 5,
    "start_time": "2024-02-06T20:04:20.572Z"
   },
   {
    "duration": 6,
    "start_time": "2024-02-06T20:04:20.578Z"
   },
   {
    "duration": 178,
    "start_time": "2024-02-06T20:04:20.585Z"
   },
   {
    "duration": 5,
    "start_time": "2024-02-06T20:04:20.765Z"
   },
   {
    "duration": 145,
    "start_time": "2024-02-06T20:04:20.772Z"
   },
   {
    "duration": 240,
    "start_time": "2024-02-06T20:04:20.918Z"
   },
   {
    "duration": 9,
    "start_time": "2024-02-06T20:04:21.160Z"
   },
   {
    "duration": 161,
    "start_time": "2024-02-06T20:04:21.171Z"
   },
   {
    "duration": 108,
    "start_time": "2024-02-06T20:04:21.333Z"
   },
   {
    "duration": 30,
    "start_time": "2024-02-06T20:04:21.443Z"
   },
   {
    "duration": 17,
    "start_time": "2024-02-06T20:04:21.475Z"
   },
   {
    "duration": 25,
    "start_time": "2024-02-06T20:04:21.494Z"
   },
   {
    "duration": 193,
    "start_time": "2024-02-06T20:04:21.520Z"
   },
   {
    "duration": 167,
    "start_time": "2024-02-06T20:04:21.715Z"
   },
   {
    "duration": 12,
    "start_time": "2024-02-06T20:04:21.883Z"
   },
   {
    "duration": 4,
    "start_time": "2024-02-06T20:04:21.896Z"
   },
   {
    "duration": 20,
    "start_time": "2024-02-06T20:04:21.901Z"
   },
   {
    "duration": 42,
    "start_time": "2024-02-06T20:04:21.924Z"
   },
   {
    "duration": 12,
    "start_time": "2024-02-06T20:04:21.968Z"
   },
   {
    "duration": 438,
    "start_time": "2024-02-06T20:04:21.981Z"
   },
   {
    "duration": 5,
    "start_time": "2024-02-06T20:04:22.420Z"
   },
   {
    "duration": 13,
    "start_time": "2024-02-06T20:04:22.426Z"
   },
   {
    "duration": 97,
    "start_time": "2024-02-06T20:04:22.440Z"
   },
   {
    "duration": 0,
    "start_time": "2024-02-06T20:04:22.538Z"
   },
   {
    "duration": 0,
    "start_time": "2024-02-06T20:04:22.540Z"
   },
   {
    "duration": 0,
    "start_time": "2024-02-06T20:04:22.540Z"
   },
   {
    "duration": 1,
    "start_time": "2024-02-06T20:04:22.541Z"
   },
   {
    "duration": 0,
    "start_time": "2024-02-06T20:04:22.543Z"
   },
   {
    "duration": 20,
    "start_time": "2024-02-06T20:05:17.061Z"
   },
   {
    "duration": 586,
    "start_time": "2024-02-06T20:06:58.897Z"
   },
   {
    "duration": 165,
    "start_time": "2024-02-06T20:06:59.485Z"
   },
   {
    "duration": 22,
    "start_time": "2024-02-06T20:06:59.652Z"
   },
   {
    "duration": 13,
    "start_time": "2024-02-06T20:06:59.676Z"
   },
   {
    "duration": 56,
    "start_time": "2024-02-06T20:06:59.690Z"
   },
   {
    "duration": 25,
    "start_time": "2024-02-06T20:06:59.765Z"
   },
   {
    "duration": 23,
    "start_time": "2024-02-06T20:06:59.792Z"
   },
   {
    "duration": 4,
    "start_time": "2024-02-06T20:06:59.817Z"
   },
   {
    "duration": 11,
    "start_time": "2024-02-06T20:06:59.823Z"
   },
   {
    "duration": 10,
    "start_time": "2024-02-06T20:06:59.836Z"
   },
   {
    "duration": 5,
    "start_time": "2024-02-06T20:06:59.865Z"
   },
   {
    "duration": 11,
    "start_time": "2024-02-06T20:06:59.871Z"
   },
   {
    "duration": 170,
    "start_time": "2024-02-06T20:06:59.883Z"
   },
   {
    "duration": 5,
    "start_time": "2024-02-06T20:07:00.064Z"
   },
   {
    "duration": 160,
    "start_time": "2024-02-06T20:07:00.071Z"
   },
   {
    "duration": 248,
    "start_time": "2024-02-06T20:07:00.233Z"
   },
   {
    "duration": 8,
    "start_time": "2024-02-06T20:07:00.482Z"
   },
   {
    "duration": 186,
    "start_time": "2024-02-06T20:07:00.491Z"
   },
   {
    "duration": 120,
    "start_time": "2024-02-06T20:07:00.678Z"
   },
   {
    "duration": 26,
    "start_time": "2024-02-06T20:07:00.800Z"
   },
   {
    "duration": 30,
    "start_time": "2024-02-06T20:07:00.827Z"
   },
   {
    "duration": 56,
    "start_time": "2024-02-06T20:07:00.858Z"
   },
   {
    "duration": 206,
    "start_time": "2024-02-06T20:07:00.915Z"
   },
   {
    "duration": 192,
    "start_time": "2024-02-06T20:07:01.123Z"
   },
   {
    "duration": 13,
    "start_time": "2024-02-06T20:07:01.317Z"
   },
   {
    "duration": 29,
    "start_time": "2024-02-06T20:07:01.332Z"
   },
   {
    "duration": 61,
    "start_time": "2024-02-06T20:07:01.363Z"
   },
   {
    "duration": 24,
    "start_time": "2024-02-06T20:07:01.428Z"
   },
   {
    "duration": 12,
    "start_time": "2024-02-06T20:07:01.454Z"
   },
   {
    "duration": 411,
    "start_time": "2024-02-06T20:07:01.468Z"
   },
   {
    "duration": 4,
    "start_time": "2024-02-06T20:07:01.881Z"
   },
   {
    "duration": 55,
    "start_time": "2024-02-06T20:07:01.887Z"
   },
   {
    "duration": 103,
    "start_time": "2024-02-06T20:07:01.943Z"
   },
   {
    "duration": 0,
    "start_time": "2024-02-06T20:07:02.048Z"
   },
   {
    "duration": 0,
    "start_time": "2024-02-06T20:07:02.049Z"
   },
   {
    "duration": 0,
    "start_time": "2024-02-06T20:07:02.051Z"
   },
   {
    "duration": 0,
    "start_time": "2024-02-06T20:07:02.052Z"
   },
   {
    "duration": 0,
    "start_time": "2024-02-06T20:07:02.053Z"
   },
   {
    "duration": 5,
    "start_time": "2024-02-06T20:07:12.623Z"
   },
   {
    "duration": 20,
    "start_time": "2024-02-06T20:07:13.370Z"
   },
   {
    "duration": 24,
    "start_time": "2024-02-06T20:07:18.146Z"
   },
   {
    "duration": 10,
    "start_time": "2024-02-06T20:07:19.739Z"
   },
   {
    "duration": 6,
    "start_time": "2024-02-06T20:09:44.490Z"
   },
   {
    "duration": 8,
    "start_time": "2024-02-06T20:13:55.094Z"
   },
   {
    "duration": 8,
    "start_time": "2024-02-06T20:13:55.104Z"
   },
   {
    "duration": 0,
    "start_time": "2024-02-06T20:13:55.114Z"
   },
   {
    "duration": 0,
    "start_time": "2024-02-06T20:13:55.115Z"
   },
   {
    "duration": 0,
    "start_time": "2024-02-06T20:13:55.116Z"
   },
   {
    "duration": 0,
    "start_time": "2024-02-06T20:13:55.117Z"
   },
   {
    "duration": 151,
    "start_time": "2024-02-06T20:15:44.225Z"
   },
   {
    "duration": 173,
    "start_time": "2024-02-06T20:15:48.924Z"
   },
   {
    "duration": 247,
    "start_time": "2024-02-06T20:16:06.556Z"
   },
   {
    "duration": 4,
    "start_time": "2024-02-06T20:16:08.284Z"
   },
   {
    "duration": 662,
    "start_time": "2024-02-06T20:17:31.870Z"
   },
   {
    "duration": 163,
    "start_time": "2024-02-06T20:17:32.534Z"
   },
   {
    "duration": 33,
    "start_time": "2024-02-06T20:17:32.699Z"
   },
   {
    "duration": 17,
    "start_time": "2024-02-06T20:17:32.734Z"
   },
   {
    "duration": 63,
    "start_time": "2024-02-06T20:17:32.752Z"
   },
   {
    "duration": 24,
    "start_time": "2024-02-06T20:17:32.817Z"
   },
   {
    "duration": 33,
    "start_time": "2024-02-06T20:17:32.843Z"
   },
   {
    "duration": 4,
    "start_time": "2024-02-06T20:17:32.878Z"
   },
   {
    "duration": 7,
    "start_time": "2024-02-06T20:17:32.884Z"
   },
   {
    "duration": 9,
    "start_time": "2024-02-06T20:17:32.896Z"
   },
   {
    "duration": 5,
    "start_time": "2024-02-06T20:17:32.907Z"
   },
   {
    "duration": 5,
    "start_time": "2024-02-06T20:17:32.913Z"
   },
   {
    "duration": 198,
    "start_time": "2024-02-06T20:17:32.920Z"
   },
   {
    "duration": 6,
    "start_time": "2024-02-06T20:17:33.119Z"
   },
   {
    "duration": 147,
    "start_time": "2024-02-06T20:17:33.126Z"
   },
   {
    "duration": 240,
    "start_time": "2024-02-06T20:17:33.274Z"
   },
   {
    "duration": 6,
    "start_time": "2024-02-06T20:17:33.516Z"
   },
   {
    "duration": 168,
    "start_time": "2024-02-06T20:17:33.524Z"
   },
   {
    "duration": 120,
    "start_time": "2024-02-06T20:17:33.694Z"
   },
   {
    "duration": 27,
    "start_time": "2024-02-06T20:17:33.816Z"
   },
   {
    "duration": 33,
    "start_time": "2024-02-06T20:17:33.845Z"
   },
   {
    "duration": 24,
    "start_time": "2024-02-06T20:17:33.880Z"
   },
   {
    "duration": 205,
    "start_time": "2024-02-06T20:17:33.906Z"
   },
   {
    "duration": 170,
    "start_time": "2024-02-06T20:17:34.112Z"
   },
   {
    "duration": 12,
    "start_time": "2024-02-06T20:17:34.283Z"
   },
   {
    "duration": 4,
    "start_time": "2024-02-06T20:17:34.297Z"
   },
   {
    "duration": 21,
    "start_time": "2024-02-06T20:17:34.302Z"
   },
   {
    "duration": 48,
    "start_time": "2024-02-06T20:17:34.326Z"
   },
   {
    "duration": 406,
    "start_time": "2024-02-06T20:17:34.376Z"
   },
   {
    "duration": 4,
    "start_time": "2024-02-06T20:17:34.784Z"
   },
   {
    "duration": 16,
    "start_time": "2024-02-06T20:17:34.790Z"
   },
   {
    "duration": 114,
    "start_time": "2024-02-06T20:17:34.807Z"
   },
   {
    "duration": 0,
    "start_time": "2024-02-06T20:17:34.923Z"
   },
   {
    "duration": 0,
    "start_time": "2024-02-06T20:17:34.924Z"
   },
   {
    "duration": 0,
    "start_time": "2024-02-06T20:17:34.925Z"
   },
   {
    "duration": 0,
    "start_time": "2024-02-06T20:17:34.926Z"
   },
   {
    "duration": 0,
    "start_time": "2024-02-06T20:17:34.927Z"
   },
   {
    "duration": 623,
    "start_time": "2024-02-06T20:20:27.753Z"
   },
   {
    "duration": 197,
    "start_time": "2024-02-06T20:20:28.378Z"
   },
   {
    "duration": 24,
    "start_time": "2024-02-06T20:20:28.577Z"
   },
   {
    "duration": 12,
    "start_time": "2024-02-06T20:20:28.603Z"
   },
   {
    "duration": 75,
    "start_time": "2024-02-06T20:20:28.616Z"
   },
   {
    "duration": 24,
    "start_time": "2024-02-06T20:20:28.692Z"
   },
   {
    "duration": 13,
    "start_time": "2024-02-06T20:20:28.717Z"
   },
   {
    "duration": 4,
    "start_time": "2024-02-06T20:20:28.731Z"
   },
   {
    "duration": 5,
    "start_time": "2024-02-06T20:20:28.736Z"
   },
   {
    "duration": 10,
    "start_time": "2024-02-06T20:20:28.764Z"
   },
   {
    "duration": 5,
    "start_time": "2024-02-06T20:20:28.776Z"
   },
   {
    "duration": 5,
    "start_time": "2024-02-06T20:20:28.782Z"
   },
   {
    "duration": 216,
    "start_time": "2024-02-06T20:20:28.788Z"
   },
   {
    "duration": 5,
    "start_time": "2024-02-06T20:20:29.005Z"
   },
   {
    "duration": 132,
    "start_time": "2024-02-06T20:20:29.011Z"
   },
   {
    "duration": 234,
    "start_time": "2024-02-06T20:20:29.145Z"
   },
   {
    "duration": 7,
    "start_time": "2024-02-06T20:20:29.380Z"
   },
   {
    "duration": 155,
    "start_time": "2024-02-06T20:20:29.388Z"
   },
   {
    "duration": 130,
    "start_time": "2024-02-06T20:20:29.545Z"
   },
   {
    "duration": 25,
    "start_time": "2024-02-06T20:20:29.677Z"
   },
   {
    "duration": 17,
    "start_time": "2024-02-06T20:20:29.703Z"
   },
   {
    "duration": 47,
    "start_time": "2024-02-06T20:20:29.721Z"
   },
   {
    "duration": 192,
    "start_time": "2024-02-06T20:20:29.770Z"
   },
   {
    "duration": 172,
    "start_time": "2024-02-06T20:20:29.964Z"
   },
   {
    "duration": 12,
    "start_time": "2024-02-06T20:20:30.138Z"
   },
   {
    "duration": 38,
    "start_time": "2024-02-06T20:20:30.151Z"
   },
   {
    "duration": 56,
    "start_time": "2024-02-06T20:20:30.191Z"
   },
   {
    "duration": 61,
    "start_time": "2024-02-06T20:20:30.250Z"
   },
   {
    "duration": 453,
    "start_time": "2024-02-06T20:20:30.313Z"
   },
   {
    "duration": 5,
    "start_time": "2024-02-06T20:20:30.768Z"
   },
   {
    "duration": 113,
    "start_time": "2024-02-06T20:20:30.775Z"
   },
   {
    "duration": 140,
    "start_time": "2024-02-06T20:20:30.889Z"
   },
   {
    "duration": 0,
    "start_time": "2024-02-06T20:20:31.030Z"
   },
   {
    "duration": 0,
    "start_time": "2024-02-06T20:20:31.031Z"
   },
   {
    "duration": 0,
    "start_time": "2024-02-06T20:20:31.032Z"
   },
   {
    "duration": 0,
    "start_time": "2024-02-06T20:20:31.034Z"
   },
   {
    "duration": 0,
    "start_time": "2024-02-06T20:20:31.035Z"
   },
   {
    "duration": 43,
    "start_time": "2024-02-07T20:06:07.377Z"
   },
   {
    "duration": 766,
    "start_time": "2024-02-07T20:06:14.927Z"
   },
   {
    "duration": 177,
    "start_time": "2024-02-07T20:06:15.695Z"
   },
   {
    "duration": 21,
    "start_time": "2024-02-07T20:06:15.874Z"
   },
   {
    "duration": 18,
    "start_time": "2024-02-07T20:06:15.897Z"
   },
   {
    "duration": 66,
    "start_time": "2024-02-07T20:06:15.917Z"
   },
   {
    "duration": 24,
    "start_time": "2024-02-07T20:06:15.985Z"
   },
   {
    "duration": 21,
    "start_time": "2024-02-07T20:06:16.010Z"
   },
   {
    "duration": 14,
    "start_time": "2024-02-07T20:06:16.032Z"
   },
   {
    "duration": 10,
    "start_time": "2024-02-07T20:06:16.047Z"
   },
   {
    "duration": 10,
    "start_time": "2024-02-07T20:06:16.059Z"
   },
   {
    "duration": 24,
    "start_time": "2024-02-07T20:06:16.070Z"
   },
   {
    "duration": 16,
    "start_time": "2024-02-07T20:06:16.095Z"
   },
   {
    "duration": 153,
    "start_time": "2024-02-07T20:06:16.113Z"
   },
   {
    "duration": 5,
    "start_time": "2024-02-07T20:06:16.267Z"
   },
   {
    "duration": 127,
    "start_time": "2024-02-07T20:06:16.273Z"
   },
   {
    "duration": 221,
    "start_time": "2024-02-07T20:06:16.402Z"
   },
   {
    "duration": 7,
    "start_time": "2024-02-07T20:06:16.625Z"
   },
   {
    "duration": 162,
    "start_time": "2024-02-07T20:06:16.633Z"
   },
   {
    "duration": 116,
    "start_time": "2024-02-07T20:06:16.796Z"
   },
   {
    "duration": 31,
    "start_time": "2024-02-07T20:06:16.914Z"
   },
   {
    "duration": 16,
    "start_time": "2024-02-07T20:06:16.946Z"
   },
   {
    "duration": 39,
    "start_time": "2024-02-07T20:06:16.963Z"
   },
   {
    "duration": 172,
    "start_time": "2024-02-07T20:06:17.003Z"
   },
   {
    "duration": 171,
    "start_time": "2024-02-07T20:06:17.176Z"
   },
   {
    "duration": 11,
    "start_time": "2024-02-07T20:06:17.348Z"
   },
   {
    "duration": 4,
    "start_time": "2024-02-07T20:06:17.360Z"
   },
   {
    "duration": 29,
    "start_time": "2024-02-07T20:06:17.365Z"
   },
   {
    "duration": 22,
    "start_time": "2024-02-07T20:06:17.396Z"
   },
   {
    "duration": 422,
    "start_time": "2024-02-07T20:06:17.419Z"
   },
   {
    "duration": 5,
    "start_time": "2024-02-07T20:06:17.844Z"
   },
   {
    "duration": 26,
    "start_time": "2024-02-07T20:06:17.850Z"
   },
   {
    "duration": 101,
    "start_time": "2024-02-07T20:06:17.877Z"
   },
   {
    "duration": 0,
    "start_time": "2024-02-07T20:06:17.979Z"
   },
   {
    "duration": 0,
    "start_time": "2024-02-07T20:06:17.980Z"
   },
   {
    "duration": 0,
    "start_time": "2024-02-07T20:06:17.981Z"
   },
   {
    "duration": 0,
    "start_time": "2024-02-07T20:06:17.983Z"
   },
   {
    "duration": 0,
    "start_time": "2024-02-07T20:06:17.983Z"
   },
   {
    "duration": 5,
    "start_time": "2024-02-07T20:11:01.785Z"
   },
   {
    "duration": 12,
    "start_time": "2024-02-07T20:14:54.943Z"
   },
   {
    "duration": 5,
    "start_time": "2024-02-07T20:15:11.732Z"
   },
   {
    "duration": 10,
    "start_time": "2024-02-07T20:16:36.443Z"
   },
   {
    "duration": 8,
    "start_time": "2024-02-07T20:17:04.283Z"
   },
   {
    "duration": 5,
    "start_time": "2024-02-07T20:17:06.625Z"
   },
   {
    "duration": 5,
    "start_time": "2024-02-07T20:17:44.986Z"
   },
   {
    "duration": 94,
    "start_time": "2024-02-07T20:18:21.389Z"
   },
   {
    "duration": 647,
    "start_time": "2024-02-07T22:22:25.236Z"
   },
   {
    "duration": 354,
    "start_time": "2024-02-07T22:22:25.885Z"
   },
   {
    "duration": 25,
    "start_time": "2024-02-07T22:22:26.241Z"
   },
   {
    "duration": 30,
    "start_time": "2024-02-07T22:22:26.268Z"
   },
   {
    "duration": 58,
    "start_time": "2024-02-07T22:22:26.300Z"
   },
   {
    "duration": 26,
    "start_time": "2024-02-07T22:22:26.359Z"
   },
   {
    "duration": 14,
    "start_time": "2024-02-07T22:22:26.387Z"
   },
   {
    "duration": 15,
    "start_time": "2024-02-07T22:22:26.402Z"
   },
   {
    "duration": 20,
    "start_time": "2024-02-07T22:22:26.418Z"
   },
   {
    "duration": 61,
    "start_time": "2024-02-07T22:22:26.440Z"
   },
   {
    "duration": 26,
    "start_time": "2024-02-07T22:22:26.503Z"
   },
   {
    "duration": 19,
    "start_time": "2024-02-07T22:22:26.531Z"
   },
   {
    "duration": 170,
    "start_time": "2024-02-07T22:22:26.551Z"
   },
   {
    "duration": 5,
    "start_time": "2024-02-07T22:22:26.723Z"
   },
   {
    "duration": 172,
    "start_time": "2024-02-07T22:22:26.730Z"
   },
   {
    "duration": 239,
    "start_time": "2024-02-07T22:22:26.904Z"
   },
   {
    "duration": 14,
    "start_time": "2024-02-07T22:22:27.145Z"
   },
   {
    "duration": 173,
    "start_time": "2024-02-07T22:22:27.160Z"
   },
   {
    "duration": 113,
    "start_time": "2024-02-07T22:22:27.335Z"
   },
   {
    "duration": 34,
    "start_time": "2024-02-07T22:22:27.450Z"
   },
   {
    "duration": 25,
    "start_time": "2024-02-07T22:22:27.486Z"
   },
   {
    "duration": 43,
    "start_time": "2024-02-07T22:22:27.512Z"
   },
   {
    "duration": 186,
    "start_time": "2024-02-07T22:22:27.557Z"
   },
   {
    "duration": 171,
    "start_time": "2024-02-07T22:22:27.745Z"
   },
   {
    "duration": 12,
    "start_time": "2024-02-07T22:22:27.917Z"
   },
   {
    "duration": 18,
    "start_time": "2024-02-07T22:22:27.930Z"
   },
   {
    "duration": 56,
    "start_time": "2024-02-07T22:22:27.949Z"
   },
   {
    "duration": 36,
    "start_time": "2024-02-07T22:22:28.007Z"
   },
   {
    "duration": 413,
    "start_time": "2024-02-07T22:22:28.044Z"
   },
   {
    "duration": 4,
    "start_time": "2024-02-07T22:22:28.459Z"
   },
   {
    "duration": 39,
    "start_time": "2024-02-07T22:22:28.465Z"
   },
   {
    "duration": 25,
    "start_time": "2024-02-07T22:22:28.506Z"
   },
   {
    "duration": 45,
    "start_time": "2024-02-07T22:22:28.533Z"
   },
   {
    "duration": 156,
    "start_time": "2024-02-07T22:22:28.580Z"
   },
   {
    "duration": 244,
    "start_time": "2024-02-07T22:22:28.738Z"
   },
   {
    "duration": 0,
    "start_time": "2024-02-07T22:22:28.983Z"
   },
   {
    "duration": 0,
    "start_time": "2024-02-07T22:22:28.985Z"
   },
   {
    "duration": 612,
    "start_time": "2024-02-07T22:25:22.467Z"
   },
   {
    "duration": 154,
    "start_time": "2024-02-07T22:25:23.081Z"
   },
   {
    "duration": 23,
    "start_time": "2024-02-07T22:25:23.237Z"
   },
   {
    "duration": 13,
    "start_time": "2024-02-07T22:25:23.262Z"
   },
   {
    "duration": 52,
    "start_time": "2024-02-07T22:25:23.276Z"
   },
   {
    "duration": 42,
    "start_time": "2024-02-07T22:25:23.330Z"
   },
   {
    "duration": 16,
    "start_time": "2024-02-07T22:25:23.374Z"
   },
   {
    "duration": 9,
    "start_time": "2024-02-07T22:25:23.391Z"
   },
   {
    "duration": 11,
    "start_time": "2024-02-07T22:25:23.402Z"
   },
   {
    "duration": 10,
    "start_time": "2024-02-07T22:25:23.417Z"
   },
   {
    "duration": 31,
    "start_time": "2024-02-07T22:25:23.429Z"
   },
   {
    "duration": 8,
    "start_time": "2024-02-07T22:25:23.462Z"
   },
   {
    "duration": 181,
    "start_time": "2024-02-07T22:25:23.472Z"
   },
   {
    "duration": 6,
    "start_time": "2024-02-07T22:25:23.655Z"
   },
   {
    "duration": 139,
    "start_time": "2024-02-07T22:25:23.662Z"
   },
   {
    "duration": 259,
    "start_time": "2024-02-07T22:25:23.803Z"
   },
   {
    "duration": 6,
    "start_time": "2024-02-07T22:25:24.064Z"
   },
   {
    "duration": 165,
    "start_time": "2024-02-07T22:25:24.072Z"
   },
   {
    "duration": 120,
    "start_time": "2024-02-07T22:25:24.238Z"
   },
   {
    "duration": 24,
    "start_time": "2024-02-07T22:25:24.360Z"
   },
   {
    "duration": 16,
    "start_time": "2024-02-07T22:25:24.386Z"
   },
   {
    "duration": 32,
    "start_time": "2024-02-07T22:25:24.403Z"
   },
   {
    "duration": 195,
    "start_time": "2024-02-07T22:25:24.436Z"
   },
   {
    "duration": 176,
    "start_time": "2024-02-07T22:25:24.633Z"
   },
   {
    "duration": 13,
    "start_time": "2024-02-07T22:25:24.810Z"
   },
   {
    "duration": 20,
    "start_time": "2024-02-07T22:25:24.824Z"
   },
   {
    "duration": 66,
    "start_time": "2024-02-07T22:25:24.845Z"
   },
   {
    "duration": 42,
    "start_time": "2024-02-07T22:25:24.914Z"
   },
   {
    "duration": 395,
    "start_time": "2024-02-07T22:25:24.957Z"
   },
   {
    "duration": 8,
    "start_time": "2024-02-07T22:25:25.353Z"
   },
   {
    "duration": 17,
    "start_time": "2024-02-07T22:25:25.362Z"
   },
   {
    "duration": 10,
    "start_time": "2024-02-07T22:25:25.380Z"
   },
   {
    "duration": 4,
    "start_time": "2024-02-07T22:25:25.391Z"
   },
   {
    "duration": 149,
    "start_time": "2024-02-07T22:25:25.396Z"
   },
   {
    "duration": 244,
    "start_time": "2024-02-07T22:25:25.546Z"
   },
   {
    "duration": 0,
    "start_time": "2024-02-07T22:25:25.792Z"
   },
   {
    "duration": 0,
    "start_time": "2024-02-07T22:25:25.794Z"
   },
   {
    "duration": 52,
    "start_time": "2024-02-13T18:50:44.593Z"
   },
   {
    "duration": 930,
    "start_time": "2024-02-13T18:50:54.485Z"
   },
   {
    "duration": 237,
    "start_time": "2024-02-13T18:50:55.418Z"
   },
   {
    "duration": 27,
    "start_time": "2024-02-13T18:50:55.656Z"
   },
   {
    "duration": 19,
    "start_time": "2024-02-13T18:50:55.685Z"
   },
   {
    "duration": 91,
    "start_time": "2024-02-13T18:50:55.707Z"
   },
   {
    "duration": 41,
    "start_time": "2024-02-13T18:50:55.800Z"
   },
   {
    "duration": 39,
    "start_time": "2024-02-13T18:50:55.844Z"
   },
   {
    "duration": 6,
    "start_time": "2024-02-13T18:50:55.885Z"
   },
   {
    "duration": 47,
    "start_time": "2024-02-13T18:50:55.893Z"
   },
   {
    "duration": 55,
    "start_time": "2024-02-13T18:50:55.941Z"
   },
   {
    "duration": 44,
    "start_time": "2024-02-13T18:50:55.998Z"
   },
   {
    "duration": 51,
    "start_time": "2024-02-13T18:50:56.043Z"
   },
   {
    "duration": 258,
    "start_time": "2024-02-13T18:50:56.096Z"
   },
   {
    "duration": 8,
    "start_time": "2024-02-13T18:50:56.359Z"
   },
   {
    "duration": 210,
    "start_time": "2024-02-13T18:50:56.381Z"
   },
   {
    "duration": 288,
    "start_time": "2024-02-13T18:50:56.593Z"
   },
   {
    "duration": 10,
    "start_time": "2024-02-13T18:50:56.884Z"
   },
   {
    "duration": 227,
    "start_time": "2024-02-13T18:50:56.895Z"
   },
   {
    "duration": 139,
    "start_time": "2024-02-13T18:50:57.125Z"
   },
   {
    "duration": 57,
    "start_time": "2024-02-13T18:50:57.266Z"
   },
   {
    "duration": 21,
    "start_time": "2024-02-13T18:50:57.326Z"
   },
   {
    "duration": 55,
    "start_time": "2024-02-13T18:50:57.349Z"
   },
   {
    "duration": 246,
    "start_time": "2024-02-13T18:50:57.406Z"
   },
   {
    "duration": 282,
    "start_time": "2024-02-13T18:50:57.655Z"
   },
   {
    "duration": 14,
    "start_time": "2024-02-13T18:50:57.939Z"
   },
   {
    "duration": 4,
    "start_time": "2024-02-13T18:50:57.954Z"
   },
   {
    "duration": 25,
    "start_time": "2024-02-13T18:50:57.979Z"
   },
   {
    "duration": 32,
    "start_time": "2024-02-13T18:50:58.006Z"
   },
   {
    "duration": 473,
    "start_time": "2024-02-13T18:50:58.040Z"
   },
   {
    "duration": 7,
    "start_time": "2024-02-13T18:50:58.515Z"
   },
   {
    "duration": 20,
    "start_time": "2024-02-13T18:50:58.523Z"
   },
   {
    "duration": 12,
    "start_time": "2024-02-13T18:50:58.545Z"
   },
   {
    "duration": 24,
    "start_time": "2024-02-13T18:50:58.559Z"
   },
   {
    "duration": 207,
    "start_time": "2024-02-13T18:50:58.585Z"
   },
   {
    "duration": 345,
    "start_time": "2024-02-13T18:50:58.794Z"
   },
   {
    "duration": 0,
    "start_time": "2024-02-13T18:50:59.141Z"
   },
   {
    "duration": 0,
    "start_time": "2024-02-13T18:50:59.142Z"
   },
   {
    "duration": 7,
    "start_time": "2024-02-13T18:51:22.189Z"
   },
   {
    "duration": 264,
    "start_time": "2024-02-13T18:52:04.318Z"
   },
   {
    "duration": 186,
    "start_time": "2024-02-13T18:53:42.488Z"
   },
   {
    "duration": 156,
    "start_time": "2024-02-13T18:54:02.158Z"
   },
   {
    "duration": 76,
    "start_time": "2024-02-13T18:57:38.060Z"
   },
   {
    "duration": 849,
    "start_time": "2024-02-13T22:11:41.978Z"
   },
   {
    "duration": 335,
    "start_time": "2024-02-13T22:11:42.829Z"
   },
   {
    "duration": 28,
    "start_time": "2024-02-13T22:11:43.166Z"
   },
   {
    "duration": 15,
    "start_time": "2024-02-13T22:11:43.196Z"
   },
   {
    "duration": 76,
    "start_time": "2024-02-13T22:11:43.213Z"
   },
   {
    "duration": 28,
    "start_time": "2024-02-13T22:11:43.291Z"
   },
   {
    "duration": 16,
    "start_time": "2024-02-13T22:11:43.321Z"
   },
   {
    "duration": 4,
    "start_time": "2024-02-13T22:11:43.339Z"
   },
   {
    "duration": 32,
    "start_time": "2024-02-13T22:11:43.345Z"
   },
   {
    "duration": 12,
    "start_time": "2024-02-13T22:11:43.380Z"
   },
   {
    "duration": 6,
    "start_time": "2024-02-13T22:11:43.394Z"
   },
   {
    "duration": 6,
    "start_time": "2024-02-13T22:11:43.401Z"
   },
   {
    "duration": 222,
    "start_time": "2024-02-13T22:11:43.409Z"
   },
   {
    "duration": 6,
    "start_time": "2024-02-13T22:11:43.633Z"
   },
   {
    "duration": 157,
    "start_time": "2024-02-13T22:11:43.640Z"
   },
   {
    "duration": 275,
    "start_time": "2024-02-13T22:11:43.799Z"
   },
   {
    "duration": 9,
    "start_time": "2024-02-13T22:11:44.075Z"
   },
   {
    "duration": 191,
    "start_time": "2024-02-13T22:11:44.086Z"
   },
   {
    "duration": 148,
    "start_time": "2024-02-13T22:11:44.278Z"
   },
   {
    "duration": 28,
    "start_time": "2024-02-13T22:11:44.428Z"
   },
   {
    "duration": 27,
    "start_time": "2024-02-13T22:11:44.457Z"
   },
   {
    "duration": 28,
    "start_time": "2024-02-13T22:11:44.486Z"
   },
   {
    "duration": 217,
    "start_time": "2024-02-13T22:11:44.515Z"
   },
   {
    "duration": 198,
    "start_time": "2024-02-13T22:11:44.733Z"
   },
   {
    "duration": 13,
    "start_time": "2024-02-13T22:11:44.932Z"
   },
   {
    "duration": 7,
    "start_time": "2024-02-13T22:11:44.947Z"
   },
   {
    "duration": 34,
    "start_time": "2024-02-13T22:11:44.955Z"
   },
   {
    "duration": 26,
    "start_time": "2024-02-13T22:11:44.992Z"
   },
   {
    "duration": 485,
    "start_time": "2024-02-13T22:11:45.019Z"
   },
   {
    "duration": 4,
    "start_time": "2024-02-13T22:11:45.506Z"
   },
   {
    "duration": 16,
    "start_time": "2024-02-13T22:11:45.512Z"
   },
   {
    "duration": 11,
    "start_time": "2024-02-13T22:11:45.529Z"
   },
   {
    "duration": 7,
    "start_time": "2024-02-13T22:11:45.541Z"
   },
   {
    "duration": 170,
    "start_time": "2024-02-13T22:11:45.572Z"
   },
   {
    "duration": 167,
    "start_time": "2024-02-13T22:11:45.743Z"
   },
   {
    "duration": 276,
    "start_time": "2024-02-13T22:11:45.912Z"
   },
   {
    "duration": 4,
    "start_time": "2024-02-13T22:11:46.190Z"
   },
   {
    "duration": 6,
    "start_time": "2024-02-13T22:13:34.942Z"
   },
   {
    "duration": 679,
    "start_time": "2024-02-13T22:23:39.026Z"
   },
   {
    "duration": 290,
    "start_time": "2024-02-13T22:23:39.707Z"
   },
   {
    "duration": 27,
    "start_time": "2024-02-13T22:23:39.999Z"
   },
   {
    "duration": 20,
    "start_time": "2024-02-13T22:23:40.028Z"
   },
   {
    "duration": 90,
    "start_time": "2024-02-13T22:23:40.050Z"
   },
   {
    "duration": 56,
    "start_time": "2024-02-13T22:23:40.142Z"
   },
   {
    "duration": 17,
    "start_time": "2024-02-13T22:23:40.199Z"
   },
   {
    "duration": 5,
    "start_time": "2024-02-13T22:23:40.217Z"
   },
   {
    "duration": 8,
    "start_time": "2024-02-13T22:23:40.224Z"
   },
   {
    "duration": 48,
    "start_time": "2024-02-13T22:23:40.235Z"
   },
   {
    "duration": 8,
    "start_time": "2024-02-13T22:23:40.286Z"
   },
   {
    "duration": 8,
    "start_time": "2024-02-13T22:23:40.295Z"
   },
   {
    "duration": 209,
    "start_time": "2024-02-13T22:23:40.305Z"
   },
   {
    "duration": 5,
    "start_time": "2024-02-13T22:23:40.516Z"
   },
   {
    "duration": 179,
    "start_time": "2024-02-13T22:23:40.523Z"
   },
   {
    "duration": 290,
    "start_time": "2024-02-13T22:23:40.703Z"
   },
   {
    "duration": 9,
    "start_time": "2024-02-13T22:23:40.994Z"
   },
   {
    "duration": 212,
    "start_time": "2024-02-13T22:23:41.004Z"
   },
   {
    "duration": 144,
    "start_time": "2024-02-13T22:23:41.218Z"
   },
   {
    "duration": 35,
    "start_time": "2024-02-13T22:23:41.364Z"
   },
   {
    "duration": 20,
    "start_time": "2024-02-13T22:23:41.401Z"
   },
   {
    "duration": 55,
    "start_time": "2024-02-13T22:23:41.423Z"
   },
   {
    "duration": 233,
    "start_time": "2024-02-13T22:23:41.480Z"
   },
   {
    "duration": 214,
    "start_time": "2024-02-13T22:23:41.714Z"
   },
   {
    "duration": 15,
    "start_time": "2024-02-13T22:23:41.930Z"
   },
   {
    "duration": 5,
    "start_time": "2024-02-13T22:23:41.946Z"
   },
   {
    "duration": 40,
    "start_time": "2024-02-13T22:23:41.952Z"
   },
   {
    "duration": 28,
    "start_time": "2024-02-13T22:23:41.995Z"
   },
   {
    "duration": 470,
    "start_time": "2024-02-13T22:23:42.025Z"
   },
   {
    "duration": 5,
    "start_time": "2024-02-13T22:23:42.497Z"
   },
   {
    "duration": 13,
    "start_time": "2024-02-13T22:23:42.504Z"
   },
   {
    "duration": 10,
    "start_time": "2024-02-13T22:23:42.519Z"
   },
   {
    "duration": 7,
    "start_time": "2024-02-13T22:23:42.531Z"
   },
   {
    "duration": 211,
    "start_time": "2024-02-13T22:23:42.539Z"
   },
   {
    "duration": 193,
    "start_time": "2024-02-13T22:23:42.752Z"
   },
   {
    "duration": 284,
    "start_time": "2024-02-13T22:23:42.947Z"
   },
   {
    "duration": 4,
    "start_time": "2024-02-13T22:23:43.233Z"
   },
   {
    "duration": 866,
    "start_time": "2024-02-14T08:36:13.543Z"
   },
   {
    "duration": 817,
    "start_time": "2024-02-14T08:36:22.302Z"
   },
   {
    "duration": 331,
    "start_time": "2024-02-14T08:36:23.122Z"
   },
   {
    "duration": 27,
    "start_time": "2024-02-14T08:36:23.455Z"
   },
   {
    "duration": 17,
    "start_time": "2024-02-14T08:36:23.484Z"
   },
   {
    "duration": 75,
    "start_time": "2024-02-14T08:36:23.502Z"
   },
   {
    "duration": 28,
    "start_time": "2024-02-14T08:36:23.578Z"
   },
   {
    "duration": 15,
    "start_time": "2024-02-14T08:36:23.608Z"
   },
   {
    "duration": 11,
    "start_time": "2024-02-14T08:36:23.625Z"
   },
   {
    "duration": 29,
    "start_time": "2024-02-14T08:36:23.637Z"
   },
   {
    "duration": 31,
    "start_time": "2024-02-14T08:36:23.669Z"
   },
   {
    "duration": 17,
    "start_time": "2024-02-14T08:36:23.701Z"
   },
   {
    "duration": 27,
    "start_time": "2024-02-14T08:36:23.719Z"
   },
   {
    "duration": 209,
    "start_time": "2024-02-14T08:36:23.748Z"
   },
   {
    "duration": 6,
    "start_time": "2024-02-14T08:36:23.958Z"
   },
   {
    "duration": 158,
    "start_time": "2024-02-14T08:36:23.973Z"
   },
   {
    "duration": 323,
    "start_time": "2024-02-14T08:36:24.133Z"
   },
   {
    "duration": 16,
    "start_time": "2024-02-14T08:36:24.457Z"
   },
   {
    "duration": 139,
    "start_time": "2024-02-14T08:36:24.475Z"
   },
   {
    "duration": 129,
    "start_time": "2024-02-14T08:36:24.615Z"
   },
   {
    "duration": 36,
    "start_time": "2024-02-14T08:36:24.745Z"
   },
   {
    "duration": 19,
    "start_time": "2024-02-14T08:36:24.782Z"
   },
   {
    "duration": 27,
    "start_time": "2024-02-14T08:36:24.802Z"
   },
   {
    "duration": 241,
    "start_time": "2024-02-14T08:36:24.831Z"
   },
   {
    "duration": 202,
    "start_time": "2024-02-14T08:36:25.073Z"
   },
   {
    "duration": 13,
    "start_time": "2024-02-14T08:36:25.277Z"
   },
   {
    "duration": 7,
    "start_time": "2024-02-14T08:36:25.291Z"
   },
   {
    "duration": 33,
    "start_time": "2024-02-14T08:36:25.300Z"
   },
   {
    "duration": 38,
    "start_time": "2024-02-14T08:36:25.336Z"
   },
   {
    "duration": 432,
    "start_time": "2024-02-14T08:36:25.375Z"
   },
   {
    "duration": 5,
    "start_time": "2024-02-14T08:36:25.808Z"
   },
   {
    "duration": 22,
    "start_time": "2024-02-14T08:36:25.815Z"
   },
   {
    "duration": 17,
    "start_time": "2024-02-14T08:36:25.839Z"
   },
   {
    "duration": 6,
    "start_time": "2024-02-14T08:36:25.857Z"
   },
   {
    "duration": 233,
    "start_time": "2024-02-14T08:36:25.865Z"
   },
   {
    "duration": 181,
    "start_time": "2024-02-14T08:36:26.100Z"
   },
   {
    "duration": 199,
    "start_time": "2024-02-14T08:36:26.284Z"
   },
   {
    "duration": 4,
    "start_time": "2024-02-14T08:36:26.484Z"
   },
   {
    "duration": 6,
    "start_time": "2024-02-14T08:38:06.865Z"
   },
   {
    "duration": 5,
    "start_time": "2024-02-14T08:39:43.460Z"
   },
   {
    "duration": 6,
    "start_time": "2024-02-14T08:46:00.249Z"
   },
   {
    "duration": 7,
    "start_time": "2024-02-14T08:50:16.204Z"
   },
   {
    "duration": 749,
    "start_time": "2024-02-14T11:08:53.312Z"
   },
   {
    "duration": 811,
    "start_time": "2024-02-14T11:08:54.063Z"
   },
   {
    "duration": 35,
    "start_time": "2024-02-14T11:08:54.876Z"
   },
   {
    "duration": 32,
    "start_time": "2024-02-14T11:08:54.914Z"
   },
   {
    "duration": 61,
    "start_time": "2024-02-14T11:08:54.950Z"
   },
   {
    "duration": 46,
    "start_time": "2024-02-14T11:08:55.013Z"
   },
   {
    "duration": 18,
    "start_time": "2024-02-14T11:08:55.061Z"
   },
   {
    "duration": 4,
    "start_time": "2024-02-14T11:08:55.081Z"
   },
   {
    "duration": 19,
    "start_time": "2024-02-14T11:08:55.086Z"
   },
   {
    "duration": 32,
    "start_time": "2024-02-14T11:08:55.107Z"
   },
   {
    "duration": 15,
    "start_time": "2024-02-14T11:08:55.141Z"
   },
   {
    "duration": 6,
    "start_time": "2024-02-14T11:08:55.158Z"
   },
   {
    "duration": 222,
    "start_time": "2024-02-14T11:08:55.165Z"
   },
   {
    "duration": 6,
    "start_time": "2024-02-14T11:08:55.388Z"
   },
   {
    "duration": 185,
    "start_time": "2024-02-14T11:08:55.395Z"
   },
   {
    "duration": 310,
    "start_time": "2024-02-14T11:08:55.582Z"
   },
   {
    "duration": 9,
    "start_time": "2024-02-14T11:08:55.893Z"
   },
   {
    "duration": 250,
    "start_time": "2024-02-14T11:08:55.903Z"
   },
   {
    "duration": 150,
    "start_time": "2024-02-14T11:08:56.163Z"
   },
   {
    "duration": 45,
    "start_time": "2024-02-14T11:08:56.315Z"
   },
   {
    "duration": 21,
    "start_time": "2024-02-14T11:08:56.362Z"
   },
   {
    "duration": 48,
    "start_time": "2024-02-14T11:08:56.384Z"
   },
   {
    "duration": 237,
    "start_time": "2024-02-14T11:08:56.434Z"
   },
   {
    "duration": 214,
    "start_time": "2024-02-14T11:08:56.673Z"
   },
   {
    "duration": 13,
    "start_time": "2024-02-14T11:08:56.889Z"
   },
   {
    "duration": 30,
    "start_time": "2024-02-14T11:08:56.904Z"
   },
   {
    "duration": 35,
    "start_time": "2024-02-14T11:08:56.942Z"
   },
   {
    "duration": 26,
    "start_time": "2024-02-14T11:08:56.981Z"
   },
   {
    "duration": 457,
    "start_time": "2024-02-14T11:08:57.009Z"
   },
   {
    "duration": 7,
    "start_time": "2024-02-14T11:08:57.467Z"
   },
   {
    "duration": 28,
    "start_time": "2024-02-14T11:08:57.476Z"
   },
   {
    "duration": 16,
    "start_time": "2024-02-14T11:08:57.506Z"
   },
   {
    "duration": 28,
    "start_time": "2024-02-14T11:08:57.523Z"
   },
   {
    "duration": 207,
    "start_time": "2024-02-14T11:08:57.557Z"
   },
   {
    "duration": 379,
    "start_time": "2024-02-14T11:08:57.766Z"
   },
   {
    "duration": 705,
    "start_time": "2024-02-14T11:08:58.153Z"
   },
   {
    "duration": 7,
    "start_time": "2024-02-14T11:08:58.864Z"
   },
   {
    "duration": 745,
    "start_time": "2024-02-14T11:17:38.188Z"
   },
   {
    "duration": 203,
    "start_time": "2024-02-14T11:17:38.940Z"
   },
   {
    "duration": 25,
    "start_time": "2024-02-14T11:17:39.154Z"
   },
   {
    "duration": 14,
    "start_time": "2024-02-14T11:17:39.181Z"
   },
   {
    "duration": 72,
    "start_time": "2024-02-14T11:17:39.197Z"
   },
   {
    "duration": 41,
    "start_time": "2024-02-14T11:17:39.270Z"
   },
   {
    "duration": 33,
    "start_time": "2024-02-14T11:17:39.313Z"
   },
   {
    "duration": 14,
    "start_time": "2024-02-14T11:17:39.352Z"
   },
   {
    "duration": 8,
    "start_time": "2024-02-14T11:17:39.368Z"
   },
   {
    "duration": 14,
    "start_time": "2024-02-14T11:17:39.378Z"
   },
   {
    "duration": 6,
    "start_time": "2024-02-14T11:17:39.394Z"
   },
   {
    "duration": 13,
    "start_time": "2024-02-14T11:17:39.424Z"
   },
   {
    "duration": 250,
    "start_time": "2024-02-14T11:17:39.443Z"
   },
   {
    "duration": 6,
    "start_time": "2024-02-14T11:17:39.695Z"
   },
   {
    "duration": 189,
    "start_time": "2024-02-14T11:17:39.703Z"
   },
   {
    "duration": 323,
    "start_time": "2024-02-14T11:17:39.895Z"
   },
   {
    "duration": 23,
    "start_time": "2024-02-14T11:17:40.219Z"
   },
   {
    "duration": 241,
    "start_time": "2024-02-14T11:17:40.244Z"
   },
   {
    "duration": 183,
    "start_time": "2024-02-14T11:17:40.487Z"
   },
   {
    "duration": 28,
    "start_time": "2024-02-14T11:17:40.671Z"
   },
   {
    "duration": 28,
    "start_time": "2024-02-14T11:17:40.701Z"
   },
   {
    "duration": 54,
    "start_time": "2024-02-14T11:17:40.731Z"
   },
   {
    "duration": 281,
    "start_time": "2024-02-14T11:17:40.787Z"
   },
   {
    "duration": 232,
    "start_time": "2024-02-14T11:17:41.070Z"
   },
   {
    "duration": 35,
    "start_time": "2024-02-14T11:17:41.304Z"
   },
   {
    "duration": 6,
    "start_time": "2024-02-14T11:17:41.340Z"
   },
   {
    "duration": 29,
    "start_time": "2024-02-14T11:17:41.350Z"
   },
   {
    "duration": 28,
    "start_time": "2024-02-14T11:17:41.382Z"
   },
   {
    "duration": 457,
    "start_time": "2024-02-14T11:17:41.411Z"
   },
   {
    "duration": 5,
    "start_time": "2024-02-14T11:17:41.870Z"
   },
   {
    "duration": 12,
    "start_time": "2024-02-14T11:17:41.877Z"
   },
   {
    "duration": 8,
    "start_time": "2024-02-14T11:17:41.891Z"
   },
   {
    "duration": 35,
    "start_time": "2024-02-14T11:17:41.901Z"
   },
   {
    "duration": 179,
    "start_time": "2024-02-14T11:17:41.940Z"
   },
   {
    "duration": 192,
    "start_time": "2024-02-14T11:17:42.123Z"
   },
   {
    "duration": 298,
    "start_time": "2024-02-14T11:17:42.317Z"
   },
   {
    "duration": 12,
    "start_time": "2024-02-14T11:17:42.617Z"
   },
   {
    "duration": 871,
    "start_time": "2024-02-14T22:04:46.360Z"
   },
   {
    "duration": 274,
    "start_time": "2024-02-14T22:04:47.233Z"
   },
   {
    "duration": 26,
    "start_time": "2024-02-14T22:04:47.509Z"
   },
   {
    "duration": 13,
    "start_time": "2024-02-14T22:04:47.537Z"
   },
   {
    "duration": 69,
    "start_time": "2024-02-14T22:04:47.552Z"
   },
   {
    "duration": 50,
    "start_time": "2024-02-14T22:04:47.623Z"
   },
   {
    "duration": 22,
    "start_time": "2024-02-14T22:04:47.675Z"
   },
   {
    "duration": 5,
    "start_time": "2024-02-14T22:04:47.700Z"
   },
   {
    "duration": 20,
    "start_time": "2024-02-14T22:04:47.707Z"
   },
   {
    "duration": 16,
    "start_time": "2024-02-14T22:04:47.731Z"
   },
   {
    "duration": 27,
    "start_time": "2024-02-14T22:04:47.749Z"
   },
   {
    "duration": 5,
    "start_time": "2024-02-14T22:04:47.777Z"
   },
   {
    "duration": 200,
    "start_time": "2024-02-14T22:04:47.784Z"
   },
   {
    "duration": 5,
    "start_time": "2024-02-14T22:04:47.986Z"
   },
   {
    "duration": 170,
    "start_time": "2024-02-14T22:04:47.993Z"
   },
   {
    "duration": 276,
    "start_time": "2024-02-14T22:04:48.165Z"
   },
   {
    "duration": 8,
    "start_time": "2024-02-14T22:04:48.443Z"
   },
   {
    "duration": 191,
    "start_time": "2024-02-14T22:04:48.453Z"
   },
   {
    "duration": 133,
    "start_time": "2024-02-14T22:04:48.646Z"
   },
   {
    "duration": 28,
    "start_time": "2024-02-14T22:04:48.780Z"
   },
   {
    "duration": 19,
    "start_time": "2024-02-14T22:04:48.810Z"
   },
   {
    "duration": 55,
    "start_time": "2024-02-14T22:04:48.831Z"
   },
   {
    "duration": 220,
    "start_time": "2024-02-14T22:04:48.888Z"
   },
   {
    "duration": 197,
    "start_time": "2024-02-14T22:04:49.110Z"
   },
   {
    "duration": 13,
    "start_time": "2024-02-14T22:04:49.308Z"
   },
   {
    "duration": 4,
    "start_time": "2024-02-14T22:04:49.322Z"
   },
   {
    "duration": 22,
    "start_time": "2024-02-14T22:04:49.328Z"
   },
   {
    "duration": 25,
    "start_time": "2024-02-14T22:04:49.372Z"
   },
   {
    "duration": 435,
    "start_time": "2024-02-14T22:04:49.398Z"
   },
   {
    "duration": 5,
    "start_time": "2024-02-14T22:04:49.835Z"
   },
   {
    "duration": 11,
    "start_time": "2024-02-14T22:04:49.841Z"
   },
   {
    "duration": 25,
    "start_time": "2024-02-14T22:04:49.853Z"
   },
   {
    "duration": 6,
    "start_time": "2024-02-14T22:04:49.879Z"
   },
   {
    "duration": 175,
    "start_time": "2024-02-14T22:04:49.886Z"
   },
   {
    "duration": 201,
    "start_time": "2024-02-14T22:04:50.063Z"
   },
   {
    "duration": 256,
    "start_time": "2024-02-14T22:04:50.265Z"
   },
   {
    "duration": 3,
    "start_time": "2024-02-14T22:04:50.522Z"
   },
   {
    "duration": 672,
    "start_time": "2024-02-14T22:06:01.656Z"
   },
   {
    "duration": 169,
    "start_time": "2024-02-14T22:06:02.329Z"
   },
   {
    "duration": 24,
    "start_time": "2024-02-14T22:06:02.500Z"
   },
   {
    "duration": 16,
    "start_time": "2024-02-14T22:06:02.526Z"
   },
   {
    "duration": 75,
    "start_time": "2024-02-14T22:06:02.543Z"
   },
   {
    "duration": 27,
    "start_time": "2024-02-14T22:06:02.620Z"
   },
   {
    "duration": 28,
    "start_time": "2024-02-14T22:06:02.648Z"
   },
   {
    "duration": 4,
    "start_time": "2024-02-14T22:06:02.678Z"
   },
   {
    "duration": 14,
    "start_time": "2024-02-14T22:06:02.683Z"
   },
   {
    "duration": 26,
    "start_time": "2024-02-14T22:06:02.699Z"
   },
   {
    "duration": 7,
    "start_time": "2024-02-14T22:06:02.726Z"
   },
   {
    "duration": 20,
    "start_time": "2024-02-14T22:06:02.735Z"
   },
   {
    "duration": 224,
    "start_time": "2024-02-14T22:06:02.757Z"
   },
   {
    "duration": 6,
    "start_time": "2024-02-14T22:06:02.984Z"
   },
   {
    "duration": 154,
    "start_time": "2024-02-14T22:06:02.992Z"
   },
   {
    "duration": 270,
    "start_time": "2024-02-14T22:06:03.148Z"
   },
   {
    "duration": 9,
    "start_time": "2024-02-14T22:06:03.420Z"
   },
   {
    "duration": 197,
    "start_time": "2024-02-14T22:06:03.431Z"
   },
   {
    "duration": 135,
    "start_time": "2024-02-14T22:06:03.630Z"
   },
   {
    "duration": 27,
    "start_time": "2024-02-14T22:06:03.772Z"
   },
   {
    "duration": 18,
    "start_time": "2024-02-14T22:06:03.801Z"
   },
   {
    "duration": 26,
    "start_time": "2024-02-14T22:06:03.821Z"
   },
   {
    "duration": 225,
    "start_time": "2024-02-14T22:06:03.874Z"
   },
   {
    "duration": 209,
    "start_time": "2024-02-14T22:06:04.101Z"
   },
   {
    "duration": 14,
    "start_time": "2024-02-14T22:06:04.311Z"
   },
   {
    "duration": 8,
    "start_time": "2024-02-14T22:06:04.327Z"
   },
   {
    "duration": 41,
    "start_time": "2024-02-14T22:06:04.336Z"
   },
   {
    "duration": 24,
    "start_time": "2024-02-14T22:06:04.380Z"
   },
   {
    "duration": 453,
    "start_time": "2024-02-14T22:06:04.406Z"
   },
   {
    "duration": 12,
    "start_time": "2024-02-14T22:06:04.861Z"
   },
   {
    "duration": 9,
    "start_time": "2024-02-14T22:06:04.875Z"
   },
   {
    "duration": 10,
    "start_time": "2024-02-14T22:06:04.886Z"
   },
   {
    "duration": 7,
    "start_time": "2024-02-14T22:06:04.897Z"
   },
   {
    "duration": 181,
    "start_time": "2024-02-14T22:06:04.905Z"
   },
   {
    "duration": 170,
    "start_time": "2024-02-14T22:06:05.088Z"
   },
   {
    "duration": 267,
    "start_time": "2024-02-14T22:06:05.260Z"
   },
   {
    "duration": 4,
    "start_time": "2024-02-14T22:06:05.528Z"
   }
  ],
  "kernelspec": {
   "display_name": "Python [conda env:base] *",
   "language": "python",
   "name": "conda-base-py"
  },
  "language_info": {
   "codemirror_mode": {
    "name": "ipython",
    "version": 3
   },
   "file_extension": ".py",
   "mimetype": "text/x-python",
   "name": "python",
   "nbconvert_exporter": "python",
   "pygments_lexer": "ipython3",
   "version": "3.12.3"
  },
  "toc": {
   "base_numbering": 1,
   "nav_menu": {
    "height": "343px",
    "width": "308px"
   },
   "number_sections": true,
   "sideBar": true,
   "skip_h1_title": false,
   "title_cell": "Table of Contents",
   "title_sidebar": "Contents",
   "toc_cell": false,
   "toc_position": {},
   "toc_section_display": true,
   "toc_window_display": false
  }
 },
 "nbformat": 4,
 "nbformat_minor": 5
}
